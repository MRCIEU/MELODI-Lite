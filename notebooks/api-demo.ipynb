{
 "cells": [
  {
   "cell_type": "markdown",
   "metadata": {},
   "source": [
    "# MELODI Presto API Example Usage"
   ]
  },
  {
   "cell_type": "code",
   "execution_count": 1,
   "metadata": {},
   "outputs": [],
   "source": [
    "import json\n",
    "import pandas as pd\n",
    "import requests"
   ]
  },
  {
   "cell_type": "markdown",
   "metadata": {},
   "source": [
    "## Configure parameters"
   ]
  },
  {
   "cell_type": "code",
   "execution_count": 2,
   "metadata": {},
   "outputs": [
    {
     "output_type": "execute_result",
     "data": {
      "text/plain": "True"
     },
     "metadata": {},
     "execution_count": 2
    }
   ],
   "source": [
    "API_URL = \"https://melodi-presto.mrcieu.ac.uk/api/\"\n",
    "\n",
    "requests.get(f\"{API_URL}/status\").json()"
   ]
  },
  {
   "cell_type": "markdown",
   "metadata": {},
   "source": [
    "### Get enriched SemMedDB objects for a given search term\n",
    "\n",
    "Starting from a PubMed search, return all SemMedDB subject-predicate-object triples, their enrcichment metrics and publication information "
   ]
  },
  {
   "cell_type": "code",
   "execution_count": 10,
   "metadata": {},
   "outputs": [
    {
     "output_type": "execute_result",
     "data": {
      "text/plain": "                       query  \\\n0     chronic_kidney_disease   \n1     chronic_kidney_disease   \n2     chronic_kidney_disease   \n3     chronic_kidney_disease   \n4     chronic_kidney_disease   \n...                      ...   \n8526  chronic_kidney_disease   \n8527  chronic_kidney_disease   \n8528  chronic_kidney_disease   \n8529  chronic_kidney_disease   \n8530  chronic_kidney_disease   \n\n                                                 triple  \\\n0     Diabetic Nephropathy:CAUSES:End stage renal fa...   \n1          Anemia:COEXISTS_WITH:Kidney Failure, Chronic   \n2     Kidney Failure, Chronic:PREDISPOSES:Cardiovasc...   \n3     Cardiovascular Diseases:COEXISTS_WITH:Kidney F...   \n4     Hypertensive disease:COEXISTS_WITH:Kidney Fail...   \n...                                                 ...   \n8526           NPS-568:PREVENTS:Parathyroid hyperplasia   \n8527  Angiotensinogen:INTERACTS_WITH:TGFB1 protein, ...   \n8528              Cyclosporine:INHIBITS:Cytochrome P450   \n8529                   RenaGel:TREATS:Hyperphosphatemia   \n8530  Complement System Proteins:AFFECTS:Kidney Dise...   \n\n                    subject_name subject_type subject_id       predicate  \\\n0           Diabetic Nephropathy         dsyn   C0011881          CAUSES   \n1                         Anemia         dsyn   C0002871   COEXISTS_WITH   \n2        Kidney Failure, Chronic         dsyn   C0022661     PREDISPOSES   \n3        Cardiovascular Diseases         dsyn   C0007222   COEXISTS_WITH   \n4           Hypertensive disease         dsyn   C0020538   COEXISTS_WITH   \n...                          ...          ...        ...             ...   \n8526                     NPS-568         orch   C0907461        PREVENTS   \n8527             Angiotensinogen         aapp   C0003017  INTERACTS_WITH   \n8528                Cyclosporine         aapp   C0010592        INHIBITS   \n8529                     RenaGel         orch   C0526563          TREATS   \n8530  Complement System Proteins         aapp   C0009498         AFFECTS   \n\n                     object_name object_type      object_id localCount  \\\n0        End stage renal failure        dsyn       C1261469        367   \n1        Kidney Failure, Chronic        dsyn       C0022661        329   \n2        Cardiovascular Diseases        dsyn       C0007222        307   \n3        Kidney Failure, Chronic        dsyn       C0022661        297   \n4        Kidney Failure, Chronic        dsyn       C0022661        290   \n...                          ...         ...            ...        ...   \n8526     Parathyroid hyperplasia        dsyn       C0271844          2   \n8527  TGFB1 protein, human|TGFB1        aapp  C0080222|7040          2   \n8528             Cytochrome P450        aapp       C0010762          2   \n8529           Hyperphosphatemia        dsyn       C0085681          2   \n8530             Kidney Diseases        dsyn       C0022658          2   \n\n     localTotal globalCount globalTotal                odds  \\\n0         74425         886     6611441  36.364777181870636   \n1         74425         340     6611441   84.95042763144895   \n2         74425         309     6611441   87.22249078968967   \n3         74425         301     6611441   86.62406145900408   \n4         74425         298     6611441   85.43391775423662   \n...         ...         ...         ...                 ...   \n8526      74425           2     6611441   87.79071548538798   \n8527      74425           2     6611441   87.79071548538798   \n8528      74425           5     6611441   35.11628619415519   \n8529      74425           4     6611441   43.89535774269399   \n8530      74425          28     6611441   6.270765391813427   \n\n                       pval                                              pmids  \n0                       0.0  29080119 19414963 25193923 29629274 11352187 2...  \n1                       0.0  16498815 30108502 2648520 29225817 9375826 226...  \n2                       0.0  24800495 16609298 27865823 21422054 18786751 2...  \n3                       0.0  16609298 23115140 28228293 20586894 20682604 2...  \n4                       0.0  21393360 23154587 5376775 27932204 20339374 20...  \n...                     ...                                                ...  \n8526  0.0007497044125845847                                           10620187  \n8527  0.0007497044125845847                                           15698429  \n8528   0.002565466764230501                                            9648082  \n8529   0.001846286743093013                                            9988142  \n8530    0.04480331343710887                                           10594785  \n\n[8531 rows x 16 columns]",
      "text/html": "<div>\n<style scoped>\n    .dataframe tbody tr th:only-of-type {\n        vertical-align: middle;\n    }\n\n    .dataframe tbody tr th {\n        vertical-align: top;\n    }\n\n    .dataframe thead th {\n        text-align: right;\n    }\n</style>\n<table border=\"1\" class=\"dataframe\">\n  <thead>\n    <tr style=\"text-align: right;\">\n      <th></th>\n      <th>query</th>\n      <th>triple</th>\n      <th>subject_name</th>\n      <th>subject_type</th>\n      <th>subject_id</th>\n      <th>predicate</th>\n      <th>object_name</th>\n      <th>object_type</th>\n      <th>object_id</th>\n      <th>localCount</th>\n      <th>localTotal</th>\n      <th>globalCount</th>\n      <th>globalTotal</th>\n      <th>odds</th>\n      <th>pval</th>\n      <th>pmids</th>\n    </tr>\n  </thead>\n  <tbody>\n    <tr>\n      <th>0</th>\n      <td>chronic_kidney_disease</td>\n      <td>Diabetic Nephropathy:CAUSES:End stage renal fa...</td>\n      <td>Diabetic Nephropathy</td>\n      <td>dsyn</td>\n      <td>C0011881</td>\n      <td>CAUSES</td>\n      <td>End stage renal failure</td>\n      <td>dsyn</td>\n      <td>C1261469</td>\n      <td>367</td>\n      <td>74425</td>\n      <td>886</td>\n      <td>6611441</td>\n      <td>36.364777181870636</td>\n      <td>0.0</td>\n      <td>29080119 19414963 25193923 29629274 11352187 2...</td>\n    </tr>\n    <tr>\n      <th>1</th>\n      <td>chronic_kidney_disease</td>\n      <td>Anemia:COEXISTS_WITH:Kidney Failure, Chronic</td>\n      <td>Anemia</td>\n      <td>dsyn</td>\n      <td>C0002871</td>\n      <td>COEXISTS_WITH</td>\n      <td>Kidney Failure, Chronic</td>\n      <td>dsyn</td>\n      <td>C0022661</td>\n      <td>329</td>\n      <td>74425</td>\n      <td>340</td>\n      <td>6611441</td>\n      <td>84.95042763144895</td>\n      <td>0.0</td>\n      <td>16498815 30108502 2648520 29225817 9375826 226...</td>\n    </tr>\n    <tr>\n      <th>2</th>\n      <td>chronic_kidney_disease</td>\n      <td>Kidney Failure, Chronic:PREDISPOSES:Cardiovasc...</td>\n      <td>Kidney Failure, Chronic</td>\n      <td>dsyn</td>\n      <td>C0022661</td>\n      <td>PREDISPOSES</td>\n      <td>Cardiovascular Diseases</td>\n      <td>dsyn</td>\n      <td>C0007222</td>\n      <td>307</td>\n      <td>74425</td>\n      <td>309</td>\n      <td>6611441</td>\n      <td>87.22249078968967</td>\n      <td>0.0</td>\n      <td>24800495 16609298 27865823 21422054 18786751 2...</td>\n    </tr>\n    <tr>\n      <th>3</th>\n      <td>chronic_kidney_disease</td>\n      <td>Cardiovascular Diseases:COEXISTS_WITH:Kidney F...</td>\n      <td>Cardiovascular Diseases</td>\n      <td>dsyn</td>\n      <td>C0007222</td>\n      <td>COEXISTS_WITH</td>\n      <td>Kidney Failure, Chronic</td>\n      <td>dsyn</td>\n      <td>C0022661</td>\n      <td>297</td>\n      <td>74425</td>\n      <td>301</td>\n      <td>6611441</td>\n      <td>86.62406145900408</td>\n      <td>0.0</td>\n      <td>16609298 23115140 28228293 20586894 20682604 2...</td>\n    </tr>\n    <tr>\n      <th>4</th>\n      <td>chronic_kidney_disease</td>\n      <td>Hypertensive disease:COEXISTS_WITH:Kidney Fail...</td>\n      <td>Hypertensive disease</td>\n      <td>dsyn</td>\n      <td>C0020538</td>\n      <td>COEXISTS_WITH</td>\n      <td>Kidney Failure, Chronic</td>\n      <td>dsyn</td>\n      <td>C0022661</td>\n      <td>290</td>\n      <td>74425</td>\n      <td>298</td>\n      <td>6611441</td>\n      <td>85.43391775423662</td>\n      <td>0.0</td>\n      <td>21393360 23154587 5376775 27932204 20339374 20...</td>\n    </tr>\n    <tr>\n      <th>...</th>\n      <td>...</td>\n      <td>...</td>\n      <td>...</td>\n      <td>...</td>\n      <td>...</td>\n      <td>...</td>\n      <td>...</td>\n      <td>...</td>\n      <td>...</td>\n      <td>...</td>\n      <td>...</td>\n      <td>...</td>\n      <td>...</td>\n      <td>...</td>\n      <td>...</td>\n      <td>...</td>\n    </tr>\n    <tr>\n      <th>8526</th>\n      <td>chronic_kidney_disease</td>\n      <td>NPS-568:PREVENTS:Parathyroid hyperplasia</td>\n      <td>NPS-568</td>\n      <td>orch</td>\n      <td>C0907461</td>\n      <td>PREVENTS</td>\n      <td>Parathyroid hyperplasia</td>\n      <td>dsyn</td>\n      <td>C0271844</td>\n      <td>2</td>\n      <td>74425</td>\n      <td>2</td>\n      <td>6611441</td>\n      <td>87.79071548538798</td>\n      <td>0.0007497044125845847</td>\n      <td>10620187</td>\n    </tr>\n    <tr>\n      <th>8527</th>\n      <td>chronic_kidney_disease</td>\n      <td>Angiotensinogen:INTERACTS_WITH:TGFB1 protein, ...</td>\n      <td>Angiotensinogen</td>\n      <td>aapp</td>\n      <td>C0003017</td>\n      <td>INTERACTS_WITH</td>\n      <td>TGFB1 protein, human|TGFB1</td>\n      <td>aapp</td>\n      <td>C0080222|7040</td>\n      <td>2</td>\n      <td>74425</td>\n      <td>2</td>\n      <td>6611441</td>\n      <td>87.79071548538798</td>\n      <td>0.0007497044125845847</td>\n      <td>15698429</td>\n    </tr>\n    <tr>\n      <th>8528</th>\n      <td>chronic_kidney_disease</td>\n      <td>Cyclosporine:INHIBITS:Cytochrome P450</td>\n      <td>Cyclosporine</td>\n      <td>aapp</td>\n      <td>C0010592</td>\n      <td>INHIBITS</td>\n      <td>Cytochrome P450</td>\n      <td>aapp</td>\n      <td>C0010762</td>\n      <td>2</td>\n      <td>74425</td>\n      <td>5</td>\n      <td>6611441</td>\n      <td>35.11628619415519</td>\n      <td>0.002565466764230501</td>\n      <td>9648082</td>\n    </tr>\n    <tr>\n      <th>8529</th>\n      <td>chronic_kidney_disease</td>\n      <td>RenaGel:TREATS:Hyperphosphatemia</td>\n      <td>RenaGel</td>\n      <td>orch</td>\n      <td>C0526563</td>\n      <td>TREATS</td>\n      <td>Hyperphosphatemia</td>\n      <td>dsyn</td>\n      <td>C0085681</td>\n      <td>2</td>\n      <td>74425</td>\n      <td>4</td>\n      <td>6611441</td>\n      <td>43.89535774269399</td>\n      <td>0.001846286743093013</td>\n      <td>9988142</td>\n    </tr>\n    <tr>\n      <th>8530</th>\n      <td>chronic_kidney_disease</td>\n      <td>Complement System Proteins:AFFECTS:Kidney Dise...</td>\n      <td>Complement System Proteins</td>\n      <td>aapp</td>\n      <td>C0009498</td>\n      <td>AFFECTS</td>\n      <td>Kidney Diseases</td>\n      <td>dsyn</td>\n      <td>C0022658</td>\n      <td>2</td>\n      <td>74425</td>\n      <td>28</td>\n      <td>6611441</td>\n      <td>6.270765391813427</td>\n      <td>0.04480331343710887</td>\n      <td>10594785</td>\n    </tr>\n  </tbody>\n</table>\n<p>8531 rows × 16 columns</p>\n</div>"
     },
     "metadata": {},
     "execution_count": 10
    }
   ],
   "source": [
    "query_term='chronic kidney disease'\n",
    "\n",
    "endpoint = \"/enrich/\"\n",
    "url = f\"{API_URL}{endpoint}\"\n",
    "params = {\n",
    "    \"query\": query_term,\n",
    "}\n",
    "response = requests.post(url, data=json.dumps(params))\n",
    "res = response.json()\n",
    "enrich_df = (\n",
    "        pd.json_normalize(res)\n",
    ")\n",
    "enrich_df"
   ]
  },
  {
   "cell_type": "markdown",
   "metadata": {},
   "source": [
    "### Overlapping terms\n",
    "\n",
    "We can provide two lists of query terms and identify overlapping data"
   ]
  },
  {
   "cell_type": "code",
   "execution_count": 11,
   "metadata": {},
   "outputs": [
    {
     "output_type": "execute_result",
     "data": {
      "text/plain": "                                         triple_x       subject_name_x  \\\n0     MLH1 gene|MLH1:COEXISTS_WITH:MSH2 gene|MSH2       MLH1 gene|MLH1   \n1     MLH1 gene|MLH1:COEXISTS_WITH:MSH2 gene|MSH2       MLH1 gene|MLH1   \n2     MLH1 gene|MLH1:COEXISTS_WITH:MSH2 gene|MSH2       MLH1 gene|MLH1   \n3     MLH1 gene|MLH1:COEXISTS_WITH:MSH2 gene|MSH2       MLH1 gene|MLH1   \n4     MLH1 gene|MLH1:COEXISTS_WITH:MSH2 gene|MSH2       MLH1 gene|MLH1   \n...                                           ...                  ...   \n1557               Anthocyanins:COEXISTS_WITH:APC         Anthocyanins   \n1558                 Protein C:INTERACTS_WITH:APC            Protein C   \n1559        Phosphotransferases:COEXISTS_WITH:APC  Phosphotransferases   \n1560                       Factor Va:INHIBITS:APC            Factor Va   \n1561            beta catenin:STIMULATES:Oncogenes         beta catenin   \n\n     subject_type_x   subject_id_x     predicate_x   object_name_x  \\\n0              gngm  C0879389|4292   COEXISTS_WITH  MSH2 gene|MSH2   \n1              gngm  C0879389|4292   COEXISTS_WITH  MSH2 gene|MSH2   \n2              gngm  C0879389|4292   COEXISTS_WITH  MSH2 gene|MSH2   \n3              gngm  C0879389|4292   COEXISTS_WITH  MSH2 gene|MSH2   \n4              gngm  C0879389|4292   COEXISTS_WITH  MSH2 gene|MSH2   \n...             ...            ...             ...             ...   \n1557           orch       C0003161   COEXISTS_WITH             APC   \n1558           aapp       C0033621  INTERACTS_WITH             APC   \n1559           aapp       C0031727   COEXISTS_WITH             APC   \n1560           aapp       C0015501        INHIBITS             APC   \n1561           aapp       C0105770      STIMULATES       Oncogenes   \n\n     object_type_x    object_id_x  localCount_x  localTotal_x  ...  \\\n0             gngm  C0879290|4436            46          1754  ...   \n1             gngm  C0879290|4436            46          1754  ...   \n2             gngm  C0879290|4436            46          1754  ...   \n3             gngm  C0879290|4436            46          1754  ...   \n4             gngm  C0879290|4436            46          1754  ...   \n...            ...            ...           ...           ...  ...   \n1557          gngm            324             3         19358  ...   \n1558          gngm            324             3         19358  ...   \n1559          gngm            324             3         19358  ...   \n1560          gngm            324             3         19358  ...   \n1561          gngm       C0029016             3         19358  ...   \n\n      object_type_y    object_id_y  localCount_y  localTotal_y globalCount_y  \\\n0              gngm  C0879389|4292            28           583            30   \n1              gngm  C0879393|2956            15           583            22   \n2              dsyn       C0039082             8           583             9   \n3              dsyn       C0039082             6           583             9   \n4              gngm  C0879389|4292             6           583             8   \n...             ...            ...           ...           ...           ...   \n1557           orch       C0038792             2           583             3   \n1558           orch       C0038792             2           583             3   \n1559           orch       C0038792             2           583             3   \n1560           orch       C0038792             2           583             3   \n1561           gngm       C0079427             3           583            62   \n\n     globalTotal_y        odds_y        pval_y  \\\n0          6611441  10460.095597  2.359079e-97   \n1          6611441   7641.303602  2.071033e-51   \n2          6611441   9961.995807  1.037182e-28   \n3          6611441   7471.496855  2.614930e-21   \n4          6611441   8405.433962  1.569080e-21   \n...            ...           ...           ...   \n1557       6611441   7471.496855  8.000000e-08   \n1558       6611441   7471.496855  8.000000e-08   \n1559       6611441   7471.496855  8.000000e-08   \n1560       6611441   7471.496855  8.000000e-08   \n1561       6611441    542.286062  3.120000e-08   \n\n                                                pmids_y  \\\n0     18301449 15949572 12655564 19930554 16830052 8...   \n1     25106712 14961575 20924129 26248088 25701956 1...   \n2     19900449 22361722 16500024 23729658 9538124 15...   \n3     25701956 26746812 25319978 17278092 18709565 1...   \n4                            14574010 23091106 11600610   \n...                                                 ...   \n1557                                           19755659   \n1558                                           19755659   \n1559                                           19755659   \n1560                                           19755659   \n1561                            1580606 8898451 8600059   \n\n                                      set_y  \n0     hereditary_non-polyposis_colon_cancer  \n1     hereditary_non-polyposis_colon_cancer  \n2     hereditary_non-polyposis_colon_cancer  \n3     hereditary_non-polyposis_colon_cancer  \n4     hereditary_non-polyposis_colon_cancer  \n...                                     ...  \n1557  hereditary_non-polyposis_colon_cancer  \n1558  hereditary_non-polyposis_colon_cancer  \n1559  hereditary_non-polyposis_colon_cancer  \n1560  hereditary_non-polyposis_colon_cancer  \n1561  hereditary_non-polyposis_colon_cancer  \n\n[1562 rows x 32 columns]",
      "text/html": "<div>\n<style scoped>\n    .dataframe tbody tr th:only-of-type {\n        vertical-align: middle;\n    }\n\n    .dataframe tbody tr th {\n        vertical-align: top;\n    }\n\n    .dataframe thead th {\n        text-align: right;\n    }\n</style>\n<table border=\"1\" class=\"dataframe\">\n  <thead>\n    <tr style=\"text-align: right;\">\n      <th></th>\n      <th>triple_x</th>\n      <th>subject_name_x</th>\n      <th>subject_type_x</th>\n      <th>subject_id_x</th>\n      <th>predicate_x</th>\n      <th>object_name_x</th>\n      <th>object_type_x</th>\n      <th>object_id_x</th>\n      <th>localCount_x</th>\n      <th>localTotal_x</th>\n      <th>...</th>\n      <th>object_type_y</th>\n      <th>object_id_y</th>\n      <th>localCount_y</th>\n      <th>localTotal_y</th>\n      <th>globalCount_y</th>\n      <th>globalTotal_y</th>\n      <th>odds_y</th>\n      <th>pval_y</th>\n      <th>pmids_y</th>\n      <th>set_y</th>\n    </tr>\n  </thead>\n  <tbody>\n    <tr>\n      <th>0</th>\n      <td>MLH1 gene|MLH1:COEXISTS_WITH:MSH2 gene|MSH2</td>\n      <td>MLH1 gene|MLH1</td>\n      <td>gngm</td>\n      <td>C0879389|4292</td>\n      <td>COEXISTS_WITH</td>\n      <td>MSH2 gene|MSH2</td>\n      <td>gngm</td>\n      <td>C0879290|4436</td>\n      <td>46</td>\n      <td>1754</td>\n      <td>...</td>\n      <td>gngm</td>\n      <td>C0879389|4292</td>\n      <td>28</td>\n      <td>583</td>\n      <td>30</td>\n      <td>6611441</td>\n      <td>10460.095597</td>\n      <td>2.359079e-97</td>\n      <td>18301449 15949572 12655564 19930554 16830052 8...</td>\n      <td>hereditary_non-polyposis_colon_cancer</td>\n    </tr>\n    <tr>\n      <th>1</th>\n      <td>MLH1 gene|MLH1:COEXISTS_WITH:MSH2 gene|MSH2</td>\n      <td>MLH1 gene|MLH1</td>\n      <td>gngm</td>\n      <td>C0879389|4292</td>\n      <td>COEXISTS_WITH</td>\n      <td>MSH2 gene|MSH2</td>\n      <td>gngm</td>\n      <td>C0879290|4436</td>\n      <td>46</td>\n      <td>1754</td>\n      <td>...</td>\n      <td>gngm</td>\n      <td>C0879393|2956</td>\n      <td>15</td>\n      <td>583</td>\n      <td>22</td>\n      <td>6611441</td>\n      <td>7641.303602</td>\n      <td>2.071033e-51</td>\n      <td>25106712 14961575 20924129 26248088 25701956 1...</td>\n      <td>hereditary_non-polyposis_colon_cancer</td>\n    </tr>\n    <tr>\n      <th>2</th>\n      <td>MLH1 gene|MLH1:COEXISTS_WITH:MSH2 gene|MSH2</td>\n      <td>MLH1 gene|MLH1</td>\n      <td>gngm</td>\n      <td>C0879389|4292</td>\n      <td>COEXISTS_WITH</td>\n      <td>MSH2 gene|MSH2</td>\n      <td>gngm</td>\n      <td>C0879290|4436</td>\n      <td>46</td>\n      <td>1754</td>\n      <td>...</td>\n      <td>dsyn</td>\n      <td>C0039082</td>\n      <td>8</td>\n      <td>583</td>\n      <td>9</td>\n      <td>6611441</td>\n      <td>9961.995807</td>\n      <td>1.037182e-28</td>\n      <td>19900449 22361722 16500024 23729658 9538124 15...</td>\n      <td>hereditary_non-polyposis_colon_cancer</td>\n    </tr>\n    <tr>\n      <th>3</th>\n      <td>MLH1 gene|MLH1:COEXISTS_WITH:MSH2 gene|MSH2</td>\n      <td>MLH1 gene|MLH1</td>\n      <td>gngm</td>\n      <td>C0879389|4292</td>\n      <td>COEXISTS_WITH</td>\n      <td>MSH2 gene|MSH2</td>\n      <td>gngm</td>\n      <td>C0879290|4436</td>\n      <td>46</td>\n      <td>1754</td>\n      <td>...</td>\n      <td>dsyn</td>\n      <td>C0039082</td>\n      <td>6</td>\n      <td>583</td>\n      <td>9</td>\n      <td>6611441</td>\n      <td>7471.496855</td>\n      <td>2.614930e-21</td>\n      <td>25701956 26746812 25319978 17278092 18709565 1...</td>\n      <td>hereditary_non-polyposis_colon_cancer</td>\n    </tr>\n    <tr>\n      <th>4</th>\n      <td>MLH1 gene|MLH1:COEXISTS_WITH:MSH2 gene|MSH2</td>\n      <td>MLH1 gene|MLH1</td>\n      <td>gngm</td>\n      <td>C0879389|4292</td>\n      <td>COEXISTS_WITH</td>\n      <td>MSH2 gene|MSH2</td>\n      <td>gngm</td>\n      <td>C0879290|4436</td>\n      <td>46</td>\n      <td>1754</td>\n      <td>...</td>\n      <td>gngm</td>\n      <td>C0879389|4292</td>\n      <td>6</td>\n      <td>583</td>\n      <td>8</td>\n      <td>6611441</td>\n      <td>8405.433962</td>\n      <td>1.569080e-21</td>\n      <td>14574010 23091106 11600610</td>\n      <td>hereditary_non-polyposis_colon_cancer</td>\n    </tr>\n    <tr>\n      <th>...</th>\n      <td>...</td>\n      <td>...</td>\n      <td>...</td>\n      <td>...</td>\n      <td>...</td>\n      <td>...</td>\n      <td>...</td>\n      <td>...</td>\n      <td>...</td>\n      <td>...</td>\n      <td>...</td>\n      <td>...</td>\n      <td>...</td>\n      <td>...</td>\n      <td>...</td>\n      <td>...</td>\n      <td>...</td>\n      <td>...</td>\n      <td>...</td>\n      <td>...</td>\n      <td>...</td>\n    </tr>\n    <tr>\n      <th>1557</th>\n      <td>Anthocyanins:COEXISTS_WITH:APC</td>\n      <td>Anthocyanins</td>\n      <td>orch</td>\n      <td>C0003161</td>\n      <td>COEXISTS_WITH</td>\n      <td>APC</td>\n      <td>gngm</td>\n      <td>324</td>\n      <td>3</td>\n      <td>19358</td>\n      <td>...</td>\n      <td>orch</td>\n      <td>C0038792</td>\n      <td>2</td>\n      <td>583</td>\n      <td>3</td>\n      <td>6611441</td>\n      <td>7471.496855</td>\n      <td>8.000000e-08</td>\n      <td>19755659</td>\n      <td>hereditary_non-polyposis_colon_cancer</td>\n    </tr>\n    <tr>\n      <th>1558</th>\n      <td>Protein C:INTERACTS_WITH:APC</td>\n      <td>Protein C</td>\n      <td>aapp</td>\n      <td>C0033621</td>\n      <td>INTERACTS_WITH</td>\n      <td>APC</td>\n      <td>gngm</td>\n      <td>324</td>\n      <td>3</td>\n      <td>19358</td>\n      <td>...</td>\n      <td>orch</td>\n      <td>C0038792</td>\n      <td>2</td>\n      <td>583</td>\n      <td>3</td>\n      <td>6611441</td>\n      <td>7471.496855</td>\n      <td>8.000000e-08</td>\n      <td>19755659</td>\n      <td>hereditary_non-polyposis_colon_cancer</td>\n    </tr>\n    <tr>\n      <th>1559</th>\n      <td>Phosphotransferases:COEXISTS_WITH:APC</td>\n      <td>Phosphotransferases</td>\n      <td>aapp</td>\n      <td>C0031727</td>\n      <td>COEXISTS_WITH</td>\n      <td>APC</td>\n      <td>gngm</td>\n      <td>324</td>\n      <td>3</td>\n      <td>19358</td>\n      <td>...</td>\n      <td>orch</td>\n      <td>C0038792</td>\n      <td>2</td>\n      <td>583</td>\n      <td>3</td>\n      <td>6611441</td>\n      <td>7471.496855</td>\n      <td>8.000000e-08</td>\n      <td>19755659</td>\n      <td>hereditary_non-polyposis_colon_cancer</td>\n    </tr>\n    <tr>\n      <th>1560</th>\n      <td>Factor Va:INHIBITS:APC</td>\n      <td>Factor Va</td>\n      <td>aapp</td>\n      <td>C0015501</td>\n      <td>INHIBITS</td>\n      <td>APC</td>\n      <td>gngm</td>\n      <td>324</td>\n      <td>3</td>\n      <td>19358</td>\n      <td>...</td>\n      <td>orch</td>\n      <td>C0038792</td>\n      <td>2</td>\n      <td>583</td>\n      <td>3</td>\n      <td>6611441</td>\n      <td>7471.496855</td>\n      <td>8.000000e-08</td>\n      <td>19755659</td>\n      <td>hereditary_non-polyposis_colon_cancer</td>\n    </tr>\n    <tr>\n      <th>1561</th>\n      <td>beta catenin:STIMULATES:Oncogenes</td>\n      <td>beta catenin</td>\n      <td>aapp</td>\n      <td>C0105770</td>\n      <td>STIMULATES</td>\n      <td>Oncogenes</td>\n      <td>gngm</td>\n      <td>C0029016</td>\n      <td>3</td>\n      <td>19358</td>\n      <td>...</td>\n      <td>gngm</td>\n      <td>C0079427</td>\n      <td>3</td>\n      <td>583</td>\n      <td>62</td>\n      <td>6611441</td>\n      <td>542.286062</td>\n      <td>3.120000e-08</td>\n      <td>1580606 8898451 8600059</td>\n      <td>hereditary_non-polyposis_colon_cancer</td>\n    </tr>\n  </tbody>\n</table>\n<p>1562 rows × 32 columns</p>\n</div>"
     },
     "metadata": {},
     "execution_count": 11
    }
   ],
   "source": [
    "x=['MLH1','MSH2','MLH3','MSH6','PMS1','PMS2','APC']\n",
    "y=['Hereditary non-polyposis colon cancer']\n",
    "\n",
    "endpoint = \"/overlap/\"\n",
    "url = f\"{API_URL}{endpoint}\"\n",
    "params = {\n",
    "    \"x\": x,\n",
    "    \"y\": y,\n",
    "}\n",
    "response = requests.post(url, data=json.dumps(params))\n",
    "res = response.json()\n",
    "overlap_df = (\n",
    "    pd.json_normalize(res['data'])\n",
    ")\n",
    "overlap_df"
   ]
  },
  {
   "cell_type": "markdown",
   "metadata": {},
   "source": [
    "Look at the overlapping data in more detail"
   ]
  },
  {
   "cell_type": "code",
   "execution_count": 12,
   "metadata": {},
   "outputs": [
    {
     "output_type": "execute_result",
     "data": {
      "text/plain": "object_type_x  object_name_x       \naapp           MLH1 gene|MLH1           66\n               beta catenin             33\n               APC                       3\ngngm           MLH1 gene|MLH1          572\n               MSH2 gene|MSH2          572\n               MSH6 gene|MSH6          132\n               PMS2 gene|PMS2          100\n               APC                      58\n               beta catenin             16\n               DNA Repair Gene           4\n               TACSTD2 gene|TACSTD2      3\n               Oncogenes                 1\norch           Sulindac                  2\nName: object_name_x, dtype: int64"
     },
     "metadata": {},
     "execution_count": 12
    }
   ],
   "source": [
    "overlap_counts = overlap_df.groupby('object_type_x')['object_name_x'].value_counts()\n",
    "overlap_counts"
   ]
  },
  {
   "cell_type": "markdown",
   "metadata": {},
   "source": [
    "### Publicaton data\n",
    "\n",
    "We can retrive the SemMedDB data for a give PubMed ID"
   ]
  },
  {
   "cell_type": "code",
   "execution_count": 13,
   "metadata": {},
   "outputs": [
    {
     "output_type": "execute_result",
     "data": {
      "text/plain": "  PREDICATION_ID SENTENCE_ID      PMID       PREDICATE    SUBJECT_CUI  \\\n0      131291271   124272128  19755659  INTERACTS_WITH  C0879389|4292   \n1      131291235   124272128  19755659  INTERACTS_WITH            324   \n2      131291696   124272130  19755659  INTERACTS_WITH            324   \n\n     SUBJECT_NAME SUBJECT_SEMTYPE  SUBJECT_NOVELTY OBJECT_CUI OBJECT_NAME  \\\n0  MLH1 gene|MLH1            gngm                1   C0038792    Sulindac   \n1             APC            gngm                1   C0038792    Sulindac   \n2             APC            gngm                1   C0038792    Sulindac   \n\n  OBJECT_SEMTYPE  OBJECT_NOVELTY                            SUB_PRED_OBJ  \\\n0           orch               1  MLH1 gene|MLH1:INTERACTS_WITH:Sulindac   \n1           orch               1             APC:INTERACTS_WITH:Sulindac   \n2           orch               1             APC:INTERACTS_WITH:Sulindac   \n\n  NORMALIZED_SECTION_HEADER SECTION_HEADER SENT_START_INDEX  \\\n0                    \"\"\"\"\"\"         \"\"\"\"\"\"               21   \n1                    \"\"\"\"\"\"         \"\"\"\"\"\"               21   \n2                    \"\"\"\"\"\"         \"\"\"\"\"\"              367   \n\n                                            SENTENCE TYPE NUMBER  \\\n0  Sulindac effects on inflammation and tumorigen...   ti      1   \n1  Sulindac effects on inflammation and tumorigen...   ti      1   \n2  To further explore intestinal regional respons...   ab      2   \n\n  SENT_END_INDEX  \n0            126  \n1            126  \n2            802  ",
      "text/html": "<div>\n<style scoped>\n    .dataframe tbody tr th:only-of-type {\n        vertical-align: middle;\n    }\n\n    .dataframe tbody tr th {\n        vertical-align: top;\n    }\n\n    .dataframe thead th {\n        text-align: right;\n    }\n</style>\n<table border=\"1\" class=\"dataframe\">\n  <thead>\n    <tr style=\"text-align: right;\">\n      <th></th>\n      <th>PREDICATION_ID</th>\n      <th>SENTENCE_ID</th>\n      <th>PMID</th>\n      <th>PREDICATE</th>\n      <th>SUBJECT_CUI</th>\n      <th>SUBJECT_NAME</th>\n      <th>SUBJECT_SEMTYPE</th>\n      <th>SUBJECT_NOVELTY</th>\n      <th>OBJECT_CUI</th>\n      <th>OBJECT_NAME</th>\n      <th>OBJECT_SEMTYPE</th>\n      <th>OBJECT_NOVELTY</th>\n      <th>SUB_PRED_OBJ</th>\n      <th>NORMALIZED_SECTION_HEADER</th>\n      <th>SECTION_HEADER</th>\n      <th>SENT_START_INDEX</th>\n      <th>SENTENCE</th>\n      <th>TYPE</th>\n      <th>NUMBER</th>\n      <th>SENT_END_INDEX</th>\n    </tr>\n  </thead>\n  <tbody>\n    <tr>\n      <th>0</th>\n      <td>131291271</td>\n      <td>124272128</td>\n      <td>19755659</td>\n      <td>INTERACTS_WITH</td>\n      <td>C0879389|4292</td>\n      <td>MLH1 gene|MLH1</td>\n      <td>gngm</td>\n      <td>1</td>\n      <td>C0038792</td>\n      <td>Sulindac</td>\n      <td>orch</td>\n      <td>1</td>\n      <td>MLH1 gene|MLH1:INTERACTS_WITH:Sulindac</td>\n      <td>\"\"\"\"\"\"</td>\n      <td>\"\"\"\"\"\"</td>\n      <td>21</td>\n      <td>Sulindac effects on inflammation and tumorigen...</td>\n      <td>ti</td>\n      <td>1</td>\n      <td>126</td>\n    </tr>\n    <tr>\n      <th>1</th>\n      <td>131291235</td>\n      <td>124272128</td>\n      <td>19755659</td>\n      <td>INTERACTS_WITH</td>\n      <td>324</td>\n      <td>APC</td>\n      <td>gngm</td>\n      <td>1</td>\n      <td>C0038792</td>\n      <td>Sulindac</td>\n      <td>orch</td>\n      <td>1</td>\n      <td>APC:INTERACTS_WITH:Sulindac</td>\n      <td>\"\"\"\"\"\"</td>\n      <td>\"\"\"\"\"\"</td>\n      <td>21</td>\n      <td>Sulindac effects on inflammation and tumorigen...</td>\n      <td>ti</td>\n      <td>1</td>\n      <td>126</td>\n    </tr>\n    <tr>\n      <th>2</th>\n      <td>131291696</td>\n      <td>124272130</td>\n      <td>19755659</td>\n      <td>INTERACTS_WITH</td>\n      <td>324</td>\n      <td>APC</td>\n      <td>gngm</td>\n      <td>1</td>\n      <td>C0038792</td>\n      <td>Sulindac</td>\n      <td>orch</td>\n      <td>1</td>\n      <td>APC:INTERACTS_WITH:Sulindac</td>\n      <td>\"\"\"\"\"\"</td>\n      <td>\"\"\"\"\"\"</td>\n      <td>367</td>\n      <td>To further explore intestinal regional respons...</td>\n      <td>ab</td>\n      <td>2</td>\n      <td>802</td>\n    </tr>\n  </tbody>\n</table>\n</div>"
     },
     "metadata": {},
     "execution_count": 13
    }
   ],
   "source": [
    "pmid = '19755659'\n",
    "endpoint = \"/sentence/\"\n",
    "url = f\"{API_URL}{endpoint}\"\n",
    "params = {\n",
    "    \"pmid\": pmid,\n",
    "}\n",
    "response = requests.post(url, data=json.dumps(params))\n",
    "res = response.json()\n",
    "pub_df = (\n",
    "    pd.json_normalize(res['data'])\n",
    ")\n",
    "pub_df"
   ]
  },
  {
   "cell_type": "code",
   "execution_count": null,
   "metadata": {},
   "outputs": [],
   "source": []
  }
 ],
 "metadata": {
  "kernelspec": {
   "display_name": "firstEnv",
   "language": "python",
   "name": "firstenv"
  },
  "language_info": {
   "codemirror_mode": {
    "name": "ipython",
    "version": 3
   },
   "file_extension": ".py",
   "mimetype": "text/x-python",
   "name": "python",
   "nbconvert_exporter": "python",
   "pygments_lexer": "ipython3",
   "version": "3.6.9-final"
  }
 },
 "nbformat": 4,
 "nbformat_minor": 4
}