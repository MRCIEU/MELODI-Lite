{
 "cells": [
  {
   "cell_type": "markdown",
   "metadata": {},
   "source": [
    "# MELODI Presto API Example Usage"
   ]
  },
  {
   "cell_type": "code",
   "execution_count": 1,
   "metadata": {},
   "outputs": [],
   "source": [
    "import json\n",
    "import pandas as pd\n",
    "import requests"
   ]
  },
  {
   "cell_type": "markdown",
   "metadata": {},
   "source": [
    "## Configure parameters"
   ]
  },
  {
   "cell_type": "code",
   "execution_count": 2,
   "metadata": {},
   "outputs": [
    {
     "output_type": "execute_result",
     "data": {
      "text/plain": "True"
     },
     "metadata": {},
     "execution_count": 2
    }
   ],
   "source": [
    "API_URL = \"https://melodi-presto.mrcieu.ac.uk/api/\"\n",
    "\n",
    "requests.get(f\"{API_URL}/status\").json()"
   ]
  },
  {
   "cell_type": "markdown",
   "metadata": {},
   "source": [
    "### Get enriched SemMedDB objects for a given search term\n",
    "\n",
    "Starting from a PubMed search, return all SemMedDB subject-predicate-object triples, their enrcichment metrics and publication information "
   ]
  },
  {
   "cell_type": "code",
   "execution_count": 3,
   "metadata": {},
   "outputs": [
    {
     "output_type": "stream",
     "name": "stdout",
     "text": "query  \\\n0     chronic_kidney_disease   \n1     chronic_kidney_disease   \n2     chronic_kidney_disease   \n3     chronic_kidney_disease   \n4     chronic_kidney_disease   \n...                      ...   \n8526  chronic_kidney_disease   \n8527  chronic_kidney_disease   \n8528  chronic_kidney_disease   \n8529  chronic_kidney_disease   \n8530  chronic_kidney_disease   \n\n                                                 triple  \\\n0     Diabetic Nephropathy:CAUSES:End stage renal fa...   \n1          Anemia:COEXISTS_WITH:Kidney Failure, Chronic   \n2     Kidney Failure, Chronic:PREDISPOSES:Cardiovasc...   \n3     Cardiovascular Diseases:COEXISTS_WITH:Kidney F...   \n4     Hypertensive disease:COEXISTS_WITH:Kidney Fail...   \n...                                                 ...   \n8526           NPS-568:PREVENTS:Parathyroid hyperplasia   \n8527  Angiotensinogen:INTERACTS_WITH:TGFB1 protein, ...   \n8528              Cyclosporine:INHIBITS:Cytochrome P450   \n8529                   RenaGel:TREATS:Hyperphosphatemia   \n8530  Complement System Proteins:AFFECTS:Kidney Dise...   \n\n                    subject_name subject_type subject_id       predicate  \\\n0           Diabetic Nephropathy         dsyn   C0011881          CAUSES   \n1                         Anemia         dsyn   C0002871   COEXISTS_WITH   \n2        Kidney Failure, Chronic         dsyn   C0022661     PREDISPOSES   \n3        Cardiovascular Diseases         dsyn   C0007222   COEXISTS_WITH   \n4           Hypertensive disease         dsyn   C0020538   COEXISTS_WITH   \n...                          ...          ...        ...             ...   \n8526                     NPS-568         orch   C0907461        PREVENTS   \n8527             Angiotensinogen         aapp   C0003017  INTERACTS_WITH   \n8528                Cyclosporine         aapp   C0010592        INHIBITS   \n8529                     RenaGel         orch   C0526563          TREATS   \n8530  Complement System Proteins         aapp   C0009498         AFFECTS   \n\n                     object_name object_type      object_id localCount  \\\n0        End stage renal failure        dsyn       C1261469        367   \n1        Kidney Failure, Chronic        dsyn       C0022661        329   \n2        Cardiovascular Diseases        dsyn       C0007222        307   \n3        Kidney Failure, Chronic        dsyn       C0022661        297   \n4        Kidney Failure, Chronic        dsyn       C0022661        290   \n...                          ...         ...            ...        ...   \n8526     Parathyroid hyperplasia        dsyn       C0271844          2   \n8527  TGFB1 protein, human|TGFB1        aapp  C0080222|7040          2   \n8528             Cytochrome P450        aapp       C0010762          2   \n8529           Hyperphosphatemia        dsyn       C0085681          2   \n8530             Kidney Diseases        dsyn       C0022658          2   \n\n     localTotal globalCount globalTotal                odds  \\\n0         74425         886     6611441  36.364777181870636   \n1         74425         340     6611441   84.95042763144895   \n2         74425         309     6611441   87.22249078968967   \n3         74425         301     6611441   86.62406145900408   \n4         74425         298     6611441   85.43391775423662   \n...         ...         ...         ...                 ...   \n8526      74425           2     6611441   87.79071548538798   \n8527      74425           2     6611441   87.79071548538798   \n8528      74425           5     6611441   35.11628619415519   \n8529      74425           4     6611441   43.89535774269399   \n8530      74425          28     6611441   6.270765391813427   \n\n                       pval                                              pmids  \n0                       0.0  29080119 19414963 25193923 29629274 11352187 2...  \n1                       0.0  16498815 30108502 2648520 29225817 9375826 226...  \n2                       0.0  24800495 16609298 27865823 21422054 18786751 2...  \n3                       0.0  16609298 23115140 28228293 20586894 20682604 2...  \n4                       0.0  21393360 23154587 5376775 27932204 20339374 20...  \n...                     ...                                                ...  \n8526  0.0007497044125845847                                           10620187  \n8527  0.0007497044125845847                                           15698429  \n8528   0.002565466764230501                                            9648082  \n8529   0.001846286743093013                                            9988142  \n8530    0.04480331343710887                                           10594785  \n\n[8531 rows x 16 columns]\n"
    }
   ],
   "source": [
    "query_term='chronic kidney disease'\n",
    "\n",
    "endpoint = \"/enrich/\"\n",
    "url = f\"{API_URL}{endpoint}\"\n",
    "params = {\n",
    "    \"query\": query_term,\n",
    "}\n",
    "response = requests.post(url, data=json.dumps(params))\n",
    "res = response.json()\n",
    "enrich_df = (\n",
    "        pd.json_normalize(res)\n",
    ")\n",
    "print(enrich_df)"
   ]
  },
  {
   "cell_type": "markdown",
   "metadata": {},
   "source": [
    "### Overlapping terms\n",
    "\n",
    "We can provide two lists of query terms and identify overlapping data"
   ]
  },
  {
   "cell_type": "code",
   "execution_count": 4,
   "metadata": {},
   "outputs": [
    {
     "output_type": "stream",
     "name": "stdout",
     "text": "triple_x       subject_name_x  \\\n0     MLH1 gene|MLH1:COEXISTS_WITH:MSH2 gene|MSH2       MLH1 gene|MLH1   \n1     MLH1 gene|MLH1:COEXISTS_WITH:MSH2 gene|MSH2       MLH1 gene|MLH1   \n2     MLH1 gene|MLH1:COEXISTS_WITH:MSH2 gene|MSH2       MLH1 gene|MLH1   \n3     MLH1 gene|MLH1:COEXISTS_WITH:MSH2 gene|MSH2       MLH1 gene|MLH1   \n4     MLH1 gene|MLH1:COEXISTS_WITH:MSH2 gene|MSH2       MLH1 gene|MLH1   \n...                                           ...                  ...   \n1557               Anthocyanins:COEXISTS_WITH:APC         Anthocyanins   \n1558                 Protein C:INTERACTS_WITH:APC            Protein C   \n1559        Phosphotransferases:COEXISTS_WITH:APC  Phosphotransferases   \n1560                       Factor Va:INHIBITS:APC            Factor Va   \n1561            beta catenin:STIMULATES:Oncogenes         beta catenin   \n\n     subject_type_x   subject_id_x     predicate_x   object_name_x  \\\n0              gngm  C0879389|4292   COEXISTS_WITH  MSH2 gene|MSH2   \n1              gngm  C0879389|4292   COEXISTS_WITH  MSH2 gene|MSH2   \n2              gngm  C0879389|4292   COEXISTS_WITH  MSH2 gene|MSH2   \n3              gngm  C0879389|4292   COEXISTS_WITH  MSH2 gene|MSH2   \n4              gngm  C0879389|4292   COEXISTS_WITH  MSH2 gene|MSH2   \n...             ...            ...             ...             ...   \n1557           orch       C0003161   COEXISTS_WITH             APC   \n1558           aapp       C0033621  INTERACTS_WITH             APC   \n1559           aapp       C0031727   COEXISTS_WITH             APC   \n1560           aapp       C0015501        INHIBITS             APC   \n1561           aapp       C0105770      STIMULATES       Oncogenes   \n\n     object_type_x    object_id_x  localCount_x  localTotal_x  ...  \\\n0             gngm  C0879290|4436            46          1754  ...   \n1             gngm  C0879290|4436            46          1754  ...   \n2             gngm  C0879290|4436            46          1754  ...   \n3             gngm  C0879290|4436            46          1754  ...   \n4             gngm  C0879290|4436            46          1754  ...   \n...            ...            ...           ...           ...  ...   \n1557          gngm            324             3         19358  ...   \n1558          gngm            324             3         19358  ...   \n1559          gngm            324             3         19358  ...   \n1560          gngm            324             3         19358  ...   \n1561          gngm       C0029016             3         19358  ...   \n\n      object_type_y    object_id_y  localCount_y  localTotal_y globalCount_y  \\\n0              gngm  C0879389|4292            28           583            30   \n1              gngm  C0879393|2956            15           583            22   \n2              dsyn       C0039082             8           583             9   \n3              dsyn       C0039082             6           583             9   \n4              gngm  C0879389|4292             6           583             8   \n...             ...            ...           ...           ...           ...   \n1557           orch       C0038792             2           583             3   \n1558           orch       C0038792             2           583             3   \n1559           orch       C0038792             2           583             3   \n1560           orch       C0038792             2           583             3   \n1561           gngm       C0079427             3           583            62   \n\n     globalTotal_y        odds_y        pval_y  \\\n0          6611441  10460.095597  2.359079e-97   \n1          6611441   7641.303602  2.071033e-51   \n2          6611441   9961.995807  1.037182e-28   \n3          6611441   7471.496855  2.614930e-21   \n4          6611441   8405.433962  1.569080e-21   \n...            ...           ...           ...   \n1557       6611441   7471.496855  8.000000e-08   \n1558       6611441   7471.496855  8.000000e-08   \n1559       6611441   7471.496855  8.000000e-08   \n1560       6611441   7471.496855  8.000000e-08   \n1561       6611441    542.286062  3.120000e-08   \n\n                                                pmids_y  \\\n0     18301449 15949572 12655564 19930554 16830052 8...   \n1     25106712 14961575 20924129 26248088 25701956 1...   \n2     19900449 22361722 16500024 23729658 9538124 15...   \n3     25701956 26746812 25319978 17278092 18709565 1...   \n4                            14574010 23091106 11600610   \n...                                                 ...   \n1557                                           19755659   \n1558                                           19755659   \n1559                                           19755659   \n1560                                           19755659   \n1561                            1580606 8898451 8600059   \n\n                                      set_y  \n0     hereditary_non-polyposis_colon_cancer  \n1     hereditary_non-polyposis_colon_cancer  \n2     hereditary_non-polyposis_colon_cancer  \n3     hereditary_non-polyposis_colon_cancer  \n4     hereditary_non-polyposis_colon_cancer  \n...                                     ...  \n1557  hereditary_non-polyposis_colon_cancer  \n1558  hereditary_non-polyposis_colon_cancer  \n1559  hereditary_non-polyposis_colon_cancer  \n1560  hereditary_non-polyposis_colon_cancer  \n1561  hereditary_non-polyposis_colon_cancer  \n\n[1562 rows x 32 columns]\n"
    }
   ],
   "source": [
    "x=['MLH1','MSH2','MLH3','MSH6','PMS1','PMS2','APC']\n",
    "y=['Hereditary non-polyposis colon cancer']\n",
    "\n",
    "endpoint = \"/overlap/\"\n",
    "url = f\"{API_URL}{endpoint}\"\n",
    "params = {\n",
    "    \"x\": x,\n",
    "    \"y\": y,\n",
    "}\n",
    "response = requests.post(url, data=json.dumps(params))\n",
    "res = response.json()\n",
    "overlap_df = (\n",
    "    pd.json_normalize(res['data'])\n",
    ")\n",
    "print(overlap_df)"
   ]
  },
  {
   "cell_type": "markdown",
   "metadata": {},
   "source": [
    "Look at the overlapping data in more detail"
   ]
  },
  {
   "cell_type": "code",
   "execution_count": 5,
   "metadata": {},
   "outputs": [
    {
     "output_type": "stream",
     "name": "stdout",
     "text": "object_type_x  object_name_x       \naapp           MLH1 gene|MLH1           66\n               beta catenin             33\n               APC                       3\ngngm           MLH1 gene|MLH1          572\n               MSH2 gene|MSH2          572\n               MSH6 gene|MSH6          132\n               PMS2 gene|PMS2          100\n               APC                      58\n               beta catenin             16\n               DNA Repair Gene           4\n               TACSTD2 gene|TACSTD2      3\n               Oncogenes                 1\norch           Sulindac                  2\nName: object_name_x, dtype: int64\n"
    }
   ],
   "source": [
    "overlap_counts = overlap_df.groupby('object_type_x')['object_name_x'].value_counts()\n",
    "print(overlap_counts)"
   ]
  },
  {
   "cell_type": "markdown",
   "metadata": {},
   "source": [
    "### Publicaton data\n",
    "\n",
    "We can retrive the SemMedDB data for a give PubMed ID"
   ]
  },
  {
   "cell_type": "code",
   "execution_count": 9,
   "metadata": {},
   "outputs": [
    {
     "output_type": "stream",
     "name": "stdout",
     "text": "PREDICATION_ID SENTENCE_ID      PMID       PREDICATE    SUBJECT_CUI  \\\n0      131291271   124272128  19755659  INTERACTS_WITH  C0879389|4292   \n1      131291235   124272128  19755659  INTERACTS_WITH            324   \n2      131291696   124272130  19755659  INTERACTS_WITH            324   \n\n     SUBJECT_NAME SUBJECT_SEMTYPE  SUBJECT_NOVELTY OBJECT_CUI OBJECT_NAME  \\\n0  MLH1 gene|MLH1            gngm                1   C0038792    Sulindac   \n1             APC            gngm                1   C0038792    Sulindac   \n2             APC            gngm                1   C0038792    Sulindac   \n\n  OBJECT_SEMTYPE  OBJECT_NOVELTY                            SUB_PRED_OBJ  \\\n0           orch               1  MLH1 gene|MLH1:INTERACTS_WITH:Sulindac   \n1           orch               1             APC:INTERACTS_WITH:Sulindac   \n2           orch               1             APC:INTERACTS_WITH:Sulindac   \n\n  NORMALIZED_SECTION_HEADER SECTION_HEADER SENT_START_INDEX  \\\n0                    \"\"\"\"\"\"         \"\"\"\"\"\"               21   \n1                    \"\"\"\"\"\"         \"\"\"\"\"\"               21   \n2                    \"\"\"\"\"\"         \"\"\"\"\"\"              367   \n\n                                            SENTENCE TYPE NUMBER  \\\n0  Sulindac effects on inflammation and tumorigen...   ti      1   \n1  Sulindac effects on inflammation and tumorigen...   ti      1   \n2  To further explore intestinal regional respons...   ab      2   \n\n  SENT_END_INDEX  \n0            126  \n1            126  \n2            802  \n"
    }
   ],
   "source": [
    "pmid = '19755659'\n",
    "endpoint = \"/sentence/\"\n",
    "url = f\"{API_URL}{endpoint}\"\n",
    "params = {\n",
    "    \"pmid\": pmid,\n",
    "}\n",
    "response = requests.post(url, data=json.dumps(params))\n",
    "res = response.json()\n",
    "pub_df = (\n",
    "    pd.json_normalize(res['data'])\n",
    ")\n",
    "print(pub_df)"
   ]
  },
  {
   "cell_type": "code",
   "execution_count": null,
   "metadata": {},
   "outputs": [],
   "source": []
  }
 ],
 "metadata": {
  "kernelspec": {
   "display_name": "firstEnv",
   "language": "python",
   "name": "firstenv"
  },
  "language_info": {
   "codemirror_mode": {
    "name": "ipython",
    "version": 3
   },
   "file_extension": ".py",
   "mimetype": "text/x-python",
   "name": "python",
   "nbconvert_exporter": "python",
   "pygments_lexer": "ipython3",
   "version": "3.6.9-final"
  }
 },
 "nbformat": 4,
 "nbformat_minor": 4
}