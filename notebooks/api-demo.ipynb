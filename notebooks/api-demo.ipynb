{
 "cells": [
  {
   "cell_type": "markdown",
   "metadata": {},
   "source": [
    "# MELODI Lite API Example Usage"
   ]
  },
  {
   "cell_type": "code",
   "execution_count": 2,
   "metadata": {},
   "outputs": [],
   "source": [
    "import json\n",
    "import operator\n",
    "import networkx as nx\n",
    "from networkx.drawing.nx_pydot import graphviz_layout\n",
    "import numpy as np\n",
    "import matplotlib.pyplot as plt\n",
    "import pandas as pd\n",
    "import requests\n",
    "from environs import Env"
   ]
  },
  {
   "cell_type": "markdown",
   "metadata": {},
   "source": [
    "## Configure parameters"
   ]
  },
  {
   "cell_type": "code",
   "execution_count": 7,
   "metadata": {},
   "outputs": [
    {
     "data": {
      "text/plain": [
       "True"
      ]
     },
     "execution_count": 7,
     "metadata": {},
     "output_type": "execute_result"
    }
   ],
   "source": [
    "API_URL = \"http://melodi-lite.mrcieu.ac.uk/api/\"\n",
    "\n",
    "requests.get(f\"{API_URL}/status\").json()"
   ]
  },
  {
   "cell_type": "markdown",
   "metadata": {},
   "source": [
    "### Get enriched SemMedDB objects for a given search term\n",
    "\n",
    "Starting from a PubMed search, return all SemMedDB subject-predicate-object triples, their enrcichment metrics and publication information "
   ]
  },
  {
   "cell_type": "code",
   "execution_count": 20,
   "metadata": {},
   "outputs": [
    {
     "name": "stdout",
     "output_type": "stream",
     "text": [
      "                                                triple  \\\n",
      "0    PCSK9:INTERACTS_WITH:Low Density Lipoprotein R...   \n",
      "1    Hydroxymethylglutaryl-CoA Reductase Inhibitors...   \n",
      "2    PCSK9:STIMULATES:Low Density Lipoprotein Receptor   \n",
      "3      PCSK9:INHIBITS:Low Density Lipoprotein Receptor   \n",
      "4                             ezetimibe:INHIBITS:PCSK9   \n",
      "..                                                 ...   \n",
      "273  Low Density Lipoprotein Receptor:INHIBITS:Seri...   \n",
      "274            PCSK9:PREDISPOSES:Myocardial Infarction   \n",
      "275  Hydroxymethylglutaryl-CoA Reductase Inhibitors...   \n",
      "276  Cardiovascular arteriosclerosis unspecified:CO...   \n",
      "277                      COG2:NEG_INTERACTS_WITH:PCSK9   \n",
      "\n",
      "                                       subject_name subject_type subject_id  \\\n",
      "0                                             PCSK9         gngm     255738   \n",
      "1    Hydroxymethylglutaryl-CoA Reductase Inhibitors         orch   C0360714   \n",
      "2                                             PCSK9         gngm     255738   \n",
      "3                                             PCSK9         gngm     255738   \n",
      "4                                         ezetimibe         orch   C1142985   \n",
      "..                                              ...          ...        ...   \n",
      "273                Low Density Lipoprotein Receptor         aapp   C0034821   \n",
      "274                                           PCSK9         gngm     255738   \n",
      "275  Hydroxymethylglutaryl-CoA Reductase Inhibitors         orch   C0360714   \n",
      "276     Cardiovascular arteriosclerosis unspecified         dsyn   C0003972   \n",
      "277                                            COG2         gngm      22796   \n",
      "\n",
      "              predicate                       object_name object_type  \\\n",
      "0        INTERACTS_WITH  Low Density Lipoprotein Receptor        aapp   \n",
      "1              INHIBITS                              COG2        gngm   \n",
      "2            STIMULATES  Low Density Lipoprotein Receptor        gngm   \n",
      "3              INHIBITS  Low Density Lipoprotein Receptor        gngm   \n",
      "4              INHIBITS                             PCSK9        gngm   \n",
      "..                  ...                               ...         ...   \n",
      "273            INHIBITS                   Serine Protease        aapp   \n",
      "274         PREDISPOSES             Myocardial Infarction        dsyn   \n",
      "275              TREATS                     Dyslipidemias        dsyn   \n",
      "276       COEXISTS_WITH               Hereditary Diseases        dsyn   \n",
      "277  NEG_INTERACTS_WITH                             PCSK9        gngm   \n",
      "\n",
      "    object_id localCount localTotal globalCount globalTotal  \\\n",
      "0    C0034821         22       2350          22     6611441   \n",
      "1       22796         20       2350          95     6611441   \n",
      "2    C0034821         18       2350          18     6611441   \n",
      "3    C0034821         15       2350          15     6611441   \n",
      "4      255738         15       2350          15     6611441   \n",
      "..        ...        ...        ...         ...         ...   \n",
      "273  C0036734          2       2350           2     6611441   \n",
      "274  C0027051          2       2350           2     6611441   \n",
      "275  C0242339          2       2350          39     6611441   \n",
      "276  C0019247          2       2350           3     6611441   \n",
      "277    255738          2       2350           2     6611441   \n",
      "\n",
      "                   odds                    pval  \\\n",
      "0      2813.37914893617  3.0196743785119646e-64   \n",
      "1     592.2903471444569   1.267239386068705e-47   \n",
      "2      2813.37914893617    7.90353006602074e-53   \n",
      "3      2813.37914893617   2.950237068596298e-44   \n",
      "4      2813.37914893617   2.950237068596298e-44   \n",
      "..                  ...                     ...   \n",
      "273    2813.37914893617     7.5811315389148e-07   \n",
      "274    2813.37914893617     7.5811315389148e-07   \n",
      "275  144.27585379159848   0.0001027039658555141   \n",
      "276    1875.58609929078  1.2632222575267344e-06   \n",
      "277    2813.37914893617     7.5811315389148e-07   \n",
      "\n",
      "                                                 pmids  \n",
      "0    25171595 26318398 24225950 23951290 27280970 1...  \n",
      "1    28286091 29411675 24259646 23509227 28804094 2...  \n",
      "2    29451410 24315769 22954675 26628375 28894089 2...  \n",
      "3    25682035 26333678 15772090 16913836 22907332 1...  \n",
      "4    29777433 29503409 29176407 29858856 30311078 2...  \n",
      "..                                                 ...  \n",
      "273                                  27606890 29727700  \n",
      "274                                  28623549 29802317  \n",
      "275                                  26135857 30229482  \n",
      "276                                  30306858 30269829  \n",
      "277                                           25858546  \n",
      "\n",
      "[278 rows x 15 columns]\n"
     ]
    }
   ],
   "source": [
    "query_term_list=['pcsk9']\n",
    "\n",
    "endpoint = \"/enrich/\"\n",
    "url = f\"{API_URL}{endpoint}\"\n",
    "params = {\n",
    "    \"text\": query_term_list,\n",
    "}\n",
    "response = requests.post(url, data=json.dumps(params))\n",
    "res = response.json()\n",
    "df = (\n",
    "    pd.json_normalize(res[query_term[0]])\n",
    ")\n",
    "print(df)"
   ]
  },
  {
   "cell_type": "markdown",
   "metadata": {},
   "source": [
    "### Overlapping terms\n",
    "\n",
    "We can provide two lists of query terms and identify overlapping data"
   ]
  },
  {
   "cell_type": "code",
   "execution_count": 23,
   "metadata": {},
   "outputs": [
    {
     "name": "stdout",
     "output_type": "stream",
     "text": [
      "                                         triple_x       subject_name_x  \\\n",
      "0     MLH1 gene|MLH1:COEXISTS_WITH:MSH2 gene|MSH2       MLH1 gene|MLH1   \n",
      "1     MLH1 gene|MLH1:COEXISTS_WITH:MSH2 gene|MSH2       MLH1 gene|MLH1   \n",
      "2     MLH1 gene|MLH1:COEXISTS_WITH:MSH2 gene|MSH2       MLH1 gene|MLH1   \n",
      "3     MLH1 gene|MLH1:COEXISTS_WITH:MSH2 gene|MSH2       MLH1 gene|MLH1   \n",
      "4     MLH1 gene|MLH1:COEXISTS_WITH:MSH2 gene|MSH2       MLH1 gene|MLH1   \n",
      "...                                           ...                  ...   \n",
      "1683               Anthocyanins:COEXISTS_WITH:APC         Anthocyanins   \n",
      "1684                 Protein C:INTERACTS_WITH:APC            Protein C   \n",
      "1685        Phosphotransferases:COEXISTS_WITH:APC  Phosphotransferases   \n",
      "1686                       Factor Va:INHIBITS:APC            Factor Va   \n",
      "1687            beta catenin:STIMULATES:Oncogenes         beta catenin   \n",
      "\n",
      "     subject_type_x   subject_id_x     predicate_x   object_name_x  \\\n",
      "0              gngm  C0879389|4292   COEXISTS_WITH  MSH2 gene|MSH2   \n",
      "1              gngm  C0879389|4292   COEXISTS_WITH  MSH2 gene|MSH2   \n",
      "2              gngm  C0879389|4292   COEXISTS_WITH  MSH2 gene|MSH2   \n",
      "3              gngm  C0879389|4292   COEXISTS_WITH  MSH2 gene|MSH2   \n",
      "4              gngm  C0879389|4292   COEXISTS_WITH  MSH2 gene|MSH2   \n",
      "...             ...            ...             ...             ...   \n",
      "1683           orch       C0003161   COEXISTS_WITH             APC   \n",
      "1684           aapp       C0033621  INTERACTS_WITH             APC   \n",
      "1685           aapp       C0031727   COEXISTS_WITH             APC   \n",
      "1686           aapp       C0015501        INHIBITS             APC   \n",
      "1687           aapp       C0105770      STIMULATES       Oncogenes   \n",
      "\n",
      "     object_type_x    object_id_x  localCount_x  localTotal_x  ...  \\\n",
      "0             gngm  C0879290|4436            46          1836  ...   \n",
      "1             gngm  C0879290|4436            46          1836  ...   \n",
      "2             gngm  C0879290|4436            46          1836  ...   \n",
      "3             gngm  C0879290|4436            46          1836  ...   \n",
      "4             gngm  C0879290|4436            46          1836  ...   \n",
      "...            ...            ...           ...           ...  ...   \n",
      "1683          gngm            324             3         19547  ...   \n",
      "1684          gngm            324             3         19547  ...   \n",
      "1685          gngm            324             3         19547  ...   \n",
      "1686          gngm            324             3         19547  ...   \n",
      "1687          gngm       C0029016             3         19547  ...   \n",
      "\n",
      "      object_type_y    object_id_y  localCount_y  localTotal_y globalCount_y  \\\n",
      "0              gngm  C0879389|4292            28           615            30   \n",
      "1              gngm  C0879393|2956            15           615            22   \n",
      "2              dsyn       C0039082             8           615             9   \n",
      "3              dsyn       C0039082             6           615             9   \n",
      "4              gngm  C0879389|4292             6           615             8   \n",
      "...             ...            ...           ...           ...           ...   \n",
      "1683           orch       C0038792             2           615             3   \n",
      "1684           orch       C0038792             2           615             3   \n",
      "1685           orch       C0038792             2           615             3   \n",
      "1686           orch       C0038792             2           615             3   \n",
      "1687           gngm       C0079427             3           615            62   \n",
      "\n",
      "     globalTotal_y        odds_y        pval_y  \\\n",
      "0          6611441  10033.623198  7.304245e-97   \n",
      "1          6611441   7329.757206  3.825817e-51   \n",
      "2          6611441   9555.831617  1.442345e-28   \n",
      "3          6611441   7166.873713  3.350400e-21   \n",
      "4          6611441   8062.732927  2.010402e-21   \n",
      "...            ...           ...           ...   \n",
      "1683       6611441   7166.873713  8.690000e-08   \n",
      "1684       6611441   7166.873713  8.690000e-08   \n",
      "1685       6611441   7166.873713  8.690000e-08   \n",
      "1686       6611441   7166.873713  8.690000e-08   \n",
      "1687       6611441    520.176318  3.530000e-08   \n",
      "\n",
      "                                                pmids_y  \\\n",
      "0     15943554 17939062 17582678 8776590 30238922 15...   \n",
      "1     26657901 14961575 18781192 26437257 18331697 2...   \n",
      "2     22361722 19900449 15782118 26509248 9639390 95...   \n",
      "3     26746812 17278092 25319978 25701956 12145848 1...   \n",
      "4                            11600610 23091106 14574010   \n",
      "...                                                 ...   \n",
      "1683                                           19755659   \n",
      "1684                                           19755659   \n",
      "1685                                           19755659   \n",
      "1686                                           19755659   \n",
      "1687                            8898451 8600059 1580606   \n",
      "\n",
      "                                      set_y  \n",
      "0     hereditary_non-polyposis_colon_cancer  \n",
      "1     hereditary_non-polyposis_colon_cancer  \n",
      "2     hereditary_non-polyposis_colon_cancer  \n",
      "3     hereditary_non-polyposis_colon_cancer  \n",
      "4     hereditary_non-polyposis_colon_cancer  \n",
      "...                                     ...  \n",
      "1683  hereditary_non-polyposis_colon_cancer  \n",
      "1684  hereditary_non-polyposis_colon_cancer  \n",
      "1685  hereditary_non-polyposis_colon_cancer  \n",
      "1686  hereditary_non-polyposis_colon_cancer  \n",
      "1687  hereditary_non-polyposis_colon_cancer  \n",
      "\n",
      "[1688 rows x 32 columns]\n"
     ]
    }
   ],
   "source": [
    "x=['MLH1','MSH2','MLH3','MSH6','PMS1','PMS2','APC']\n",
    "y=['Hereditary non-polyposis colon cancer']\n",
    "\n",
    "endpoint = \"/overlap/\"\n",
    "url = f\"{API_URL}{endpoint}\"\n",
    "params = {\n",
    "    \"x\": x,\n",
    "    \"y\": y,\n",
    "}\n",
    "response = requests.post(url, data=json.dumps(params))\n",
    "res = response.json()\n",
    "df = (\n",
    "    pd.json_normalize(res['data'])\n",
    ")\n",
    "print(df)"
   ]
  },
  {
   "cell_type": "code",
   "execution_count": null,
   "metadata": {},
   "outputs": [],
   "source": []
  }
 ],
 "metadata": {
  "kernelspec": {
   "display_name": "Python 3",
   "language": "python",
   "name": "python3"
  },
  "language_info": {
   "codemirror_mode": {
    "name": "ipython",
    "version": 3
   },
   "file_extension": ".py",
   "mimetype": "text/x-python",
   "name": "python",
   "nbconvert_exporter": "python",
   "pygments_lexer": "ipython3",
   "version": "3.7.6"
  }
 },
 "nbformat": 4,
 "nbformat_minor": 4
}
