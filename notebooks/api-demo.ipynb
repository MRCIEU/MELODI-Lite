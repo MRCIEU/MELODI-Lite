{
 "cells": [
  {
   "cell_type": "markdown",
   "metadata": {},
   "source": [
    "# MELODI Lite API Example Usage"
   ]
  },
  {
   "cell_type": "code",
   "execution_count": 2,
   "metadata": {},
   "outputs": [],
   "source": [
    "import json\n",
    "import pandas as pd\n",
    "import requests"
   ]
  },
  {
   "cell_type": "markdown",
   "metadata": {},
   "source": [
    "## Configure parameters"
   ]
  },
  {
   "cell_type": "code",
   "execution_count": 3,
   "metadata": {},
   "outputs": [
    {
     "data": {
      "text/plain": [
       "True"
      ]
     },
     "execution_count": 3,
     "metadata": {},
     "output_type": "execute_result"
    }
   ],
   "source": [
    "API_URL = \"https://melodi-lite.mrcieu.ac.uk/api/\"\n",
    "\n",
    "requests.get(f\"{API_URL}/status\").json()"
   ]
  },
  {
   "cell_type": "markdown",
   "metadata": {},
   "source": [
    "### Get enriched SemMedDB objects for a given search term\n",
    "\n",
    "Starting from a PubMed search, return all SemMedDB subject-predicate-object triples, their enrcichment metrics and publication information "
   ]
  },
  {
   "cell_type": "code",
   "execution_count": 10,
   "metadata": {},
   "outputs": [
    {
     "name": "stdout",
     "output_type": "stream",
     "text": [
      "                                                 triple  \\\n",
      "0     Diabetic Nephropathy:CAUSES:End stage renal fa...   \n",
      "1          Anemia:COEXISTS_WITH:Kidney Failure, Chronic   \n",
      "2     Kidney Failure, Chronic:PREDISPOSES:Cardiovasc...   \n",
      "3     Cardiovascular Diseases:COEXISTS_WITH:Kidney F...   \n",
      "4     Hypertensive disease:COEXISTS_WITH:Kidney Fail...   \n",
      "...                                                 ...   \n",
      "8526           NPS-568:PREVENTS:Parathyroid hyperplasia   \n",
      "8527  Angiotensinogen:INTERACTS_WITH:TGFB1 protein, ...   \n",
      "8528              Cyclosporine:INHIBITS:Cytochrome P450   \n",
      "8529                   RenaGel:TREATS:Hyperphosphatemia   \n",
      "8530  Complement System Proteins:AFFECTS:Kidney Dise...   \n",
      "\n",
      "                    subject_name subject_type subject_id       predicate  \\\n",
      "0           Diabetic Nephropathy         dsyn   C0011881          CAUSES   \n",
      "1                         Anemia         dsyn   C0002871   COEXISTS_WITH   \n",
      "2        Kidney Failure, Chronic         dsyn   C0022661     PREDISPOSES   \n",
      "3        Cardiovascular Diseases         dsyn   C0007222   COEXISTS_WITH   \n",
      "4           Hypertensive disease         dsyn   C0020538   COEXISTS_WITH   \n",
      "...                          ...          ...        ...             ...   \n",
      "8526                     NPS-568         orch   C0907461        PREVENTS   \n",
      "8527             Angiotensinogen         aapp   C0003017  INTERACTS_WITH   \n",
      "8528                Cyclosporine         aapp   C0010592        INHIBITS   \n",
      "8529                     RenaGel         orch   C0526563          TREATS   \n",
      "8530  Complement System Proteins         aapp   C0009498         AFFECTS   \n",
      "\n",
      "                     object_name object_type      object_id localCount  \\\n",
      "0        End stage renal failure        dsyn       C1261469        367   \n",
      "1        Kidney Failure, Chronic        dsyn       C0022661        329   \n",
      "2        Cardiovascular Diseases        dsyn       C0007222        307   \n",
      "3        Kidney Failure, Chronic        dsyn       C0022661        297   \n",
      "4        Kidney Failure, Chronic        dsyn       C0022661        290   \n",
      "...                          ...         ...            ...        ...   \n",
      "8526     Parathyroid hyperplasia        dsyn       C0271844          2   \n",
      "8527  TGFB1 protein, human|TGFB1        aapp  C0080222|7040          2   \n",
      "8528             Cytochrome P450        aapp       C0010762          2   \n",
      "8529           Hyperphosphatemia        dsyn       C0085681          2   \n",
      "8530             Kidney Diseases        dsyn       C0022658          2   \n",
      "\n",
      "     localTotal globalCount globalTotal                odds  \\\n",
      "0         74425         886     6611441  36.364777181870636   \n",
      "1         74425         340     6611441   84.95042763144895   \n",
      "2         74425         309     6611441   87.22249078968967   \n",
      "3         74425         301     6611441   86.62406145900408   \n",
      "4         74425         298     6611441   85.43391775423662   \n",
      "...         ...         ...         ...                 ...   \n",
      "8526      74425           2     6611441   87.79071548538798   \n",
      "8527      74425           2     6611441   87.79071548538798   \n",
      "8528      74425           5     6611441   35.11628619415519   \n",
      "8529      74425           4     6611441   43.89535774269399   \n",
      "8530      74425          28     6611441   6.270765391813427   \n",
      "\n",
      "                       pval                                              pmids  \n",
      "0                       0.0  29080119 19414963 25193923 29629274 11352187 2...  \n",
      "1                       0.0  16498815 30108502 2648520 29225817 9375826 226...  \n",
      "2                       0.0  24800495 16609298 27865823 21422054 18786751 2...  \n",
      "3                       0.0  16609298 23115140 28228293 20586894 20682604 2...  \n",
      "4                       0.0  21393360 23154587 5376775 27932204 20339374 20...  \n",
      "...                     ...                                                ...  \n",
      "8526  0.0007497044125845847                                           10620187  \n",
      "8527  0.0007497044125845847                                           15698429  \n",
      "8528   0.002565466764230501                                            9648082  \n",
      "8529   0.001846286743093013                                            9988142  \n",
      "8530    0.04480331343710887                                           10594785  \n",
      "\n",
      "[8531 rows x 15 columns]\n"
     ]
    }
   ],
   "source": [
    "query_term_list=['chronic kidney disease']\n",
    "\n",
    "endpoint = \"/enrich/\"\n",
    "url = f\"{API_URL}{endpoint}\"\n",
    "params = {\n",
    "    \"query\": query_term_list,\n",
    "}\n",
    "response = requests.post(url, data=json.dumps(params))\n",
    "res = response.json()\n",
    "for i in query_term_list:\n",
    "    q=i.replace(' ','_')\n",
    "    enrich_df = (\n",
    "        pd.json_normalize(res[q])\n",
    "    )\n",
    "    print(enrich_df)"
   ]
  },
  {
   "cell_type": "markdown",
   "metadata": {},
   "source": [
    "### Overlapping terms\n",
    "\n",
    "We can provide two lists of query terms and identify overlapping data"
   ]
  },
  {
   "cell_type": "code",
   "execution_count": 34,
   "metadata": {},
   "outputs": [
    {
     "name": "stdout",
     "output_type": "stream",
     "text": [
      "                                         triple_x       subject_name_x  \\\n",
      "0     MLH1 gene|MLH1:COEXISTS_WITH:MSH2 gene|MSH2       MLH1 gene|MLH1   \n",
      "1     MLH1 gene|MLH1:COEXISTS_WITH:MSH2 gene|MSH2       MLH1 gene|MLH1   \n",
      "2     MLH1 gene|MLH1:COEXISTS_WITH:MSH2 gene|MSH2       MLH1 gene|MLH1   \n",
      "3     MLH1 gene|MLH1:COEXISTS_WITH:MSH2 gene|MSH2       MLH1 gene|MLH1   \n",
      "4     MLH1 gene|MLH1:COEXISTS_WITH:MSH2 gene|MSH2       MLH1 gene|MLH1   \n",
      "...                                           ...                  ...   \n",
      "1683               Anthocyanins:COEXISTS_WITH:APC         Anthocyanins   \n",
      "1684                 Protein C:INTERACTS_WITH:APC            Protein C   \n",
      "1685        Phosphotransferases:COEXISTS_WITH:APC  Phosphotransferases   \n",
      "1686                       Factor Va:INHIBITS:APC            Factor Va   \n",
      "1687            beta catenin:STIMULATES:Oncogenes         beta catenin   \n",
      "\n",
      "     subject_type_x   subject_id_x     predicate_x   object_name_x  \\\n",
      "0              gngm  C0879389|4292   COEXISTS_WITH  MSH2 gene|MSH2   \n",
      "1              gngm  C0879389|4292   COEXISTS_WITH  MSH2 gene|MSH2   \n",
      "2              gngm  C0879389|4292   COEXISTS_WITH  MSH2 gene|MSH2   \n",
      "3              gngm  C0879389|4292   COEXISTS_WITH  MSH2 gene|MSH2   \n",
      "4              gngm  C0879389|4292   COEXISTS_WITH  MSH2 gene|MSH2   \n",
      "...             ...            ...             ...             ...   \n",
      "1683           orch       C0003161   COEXISTS_WITH             APC   \n",
      "1684           aapp       C0033621  INTERACTS_WITH             APC   \n",
      "1685           aapp       C0031727   COEXISTS_WITH             APC   \n",
      "1686           aapp       C0015501        INHIBITS             APC   \n",
      "1687           aapp       C0105770      STIMULATES       Oncogenes   \n",
      "\n",
      "     object_type_x    object_id_x  localCount_x  localTotal_x  ...  \\\n",
      "0             gngm  C0879290|4436            46          1836  ...   \n",
      "1             gngm  C0879290|4436            46          1836  ...   \n",
      "2             gngm  C0879290|4436            46          1836  ...   \n",
      "3             gngm  C0879290|4436            46          1836  ...   \n",
      "4             gngm  C0879290|4436            46          1836  ...   \n",
      "...            ...            ...           ...           ...  ...   \n",
      "1683          gngm            324             3         19547  ...   \n",
      "1684          gngm            324             3         19547  ...   \n",
      "1685          gngm            324             3         19547  ...   \n",
      "1686          gngm            324             3         19547  ...   \n",
      "1687          gngm       C0029016             3         19547  ...   \n",
      "\n",
      "      object_type_y    object_id_y  localCount_y  localTotal_y globalCount_y  \\\n",
      "0              gngm  C0879389|4292            28           615            30   \n",
      "1              gngm  C0879393|2956            15           615            22   \n",
      "2              dsyn       C0039082             8           615             9   \n",
      "3              dsyn       C0039082             6           615             9   \n",
      "4              gngm  C0879389|4292             6           615             8   \n",
      "...             ...            ...           ...           ...           ...   \n",
      "1683           orch       C0038792             2           615             3   \n",
      "1684           orch       C0038792             2           615             3   \n",
      "1685           orch       C0038792             2           615             3   \n",
      "1686           orch       C0038792             2           615             3   \n",
      "1687           gngm       C0079427             3           615            62   \n",
      "\n",
      "     globalTotal_y        odds_y        pval_y  \\\n",
      "0          6611441  10033.623198  7.304245e-97   \n",
      "1          6611441   7329.757206  3.825817e-51   \n",
      "2          6611441   9555.831617  1.442345e-28   \n",
      "3          6611441   7166.873713  3.350400e-21   \n",
      "4          6611441   8062.732927  2.010402e-21   \n",
      "...            ...           ...           ...   \n",
      "1683       6611441   7166.873713  8.690000e-08   \n",
      "1684       6611441   7166.873713  8.690000e-08   \n",
      "1685       6611441   7166.873713  8.690000e-08   \n",
      "1686       6611441   7166.873713  8.690000e-08   \n",
      "1687       6611441    520.176318  3.530000e-08   \n",
      "\n",
      "                                                pmids_y  \\\n",
      "0     15943554 17939062 17582678 8776590 30238922 15...   \n",
      "1     26657901 14961575 18781192 26437257 18331697 2...   \n",
      "2     22361722 19900449 15782118 26509248 9639390 95...   \n",
      "3     26746812 17278092 25319978 25701956 12145848 1...   \n",
      "4                            11600610 23091106 14574010   \n",
      "...                                                 ...   \n",
      "1683                                           19755659   \n",
      "1684                                           19755659   \n",
      "1685                                           19755659   \n",
      "1686                                           19755659   \n",
      "1687                            8898451 8600059 1580606   \n",
      "\n",
      "                                      set_y  \n",
      "0     hereditary_non-polyposis_colon_cancer  \n",
      "1     hereditary_non-polyposis_colon_cancer  \n",
      "2     hereditary_non-polyposis_colon_cancer  \n",
      "3     hereditary_non-polyposis_colon_cancer  \n",
      "4     hereditary_non-polyposis_colon_cancer  \n",
      "...                                     ...  \n",
      "1683  hereditary_non-polyposis_colon_cancer  \n",
      "1684  hereditary_non-polyposis_colon_cancer  \n",
      "1685  hereditary_non-polyposis_colon_cancer  \n",
      "1686  hereditary_non-polyposis_colon_cancer  \n",
      "1687  hereditary_non-polyposis_colon_cancer  \n",
      "\n",
      "[1688 rows x 32 columns]\n"
     ]
    }
   ],
   "source": [
    "x=['MLH1','MSH2','MLH3','MSH6','PMS1','PMS2','APC']\n",
    "y=['Hereditary non-polyposis colon cancer']\n",
    "\n",
    "endpoint = \"/overlap/\"\n",
    "url = f\"{API_URL}{endpoint}\"\n",
    "params = {\n",
    "    \"x\": x,\n",
    "    \"y\": y,\n",
    "}\n",
    "response = requests.post(url, data=json.dumps(params))\n",
    "res = response.json()\n",
    "overlap_df = (\n",
    "    pd.json_normalize(res['data'])\n",
    ")\n",
    "print(overlap_df)"
   ]
  },
  {
   "cell_type": "markdown",
   "metadata": {},
   "source": [
    "Look at the overlapping data in more detail"
   ]
  },
  {
   "cell_type": "code",
   "execution_count": 35,
   "metadata": {},
   "outputs": [
    {
     "name": "stdout",
     "output_type": "stream",
     "text": [
      "object_type_x  object_name_x                 \n",
      "aapp           MLH1 gene|MLH1                     66\n",
      "               beta catenin                       33\n",
      "               APC                                 3\n",
      "gngm           MLH1 gene|MLH1                    627\n",
      "               MSH2 gene|MSH2                    616\n",
      "               MSH6 gene|MSH6                    132\n",
      "               PMS2 gene|PMS2                    116\n",
      "               APC                                59\n",
      "               beta catenin                       16\n",
      "               DNA Repair Gene                    10\n",
      "               TACSTD2 gene|TACSTD2                3\n",
      "               Oncogenes                           1\n",
      "nusq           Single Nucleotide Polymorphism      4\n",
      "orch           Sulindac                            2\n",
      "Name: object_name_x, dtype: int64\n"
     ]
    }
   ],
   "source": [
    "overlap_counts = overlap_df.groupby('object_type_x')['object_name_x'].value_counts()\n",
    "print(overlap_counts)"
   ]
  },
  {
   "cell_type": "markdown",
   "metadata": {},
   "source": [
    "### Publicaton data\n",
    "\n",
    "We can retrive the SemMedDB data for a give PubMed ID"
   ]
  },
  {
   "cell_type": "code",
   "execution_count": 33,
   "metadata": {},
   "outputs": [
    {
     "name": "stdout",
     "output_type": "stream",
     "text": [
      "  PREDICATION_ID SENTENCE_ID      PMID       PREDICATE    SUBJECT_CUI  \\\n",
      "0      131291271   124272128  19755659  INTERACTS_WITH  C0879389|4292   \n",
      "1      131291235   124272128  19755659  INTERACTS_WITH            324   \n",
      "2      131291696   124272130  19755659  INTERACTS_WITH            324   \n",
      "\n",
      "     SUBJECT_NAME SUBJECT_SEMTYPE  SUBJECT_NOVELTY OBJECT_CUI OBJECT_NAME  \\\n",
      "0  MLH1 gene|MLH1            gngm                1   C0038792    Sulindac   \n",
      "1             APC            gngm                1   C0038792    Sulindac   \n",
      "2             APC            gngm                1   C0038792    Sulindac   \n",
      "\n",
      "  OBJECT_SEMTYPE  OBJECT_NOVELTY                            SUB_PRED_OBJ  \\\n",
      "0           orch               1  MLH1 gene|MLH1:INTERACTS_WITH:Sulindac   \n",
      "1           orch               1             APC:INTERACTS_WITH:Sulindac   \n",
      "2           orch               1             APC:INTERACTS_WITH:Sulindac   \n",
      "\n",
      "  NORMALIZED_SECTION_HEADER SECTION_HEADER SENT_START_INDEX  \\\n",
      "0                    \"\"\"\"\"\"         \"\"\"\"\"\"               21   \n",
      "1                    \"\"\"\"\"\"         \"\"\"\"\"\"               21   \n",
      "2                    \"\"\"\"\"\"         \"\"\"\"\"\"              367   \n",
      "\n",
      "                                            SENTENCE TYPE NUMBER  \\\n",
      "0  Sulindac effects on inflammation and tumorigen...   ti      1   \n",
      "1  Sulindac effects on inflammation and tumorigen...   ti      1   \n",
      "2  To further explore intestinal regional respons...   ab      2   \n",
      "\n",
      "  SENT_END_INDEX  \n",
      "0            126  \n",
      "1            126  \n",
      "2            802  \n"
     ]
    }
   ],
   "source": [
    "pmid = '19755659'\n",
    "endpoint = \"/sentence/\"\n",
    "url = f\"{API_URL}{endpoint}\"\n",
    "params = {\n",
    "    \"pmid\": pmid,\n",
    "}\n",
    "response = requests.post(url, data=json.dumps(params))\n",
    "res = response.json()\n",
    "pub_df = (\n",
    "    pub_df.json_normalize(res['results'])\n",
    ")\n",
    "print(df)"
   ]
  },
  {
   "cell_type": "code",
   "execution_count": null,
   "metadata": {},
   "outputs": [],
   "source": []
  }
 ],
 "metadata": {
  "kernelspec": {
   "display_name": "firstEnv",
   "language": "python",
   "name": "firstenv"
  },
  "language_info": {
   "codemirror_mode": {
    "name": "ipython",
    "version": 3
   },
   "file_extension": ".py",
   "mimetype": "text/x-python",
   "name": "python",
   "nbconvert_exporter": "python",
   "pygments_lexer": "ipython3",
   "version": "3.7.6"
  }
 },
 "nbformat": 4,
 "nbformat_minor": 4
}
