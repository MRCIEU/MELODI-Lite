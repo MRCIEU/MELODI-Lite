{
 "cells": [
  {
   "cell_type": "markdown",
   "metadata": {},
   "source": [
    "# MELODI Presto Use Cases"
   ]
  },
  {
   "cell_type": "code",
   "execution_count": 1,
   "metadata": {},
   "outputs": [],
   "source": [
    "import json\n",
    "import pandas as pd\n",
    "import requests\n",
    "import matplotlib.pyplot as plt\n",
    "%matplotlib inline \n",
    "import numpy as np\n",
    "from utils import enrich, overlap, sentence, API_URL"
   ]
  },
  {
   "cell_type": "markdown",
   "metadata": {},
   "source": [
    "## Configure parameters"
   ]
  },
  {
   "cell_type": "code",
   "execution_count": 3,
   "metadata": {},
   "outputs": [
    {
     "data": {
      "text/plain": [
       "True"
      ]
     },
     "execution_count": 3,
     "metadata": {},
     "output_type": "execute_result"
    }
   ],
   "source": [
    "requests.get(f\"{API_URL}/status\").json()"
   ]
  },
  {
   "cell_type": "markdown",
   "metadata": {},
   "source": [
    "# Run the overlap function on some examples"
   ]
  },
  {
   "cell_type": "markdown",
   "metadata": {},
   "source": [
    "### Genetic basis of psoriasis\n",
    "\n",
    "https://www.cell.com/ajhg/fulltext/S0002-9297(12)00157-7"
   ]
  },
  {
   "cell_type": "code",
   "execution_count": 35,
   "metadata": {},
   "outputs": [
    {
     "data": {
      "text/plain": [
       "set_x   object_type_x  object_name_x                \n",
       "ap1s3   gngm           CARD14                             5\n",
       "card14  aapp           NF-kappa B                         3\n",
       "        dsyn           Psoriasis                        861\n",
       "                       Autoimmune Diseases               10\n",
       "                       skin disorder                      8\n",
       "        gngm           NF-kappa B                        21\n",
       "                       CARD14                             5\n",
       "il36rn  aapp           Interleukin-1 beta                 5\n",
       "                       Interleukin Receptor               1\n",
       "        dsyn           Arthritis, Psoriatic              33\n",
       "                       Pustulosis of Palms and Soles      3\n",
       "        gngm           CARD14                             5\n",
       "                       Interleukin Receptor               1\n",
       "Name: object_name_x, dtype: int64"
      ]
     },
     "execution_count": 35,
     "metadata": {},
     "output_type": "execute_result"
    }
   ],
   "source": [
    "q1=['AP1S3','IL36RN','CARD14']\n",
    "q2=['Psoriasis']\n",
    "\n",
    "overlap_df = overlap(q1,q2)"
   ]
  },
  {
   "cell_type": "code",
   "execution_count": 5,
   "metadata": {},
   "outputs": [
    {
     "data": {
      "text/plain": [
       "set_x   object_type_x  object_name_x                \n",
       "ap1s3   gngm           CARD14                             5\n",
       "card14  aapp           NF-kappa B                         3\n",
       "        dsyn           Psoriasis                        861\n",
       "                       Autoimmune Diseases               10\n",
       "                       skin disorder                      8\n",
       "        gngm           NF-kappa B                        21\n",
       "                       CARD14                             5\n",
       "il36rn  aapp           Interleukin Receptor               1\n",
       "        dsyn           Arthritis, Psoriatic              33\n",
       "                       Pustulosis of Palms and Soles      3\n",
       "        gngm           CARD14                             5\n",
       "                       Interleukin Receptor               1\n",
       "Name: object_name_x, dtype: int64"
      ]
     },
     "execution_count": 5,
     "metadata": {},
     "output_type": "execute_result"
    }
   ],
   "source": [
    "overlap_counts = overlap_df.groupby(['set_x','object_type_x'])['object_name_x'].value_counts()\n",
    "overlap_counts"
   ]
  },
  {
   "cell_type": "markdown",
   "metadata": {},
   "source": [
    "### Drug repurposing\n",
    "\n",
    "https://www.medrxiv.org/content/10.1101/2020.05.07.20093286v1"
   ]
  },
  {
   "cell_type": "code",
   "execution_count": 32,
   "metadata": {},
   "outputs": [],
   "source": [
    "q1=['DHODH', 'ITGB5', 'JAK2']\n",
    "q2=['Leflunomide','Cilengitide','Baricitinib']\n",
    "\n",
    "overlap_df = overlap(q1,q2)"
   ]
  },
  {
   "cell_type": "code",
   "execution_count": 33,
   "metadata": {},
   "outputs": [
    {
     "data": {
      "text/plain": [
       "set_x  set_y        object_type_x  object_name_x                     \n",
       "dhodh  leflunomide  aapp           Phosphotransferases                    1\n",
       "                    dsyn           Rheumatoid Arthritis                   9\n",
       "                    gngm           Dihydroorotate dehydrogenase          60\n",
       "                                   Dihydroorotate dehydrogenase|DHODH     1\n",
       "                    orch           leflunomide                           92\n",
       "                                   Pyrimidine                            12\n",
       "jak2   baricitinib  aapp           Janus kinase                           4\n",
       "                                   Janus kinase 1|JAK1                    4\n",
       "                                   cytokine                               3\n",
       "                    gngm           Janus kinase                          10\n",
       "                                   Janus kinase 1|JAK1                    4\n",
       "                                   cytokine                               2\n",
       "                    orch           small molecule                         2\n",
       "       cilengitide  orch           small molecule                         6\n",
       "       leflunomide  aapp           cytokine                               9\n",
       "                                   Leptin|LEP                             8\n",
       "                                   Phosphotransferases                    4\n",
       "                                   Proto-Oncogene Proteins c-akt|AKT1     2\n",
       "                                   Interleukin-1 beta                     1\n",
       "                    gngm           Phosphotransferases                   11\n",
       "                                   cytokine                               6\n",
       "                                   Proto-Oncogene Proteins c-akt|AKT1     4\n",
       "                                   Interleukin-4                          2\n",
       "                                   PDCD1 gene|PDCD1                       2\n",
       "                                   STAT6 gene|STAT6                       2\n",
       "                                   ABCG2 gene|ABCG2                       1\n",
       "                                   Gelatinase B                           1\n",
       "                                   Interleukin-1 beta                     1\n",
       "                                   Leptin|LEP                             1\n",
       "Name: object_name_x, dtype: int64"
      ]
     },
     "execution_count": 33,
     "metadata": {},
     "output_type": "execute_result"
    }
   ],
   "source": [
    "overlap_counts = overlap_df.groupby(['set_x','set_y','object_type_x'])['object_name_x'].value_counts()\n",
    "overlap_counts"
   ]
  },
  {
   "cell_type": "markdown",
   "metadata": {},
   "source": [
    "### Obesity and thyroid cancer\n",
    "\n",
    "https://academic.oup.com/jcem/article/105/7/dgaa250/5835841"
   ]
  },
  {
   "cell_type": "code",
   "execution_count": 36,
   "metadata": {},
   "outputs": [
    {
     "data": {
      "text/plain": [
       "object_type_x  object_name_x                     \n",
       "aapp           Insulin                               17\n",
       "               ghrelin                               11\n",
       "               Proto-Oncogene Proteins c-akt|AKT1     5\n",
       "               PPAR gamma                             4\n",
       "               FRAP1 protein, human|MTOR              2\n",
       "               Sex Hormone-Binding Globulin           2\n",
       "               Corticotropin-Releasing Hormone        1\n",
       "               Somatostatin                           1\n",
       "dsyn           Syndrome                              30\n",
       "               Hypothyroidism                         3\n",
       "               Crohn's disease                        2\n",
       "               Thrombophilia                          2\n",
       "               Thrombus                               2\n",
       "gngm           Insulin                                7\n",
       "               PPAR gamma                             7\n",
       "               Proto-Oncogene Proteins c-akt|AKT1     5\n",
       "               ghrelin                                3\n",
       "               Sex Hormone-Binding Globulin           2\n",
       "               MAPKAP1                                1\n",
       "               Phosphotransferases                    1\n",
       "               Receptor Protein-Tyrosine Kinases      1\n",
       "horm           Hydrocortisone                         8\n",
       "               Glucocorticoids                        5\n",
       "               Insulin                                2\n",
       "orch           Metformin                              2\n",
       "Name: object_name_x, dtype: int64"
      ]
     },
     "execution_count": 36,
     "metadata": {},
     "output_type": "execute_result"
    }
   ],
   "source": [
    "q1=['obesity']\n",
    "q2=['thyroid cancer']\n",
    "\n",
    "overlap_df = overlap(q1,q2)\n",
    "overlap_counts = overlap_df.groupby(['object_type_x'])['object_name_x'].value_counts()\n",
    "overlap_counts"
   ]
  },
  {
   "cell_type": "markdown",
   "metadata": {},
   "source": [
    "### Coronavirus and dexamethasone\n",
    "\n",
    "Recent work (https://www.recoverytrial.net/) has demonstrated a potential beneficial effect of dexamethasone on covid-19. Here we can explore the potential intermediates connecting them, including genes, diseases and hormones. We can also separate the two terms `coronavirus` and `covid-19` to distinguish which semantic terms are associated with each query. "
   ]
  },
  {
   "cell_type": "code",
   "execution_count": 37,
   "metadata": {},
   "outputs": [
    {
     "data": {
      "text/plain": [
       "set_y        object_type_x  object_name_x                            \n",
       "coronavirus  aapp           cytokine                                      12\n",
       "                            TNF protein, human|TNF                         6\n",
       "                            TGFB1 protein, human|TGFB1                     3\n",
       "                            Tumor Necrosis Factor-alpha|TNF                3\n",
       "                            Endopeptidases                                 1\n",
       "                            Pulmonary Surfactant-Associated Protein A      1\n",
       "                            Pulmonary Surfactant-Associated Protein D      1\n",
       "             dsyn           Infection                                     24\n",
       "                            Pneumonia                                     10\n",
       "                            Syndrome                                       8\n",
       "                            Virus Diseases                                 8\n",
       "                            Hypertensive disease                           7\n",
       "                            Diabetes                                       4\n",
       "                            Respiratory Distress Syndrome, Adult           3\n",
       "                            Autoimmune Diseases                            1\n",
       "                            Inflammatory Bowel Diseases                    1\n",
       "                            Septicemia                                     1\n",
       "             gngm           Glycoproteins                                 12\n",
       "                            TNF protein, human|TNF                        12\n",
       "                            Antibodies                                     8\n",
       "                            cytokine                                       4\n",
       "                            TGFB1 protein, human|TGFB1                     3\n",
       "                            human leukocyte interferon|IFNA1               3\n",
       "                            Pulmonary Surfactant-Associated Protein A      2\n",
       "                            Interleukins                                   1\n",
       "                            Phosphotransferases                            1\n",
       "                            Ubiquitin                                      1\n",
       "             horm           Glucocorticoids                              164\n",
       "                            Adrenal Cortex Hormones                       16\n",
       "covid-19     dsyn           Hypertensive disease                          21\n",
       "                            Obesity                                        6\n",
       "                            Pneumonia                                      4\n",
       "                            Respiratory Distress Syndrome, Adult           4\n",
       "                            Diabetes                                       2\n",
       "                            Inflammatory Bowel Diseases                    1\n",
       "                            Septicemia                                     1\n",
       "             gngm           Antibodies                                     1\n",
       "             horm           Glucocorticoids                               82\n",
       "                            Adrenal Cortex Hormones                        8\n",
       "Name: object_name_x, dtype: int64"
      ]
     },
     "execution_count": 37,
     "metadata": {},
     "output_type": "execute_result"
    }
   ],
   "source": [
    "q1=['dexamethasone']\n",
    "q2=['coronavirus','covid-19']\n",
    "\n",
    "overlap_df = overlap(q1,q2)\n",
    "overlap_counts = overlap_df.groupby(['set_y','object_type_x'])['object_name_x'].value_counts()\n",
    "overlap_counts"
   ]
  },
  {
   "cell_type": "markdown",
   "metadata": {},
   "source": [
    "# Identifying risk factors for a disease\n",
    "\n",
    "We can explore one disease in detail to identify risk factors. In this case, `asthma`."
   ]
  },
  {
   "cell_type": "code",
   "execution_count": null,
   "metadata": {},
   "outputs": [],
   "source": [
    "q='breast cancer'\n",
    "enrich_df=enrich(q)\n",
    "\n",
    "#map to objects that contain the query term\n",
    "enrich_df = enrich_df[enrich_df['object_name'].str.contains(q,case=False)]\n",
    "#print(enrich_df)\n",
    "print(enrich_df.shape)\n",
    "\n",
    "#list of risk factor predicates\n",
    "rf_preds=['CAUSES','PREDISPOSES','PRECEDES','STIMULATES']\n",
    "rf=enrich_df[enrich_df['predicate'].isin(rf_preds)]\n",
    "\n",
    "#make sure pval is a float\n",
    "rf['pval']=rf['pval'].astype(float)\n",
    "\n",
    "#look at the top 20 ordered by enrichment pvalue\n",
    "rf.sort_values(by='pval',ascending=True).head(20)[['subject_name','subject_type','predicate','object_name','pval','localCount']]"
   ]
  },
  {
   "cell_type": "markdown",
   "metadata": {},
   "source": [
    "# All against all\n",
    "\n",
    "The excellent performance capabilities of MELODI Presto means we can perform an all-against-all analysis for a range of terms, e.g. a list of genes and diseases. This can create a network, highlighting potential shared mechanisms of action. \n",
    "\n",
    "As an example we examine the relationships between "
   ]
  },
  {
   "cell_type": "code",
   "execution_count": 17,
   "metadata": {},
   "outputs": [],
   "source": [
    "#just run enrich on each then create network"
   ]
  }
 ],
 "metadata": {
  "kernelspec": {
   "display_name": "melodi-presto",
   "language": "python",
   "name": "myenv"
  },
  "language_info": {
   "codemirror_mode": {
    "name": "ipython",
    "version": 3
   },
   "file_extension": ".py",
   "mimetype": "text/x-python",
   "name": "python",
   "nbconvert_exporter": "python",
   "pygments_lexer": "ipython3",
   "version": "3.7.6"
  }
 },
 "nbformat": 4,
 "nbformat_minor": 4
}
