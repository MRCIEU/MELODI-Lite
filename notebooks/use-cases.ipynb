{
 "cells": [
  {
   "cell_type": "markdown",
   "metadata": {},
   "source": [
    "# MELODI Presto Use Cases"
   ]
  },
  {
   "cell_type": "code",
   "execution_count": 4,
   "metadata": {},
   "outputs": [],
   "source": [
    "import json\n",
    "import pandas as pd\n",
    "import requests\n",
    "import matplotlib.pyplot as plt\n",
    "%matplotlib inline \n",
    "import numpy as np\n",
    "from utils import enrich, overlap, sentence"
   ]
  },
  {
   "cell_type": "markdown",
   "metadata": {},
   "source": [
    "## Configure parameters"
   ]
  },
  {
   "cell_type": "code",
   "execution_count": 3,
   "metadata": {},
   "outputs": [
    {
     "data": {
      "text/plain": [
       "True"
      ]
     },
     "execution_count": 3,
     "metadata": {},
     "output_type": "execute_result"
    }
   ],
   "source": [
    "API_URL = \"https://melodi-presto.mrcieu.ac.uk/api/\"\n",
    "\n",
    "requests.get(f\"{API_URL}/status\").json()"
   ]
  },
  {
   "cell_type": "markdown",
   "metadata": {},
   "source": [
    "### Psoriasis\n",
    "\n",
    "https://www.cell.com/ajhg/fulltext/S0002-9297(12)00157-7"
   ]
  },
  {
   "cell_type": "code",
   "execution_count": 5,
   "metadata": {},
   "outputs": [],
   "source": [
    "q1=['AP1S3','IL36RN','CARD14']\n",
    "q2=['Psoriasis']\n",
    "\n",
    "overlap_df = overlap(q1,q2)"
   ]
  },
  {
   "cell_type": "code",
   "execution_count": 6,
   "metadata": {},
   "outputs": [
    {
     "data": {
      "text/plain": [
       "set_x   object_type_x  object_name_x                \n",
       "ap1s3   gngm           CARD14                             5\n",
       "card14  aapp           NF-kappa B                         3\n",
       "        dsyn           Psoriasis                        861\n",
       "                       Autoimmune Diseases               10\n",
       "                       skin disorder                      8\n",
       "        gngm           NF-kappa B                        21\n",
       "                       CARD14                             5\n",
       "il36rn  aapp           Interleukin Receptor               1\n",
       "        dsyn           Arthritis, Psoriatic              33\n",
       "                       Pustulosis of Palms and Soles      3\n",
       "        gngm           CARD14                             5\n",
       "                       Interleukin Receptor               1\n",
       "Name: object_name_x, dtype: int64"
      ]
     },
     "execution_count": 6,
     "metadata": {},
     "output_type": "execute_result"
    }
   ],
   "source": [
    "overlap_counts = overlap_df.groupby(['set_x','object_type_x'])['object_name_x'].value_counts()\n",
    "overlap_counts"
   ]
  },
  {
   "cell_type": "markdown",
   "metadata": {},
   "source": [
    "### Drug repurposing\n",
    "\n",
    "https://www.medrxiv.org/content/10.1101/2020.05.07.20093286v1"
   ]
  },
  {
   "cell_type": "code",
   "execution_count": 7,
   "metadata": {},
   "outputs": [],
   "source": [
    "q1=['DHODH', 'ITGB5', 'JAK2']\n",
    "q2=['Leflunomide','Cilengitide','Baricitinib']\n",
    "\n",
    "overlap_df = overlap(q1,q2)"
   ]
  },
  {
   "cell_type": "code",
   "execution_count": 8,
   "metadata": {},
   "outputs": [
    {
     "data": {
      "text/plain": [
       "set_x  set_y        object_type_x  object_name_x                     \n",
       "dhodh  leflunomide  aapp           Phosphotransferases                    1\n",
       "                    dsyn           Rheumatoid Arthritis                   9\n",
       "                    gngm           Dihydroorotate dehydrogenase          50\n",
       "                                   Dihydroorotate dehydrogenase|DHODH     1\n",
       "                    orch           leflunomide                           92\n",
       "                                   Pyrimidine                            12\n",
       "jak2   baricitinib  aapp           Janus kinase                           4\n",
       "                                   Janus kinase 1|JAK1                    4\n",
       "                                   cytokine                               3\n",
       "                    gngm           Janus kinase                          11\n",
       "                                   Janus kinase 1|JAK1                    4\n",
       "                                   cytokine                               1\n",
       "                    orch           small molecule                         2\n",
       "       cilengitide  orch           small molecule                         6\n",
       "       leflunomide  aapp           Leptin|LEP                             8\n",
       "                                   cytokine                               6\n",
       "                                   Phosphotransferases                    4\n",
       "                                   Proto-Oncogene Proteins c-akt|AKT1     2\n",
       "                                   Interleukin-1 beta                     1\n",
       "                    gngm           Phosphotransferases                   12\n",
       "                                   Proto-Oncogene Proteins c-akt|AKT1     4\n",
       "                                   Interleukin-4                          2\n",
       "                                   STAT6 gene|STAT6                       2\n",
       "                                   cytokine                               2\n",
       "                                   ABCG2 gene|ABCG2                       1\n",
       "                                   Gelatinase B                           1\n",
       "                                   Interleukin-1 beta                     1\n",
       "                                   Leptin|LEP                             1\n",
       "Name: object_name_x, dtype: int64"
      ]
     },
     "execution_count": 8,
     "metadata": {},
     "output_type": "execute_result"
    }
   ],
   "source": [
    "overlap_counts = overlap_df.groupby(['set_x','set_y','object_type_x'])['object_name_x'].value_counts()\n",
    "overlap_counts"
   ]
  },
  {
   "cell_type": "markdown",
   "metadata": {},
   "source": [
    "### Other drug repurposing\n",
    "\n",
    "https://www.nature.com/articles/nrd.2018.168/tables/1lo"
   ]
  },
  {
   "cell_type": "code",
   "execution_count": 22,
   "metadata": {},
   "outputs": [],
   "source": [
    "q1=['(Ketoconazole) AND ((\"1900\"[Date - Create] : \"2000\"[Date - Create]))']\n",
    "q2=['(Cushing syndrome) AND ((\"1900\"[Date - Create] : \"2000\"[Date - Create]))']\n",
    "\n",
    "overlap_df = overlap(q1,q2)"
   ]
  },
  {
   "cell_type": "code",
   "execution_count": 23,
   "metadata": {},
   "outputs": [
    {
     "data": {
      "text/plain": [
       "object_type_x  object_name_x                  \n",
       "aapp           Corticotropin|POMC                  62\n",
       "               Glucocorticoid Receptor              1\n",
       "dsyn           Cushing Syndrome                    36\n",
       "               Hypertensive disease                 6\n",
       "               Adrenal Gland Hyperfunction          3\n",
       "               Infection                            3\n",
       "               Mycoses                              3\n",
       "               Adrenal gland hypofunction           1\n",
       "               Histoplasmosis                       1\n",
       "gngm           Corticotropin|POMC                  31\n",
       "               Corticotropin-Releasing Hormone     20\n",
       "horm           Hydrocortisone                     138\n",
       "               Adrenal Cortex Hormones             14\n",
       "               Testosterone                        14\n",
       "               Corticotropin                       13\n",
       "               Androgens                            6\n",
       "               Estradiol                            2\n",
       "               Steroid hormone                      2\n",
       "               Corticosterone                       1\n",
       "               Progesterone                         1\n",
       "orch           Ketoconazole                       210\n",
       "Name: object_name_x, dtype: int64"
      ]
     },
     "execution_count": 23,
     "metadata": {},
     "output_type": "execute_result"
    }
   ],
   "source": [
    "overlap_counts = overlap_df.groupby(['object_type_x'])['object_name_x'].value_counts()\n",
    "overlap_counts"
   ]
  },
  {
   "cell_type": "markdown",
   "metadata": {},
   "source": [
    "### Obesity and thyroid cancer\n",
    "\n",
    "https://academic.oup.com/jcem/article/105/7/dgaa250/5835841"
   ]
  },
  {
   "cell_type": "code",
   "execution_count": 15,
   "metadata": {},
   "outputs": [
    {
     "data": {
      "text/plain": [
       "object_type_x  object_name_x                     \n",
       "aapp           ghrelin                               10\n",
       "               PPAR gamma                             5\n",
       "               Proto-Oncogene Proteins c-akt|AKT1     4\n",
       "               receptor                               3\n",
       "               FRAP1 protein, human|MTOR              1\n",
       "               Sex Hormone-Binding Globulin           1\n",
       "               Somatostatin                           1\n",
       "dsyn           Syndrome                              26\n",
       "               Crohn's disease                        2\n",
       "               Hypothyroidism                         2\n",
       "               Thrombophilia                          2\n",
       "               Thrombus                               1\n",
       "gngm           Proto-Oncogene Proteins c-akt|AKT1     4\n",
       "               PPAR gamma                             3\n",
       "               ghrelin                                3\n",
       "               Sex Hormone-Binding Globulin           2\n",
       "               MAPKAP1                                1\n",
       "               Phosphotransferases                    1\n",
       "horm           Glucocorticoids                        3\n",
       "orch           Metformin                              2\n",
       "Name: object_name_x, dtype: int64"
      ]
     },
     "execution_count": 15,
     "metadata": {},
     "output_type": "execute_result"
    }
   ],
   "source": [
    "q1=['obesity']\n",
    "q2=['thyroid cancer']\n",
    "\n",
    "overlap_df = overlap(q1,q2)\n",
    "overlap_counts = overlap_df.groupby(['object_type_x'])['object_name_x'].value_counts()\n",
    "overlap_counts"
   ]
  },
  {
   "cell_type": "markdown",
   "metadata": {},
   "source": [
    "### Coronavirus and dexamethasone\n",
    "\n",
    "Recent work (https://www.recoverytrial.net/) has demonstrated a potential beneficial effect of dexamethasone on covid-19. Here we can explore the potential intermediates connecting them, including genes, diseases and hormones. We can also separate the two terms `coronavirus` and `covid-19` to distinguish which semantic terms are associated with each query. "
   ]
  },
  {
   "cell_type": "code",
   "execution_count": 16,
   "metadata": {},
   "outputs": [
    {
     "data": {
      "text/plain": [
       "set_y        object_type_x  object_name_x                            \n",
       "coronavirus  aapp           cytokine                                     12\n",
       "                            receptor                                     10\n",
       "                            TNF protein, human|TNF                        6\n",
       "                            Peptides                                      2\n",
       "                            Pulmonary Surfactant-Associated Protein A     1\n",
       "                            Pulmonary Surfactant-Associated Protein D     1\n",
       "             dsyn           Infection                                    11\n",
       "                            Pneumonia                                    10\n",
       "                            Diabetes                                      4\n",
       "                            Hypertensive disease                          4\n",
       "                            Syndrome                                      4\n",
       "                            Respiratory Distress Syndrome, Adult          3\n",
       "                            Autoimmune Diseases                           1\n",
       "                            Inflammatory Bowel Diseases                   1\n",
       "                            Septicemia                                    1\n",
       "             gngm           TNF protein, human|TNF                       12\n",
       "                            Antibodies                                    8\n",
       "                            Glycoproteins                                 6\n",
       "                            Peptides                                      6\n",
       "                            receptor                                      6\n",
       "                            cytokine                                      4\n",
       "                            TGFB1 protein, human|TGFB1                    3\n",
       "                            human leukocyte interferon|IFNA1              3\n",
       "                            Pulmonary Surfactant-Associated Protein A     2\n",
       "                            Phosphotransferases                           1\n",
       "             horm           Glucocorticoids                              58\n",
       "                            Adrenal Cortex Hormones                      16\n",
       "covid-19     dsyn           Hypertensive disease                         12\n",
       "                            Obesity                                       6\n",
       "                            Pneumonia                                     4\n",
       "                            Respiratory Distress Syndrome, Adult          4\n",
       "                            Diabetes                                      2\n",
       "                            Inflammatory Bowel Diseases                   1\n",
       "                            Septicemia                                    1\n",
       "             gngm           Antibodies                                    1\n",
       "             horm           Glucocorticoids                              58\n",
       "                            Adrenal Cortex Hormones                       8\n",
       "Name: object_name_x, dtype: int64"
      ]
     },
     "execution_count": 16,
     "metadata": {},
     "output_type": "execute_result"
    }
   ],
   "source": [
    "q1=['dexamethasone']\n",
    "q2=['coronavirus','covid-19']\n",
    "\n",
    "overlap_df = overlap(q1,q2)\n",
    "overlap_counts = overlap_df.groupby(['set_y','object_type_x'])['object_name_x'].value_counts()\n",
    "overlap_counts"
   ]
  },
  {
   "cell_type": "markdown",
   "metadata": {},
   "source": [
    "# All against all\n",
    "\n",
    "The excellent performance capabilities of MELODI Preso means we can perform an all-against-all analysis for a range of terms, e.g.  "
   ]
  },
  {
   "cell_type": "code",
   "execution_count": null,
   "metadata": {},
   "outputs": [],
   "source": []
  }
 ],
 "metadata": {
  "kernelspec": {
   "display_name": "melodi-presto",
   "language": "python",
   "name": "myenv"
  },
  "language_info": {
   "codemirror_mode": {
    "name": "ipython",
    "version": 3
   },
   "file_extension": ".py",
   "mimetype": "text/x-python",
   "name": "python",
   "nbconvert_exporter": "python",
   "pygments_lexer": "ipython3",
   "version": "3.7.6"
  }
 },
 "nbformat": 4,
 "nbformat_minor": 4
}
