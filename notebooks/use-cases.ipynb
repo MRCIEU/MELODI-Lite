{
 "cells": [
  {
   "cell_type": "markdown",
   "metadata": {},
   "source": [
    "# MELODI Presto Use Cases"
   ]
  },
  {
   "cell_type": "code",
   "execution_count": 1,
   "metadata": {},
   "outputs": [],
   "source": [
    "import json\n",
    "import pandas as pd\n",
    "import requests\n",
    "import matplotlib.pyplot as plt\n",
    "%matplotlib inline \n",
    "import numpy as np\n",
    "from utils import enrich, overlap, sentence, API_URL, plot_overlap_counts"
   ]
  },
  {
   "cell_type": "markdown",
   "metadata": {},
   "source": [
    "## Configure parameters"
   ]
  },
  {
   "cell_type": "code",
   "execution_count": 2,
   "metadata": {},
   "outputs": [
    {
     "data": {
      "text/plain": [
       "True"
      ]
     },
     "execution_count": 2,
     "metadata": {},
     "output_type": "execute_result"
    }
   ],
   "source": [
    "requests.get(f\"{API_URL}/status\").json()"
   ]
  },
  {
   "cell_type": "markdown",
   "metadata": {},
   "source": [
    "# Run the overlap function on some examples"
   ]
  },
  {
   "cell_type": "markdown",
   "metadata": {},
   "source": [
    "### Genetic basis of psoriasis\n",
    "\n",
    "https://www.cell.com/ajhg/fulltext/S0002-9297(12)00157-7"
   ]
  },
  {
   "cell_type": "code",
   "execution_count": 10,
   "metadata": {},
   "outputs": [],
   "source": [
    "q1=['AP1S3','IL36RN','CARD14']\n",
    "q2=['Psoriasis']\n",
    "\n",
    "overlap_df = overlap(q1,q2)"
   ]
  },
  {
   "cell_type": "code",
   "execution_count": 11,
   "metadata": {},
   "outputs": [
    {
     "name": "stdout",
     "output_type": "stream",
     "text": [
      "(954, 32)\n",
      "(78, 32)\n",
      "object_type_x  object_name_x                \n",
      "aapp           Interleukin Receptor              1\n",
      "dsyn           Arthritis, Psoriatic             33\n",
      "               Autoimmune Diseases               8\n",
      "               skin disorder                     8\n",
      "               Pustulosis of Palms and Soles     3\n",
      "gngm           NF-kappa B                       24\n",
      "               Interleukin Receptor              1\n",
      "Name: object_name_x, dtype: int64\n"
     ]
    },
    {
     "data": {
      "image/png": "[encoded data removed]",
      "text/plain": [
       "<Figure size 360x360 with 1 Axes>"
      ]
     },
     "metadata": {
      "needs_background": "light"
     },
     "output_type": "display_data"
    }
   ],
   "source": [
    "#ignore overlaps containing any of the query terms\n",
    "overlap_df = overlap_df[~overlap_df['object_name_x'].str.lower().isin([x.lower() for x in q1+q2])]\n",
    "\n",
    "overlap_counts = overlap_df.groupby(['object_type_x'])['object_name_x'].value_counts()\n",
    "print(overlap_counts)\n",
    "plt=plot_overlap_counts(overlap_counts)"
   ]
  },
  {
   "cell_type": "markdown",
   "metadata": {},
   "source": [
    "### Drug repurposing\n",
    "\n",
    "https://www.medrxiv.org/content/10.1101/2020.05.07.20093286v1"
   ]
  },
  {
   "cell_type": "code",
   "execution_count": 7,
   "metadata": {},
   "outputs": [],
   "source": [
    "q1=['DHODH', 'ITGB5', 'JAK2']\n",
    "q2=['Leflunomide','Cilengitide','Baricitinib']\n",
    "\n",
    "overlap_df = overlap(q1,q2)"
   ]
  },
  {
   "cell_type": "code",
   "execution_count": 8,
   "metadata": {},
   "outputs": [
    {
     "data": {
      "text/plain": [
       "set_x  set_y        object_type_x  object_name_x                     \n",
       "dhodh  leflunomide  aapp           Dihydroorotate dehydrogenase|DHODH      1\n",
       "                    dsyn           Rheumatoid Arthritis                   18\n",
       "                    gngm           Dihydroorotate dehydrogenase           50\n",
       "                                   Dihydroorotate dehydrogenase|DHODH      1\n",
       "                                   Phosphotransferases                     1\n",
       "                    orch           leflunomide                           148\n",
       "                                   Pyrimidine                             12\n",
       "jak2   baricitinib  aapp           Janus kinase                            5\n",
       "                                   Janus kinase 1|JAK1                     4\n",
       "                                   cytokine                                3\n",
       "                                   TNF protein, human|TNF                  1\n",
       "                    gngm           Janus kinase                           10\n",
       "                                   Janus kinase 1|JAK1                     4\n",
       "                                   cytokine                                2\n",
       "                    orch           small molecule                          2\n",
       "       cilengitide  orch           small molecule                          6\n",
       "       leflunomide  aapp           Leptin|LEP                              8\n",
       "                                   cytokine                                6\n",
       "                                   Phosphotransferases                     4\n",
       "                                   Proto-Oncogene Proteins c-akt|AKT1      2\n",
       "                                   Interleukin-1 beta                      1\n",
       "                    dsyn           Rheumatoid Arthritis                    6\n",
       "                    gngm           Phosphotransferases                    11\n",
       "                                   Proto-Oncogene Proteins c-akt|AKT1      5\n",
       "                                   cytokine                                4\n",
       "                                   Interleukin-1 beta                      2\n",
       "                                   Interleukin-4                           2\n",
       "                                   PDCD1 gene|PDCD1                        2\n",
       "                                   STAT6 gene|STAT6                        2\n",
       "                                   ABCG2 gene|ABCG2                        1\n",
       "                                   Gelatinase B                            1\n",
       "                                   Leptin|LEP                              1\n",
       "Name: object_name_x, dtype: int64"
      ]
     },
     "execution_count": 8,
     "metadata": {},
     "output_type": "execute_result"
    }
   ],
   "source": [
    "overlap_counts = overlap_df.groupby(['set_x','set_y','object_type_x'])['object_name_x'].value_counts()\n",
    "overlap_counts"
   ]
  },
  {
   "cell_type": "markdown",
   "metadata": {},
   "source": [
    "### Obesity and thyroid cancer\n",
    "\n",
    "https://academic.oup.com/jcem/article/105/7/dgaa250/5835841"
   ]
  },
  {
   "cell_type": "code",
   "execution_count": 9,
   "metadata": {},
   "outputs": [
    {
     "data": {
      "text/plain": [
       "object_type_x  object_name_x                     \n",
       "aapp           ghrelin                               10\n",
       "               Proto-Oncogene Proteins c-akt|AKT1     4\n",
       "               PPAR gamma                             3\n",
       "               Sex Hormone-Binding Globulin           3\n",
       "               Corticotropin-Releasing Hormone        1\n",
       "               FRAP1 protein, human|MTOR              1\n",
       "               Somatostatin                           1\n",
       "dsyn           Syndrome                              28\n",
       "               Crohn's disease                        3\n",
       "               Hypothyroidism                         2\n",
       "               Thrombophilia                          2\n",
       "               Thrombus                               1\n",
       "gngm           PPAR gamma                             6\n",
       "               Proto-Oncogene Proteins c-akt|AKT1     4\n",
       "               ghrelin                                3\n",
       "               MAPKAP1                                1\n",
       "               Phosphotransferases                    1\n",
       "               Sex Hormone-Binding Globulin           1\n",
       "horm           Glucocorticoids                        4\n",
       "orch           Metformin                              3\n",
       "phsu           Dexamethasone                          2\n",
       "               agonists                               2\n",
       "               Vitamin D                              1\n",
       "Name: object_name_x, dtype: int64"
      ]
     },
     "execution_count": 9,
     "metadata": {},
     "output_type": "execute_result"
    }
   ],
   "source": [
    "q1=['obesity']\n",
    "q2=['thyroid cancer']\n",
    "\n",
    "overlap_df = overlap(q1,q2)\n",
    "overlap_counts = overlap_df.groupby(['object_type_x'])['object_name_x'].value_counts()\n",
    "overlap_counts"
   ]
  },
  {
   "cell_type": "markdown",
   "metadata": {},
   "source": [
    "### Coronavirus and dexamethasone\n",
    "\n",
    "Recent work (https://www.recoverytrial.net/) has demonstrated a potential beneficial effect of dexamethasone on covid-19. Here we can explore the potential intermediates connecting them, including genes, diseases and hormones. We can also separate the two terms `coronavirus` and `covid-19` to distinguish which semantic terms are associated with each query. "
   ]
  },
  {
   "cell_type": "code",
   "execution_count": 10,
   "metadata": {},
   "outputs": [
    {
     "data": {
      "text/plain": [
       "set_y        object_type_x  object_name_x                            \n",
       "coronavirus  aapp           TNF protein, human|TNF                         9\n",
       "                            cytokine                                       8\n",
       "                            TGFB1 protein, human|TGFB1                     3\n",
       "                            human leukocyte interferon|IFNA1               3\n",
       "                            Pulmonary Surfactant-Associated Protein A      2\n",
       "                            Recombinant Interferon-gamma                   2\n",
       "                            Tumor Necrosis Factor-alpha|TNF                2\n",
       "                            Pulmonary Surfactant-Associated Protein D      1\n",
       "                            chemokine                                      1\n",
       "             dsyn           Infection                                     55\n",
       "                            Pneumonia                                     25\n",
       "                            Bronchiolitis                                  8\n",
       "                            Hypertensive disease                           8\n",
       "                            Virus Diseases                                 8\n",
       "                            Obesity                                        5\n",
       "                            Syndrome                                       5\n",
       "                            Diabetes                                       4\n",
       "                            Respiratory Distress Syndrome, Adult           3\n",
       "                            Autoimmune Diseases                            2\n",
       "                            Inflammatory Bowel Diseases                    2\n",
       "                            Septicemia                                     2\n",
       "             gngm           TNF protein, human|TNF                        18\n",
       "                            cytokine                                      16\n",
       "                            Glycoproteins                                 12\n",
       "                            TGFB1 protein, human|TGFB1                     9\n",
       "                            Antibodies                                     8\n",
       "                            Interferons                                    4\n",
       "                            Pulmonary Surfactant-Associated Protein A      4\n",
       "                            TP53 gene|TP53                                 3\n",
       "                            human leukocyte interferon|IFNA1               3\n",
       "                            Epidermal Growth Factor|EGF                    2\n",
       "                            Phosphotransferases                            2\n",
       "                            chemokine                                      2\n",
       "                            Complement System Proteins                     1\n",
       "                            Tumor Necrosis Factor-alpha|TNF                1\n",
       "             horm           Glucocorticoids                              134\n",
       "                            Adrenal Cortex Hormones                       24\n",
       "             phsu           sural                                         20\n",
       "                            Inflammation Mediators                         3\n",
       "                            Anti-Inflammatory Agents                       1\n",
       "                            Epidermal Growth Factor|EGF                    1\n",
       "covid-19     dsyn           Hypertensive disease                          24\n",
       "                            Pneumonia                                     10\n",
       "                            Obesity                                        5\n",
       "                            Respiratory Distress Syndrome, Adult           4\n",
       "                            Diabetes                                       2\n",
       "                            Inflammatory Bowel Diseases                    2\n",
       "                            Septicemia                                     2\n",
       "             gngm           Antibodies                                     1\n",
       "                            Complement System Proteins                     1\n",
       "             horm           Glucocorticoids                               67\n",
       "                            Adrenal Cortex Hormones                       12\n",
       "             phsu           Anti-Inflammatory Agents                       1\n",
       "Name: object_name_x, dtype: int64"
      ]
     },
     "execution_count": 10,
     "metadata": {},
     "output_type": "execute_result"
    }
   ],
   "source": [
    "q1=['dexamethasone']\n",
    "q2=['coronavirus','covid-19']\n",
    "\n",
    "overlap_df = overlap(q1,q2)\n",
    "overlap_counts = overlap_df.groupby(['set_y','object_type_x'])['object_name_x'].value_counts()\n",
    "overlap_counts"
   ]
  },
  {
   "cell_type": "markdown",
   "metadata": {},
   "source": [
    "# Identifying risk factors for a disease\n",
    "\n",
    "We can explore one disease in detail to identify risk factors. In this case, `asthma`."
   ]
  },
  {
   "cell_type": "code",
   "execution_count": 53,
   "metadata": {},
   "outputs": [
    {
     "name": "stdout",
     "output_type": "stream",
     "text": [
      "(3161, 16)\n"
     ]
    },
    {
     "name": "stderr",
     "output_type": "stream",
     "text": [
      "/Users/be15516/anaconda3/envs/MelodiPresto/lib/python3.7/site-packages/ipykernel_launcher.py:14: SettingWithCopyWarning: \n",
      "A value is trying to be set on a copy of a slice from a DataFrame.\n",
      "Try using .loc[row_indexer,col_indexer] = value instead\n",
      "\n",
      "See the caveats in the documentation: https://pandas.pydata.org/pandas-docs/stable/user_guide/indexing.html#returning-a-view-versus-a-copy\n",
      "  \n"
     ]
    },
    {
     "data": {
      "text/html": [
       "<div>\n",
       "<style scoped>\n",
       "    .dataframe tbody tr th:only-of-type {\n",
       "        vertical-align: middle;\n",
       "    }\n",
       "\n",
       "    .dataframe tbody tr th {\n",
       "        vertical-align: top;\n",
       "    }\n",
       "\n",
       "    .dataframe thead th {\n",
       "        text-align: right;\n",
       "    }\n",
       "</style>\n",
       "<table border=\"1\" class=\"dataframe\">\n",
       "  <thead>\n",
       "    <tr style=\"text-align: right;\">\n",
       "      <th></th>\n",
       "      <th>subject_name</th>\n",
       "      <th>subject_type</th>\n",
       "      <th>predicate</th>\n",
       "      <th>object_name</th>\n",
       "      <th>pval</th>\n",
       "      <th>localCount</th>\n",
       "    </tr>\n",
       "  </thead>\n",
       "  <tbody>\n",
       "    <tr>\n",
       "      <th>1</th>\n",
       "      <td>Ovalbumin</td>\n",
       "      <td>aapp</td>\n",
       "      <td>CAUSES</td>\n",
       "      <td>Asthma</td>\n",
       "      <td>0.000000e+00</td>\n",
       "      <td>686</td>\n",
       "    </tr>\n",
       "    <tr>\n",
       "      <th>6</th>\n",
       "      <td>Tolylene Diisocyanate</td>\n",
       "      <td>hops</td>\n",
       "      <td>CAUSES</td>\n",
       "      <td>Asthma</td>\n",
       "      <td>0.000000e+00</td>\n",
       "      <td>299</td>\n",
       "    </tr>\n",
       "    <tr>\n",
       "      <th>10</th>\n",
       "      <td>Obesity</td>\n",
       "      <td>dsyn</td>\n",
       "      <td>PREDISPOSES</td>\n",
       "      <td>Asthma</td>\n",
       "      <td>2.231166e-269</td>\n",
       "      <td>194</td>\n",
       "    </tr>\n",
       "    <tr>\n",
       "      <th>13</th>\n",
       "      <td>Ovalbumin</td>\n",
       "      <td>aapp</td>\n",
       "      <td>CAUSES</td>\n",
       "      <td>Extrinsic asthma NOS</td>\n",
       "      <td>9.277513e-231</td>\n",
       "      <td>166</td>\n",
       "    </tr>\n",
       "    <tr>\n",
       "      <th>20</th>\n",
       "      <td>Irritants</td>\n",
       "      <td>hops</td>\n",
       "      <td>CAUSES</td>\n",
       "      <td>Asthma</td>\n",
       "      <td>1.240808e-165</td>\n",
       "      <td>119</td>\n",
       "    </tr>\n",
       "    <tr>\n",
       "      <th>22</th>\n",
       "      <td>Isocyanates</td>\n",
       "      <td>orch</td>\n",
       "      <td>CAUSES</td>\n",
       "      <td>Asthma</td>\n",
       "      <td>7.125863e-163</td>\n",
       "      <td>117</td>\n",
       "    </tr>\n",
       "    <tr>\n",
       "      <th>31</th>\n",
       "      <td>Isocyanates</td>\n",
       "      <td>orch</td>\n",
       "      <td>CAUSES</td>\n",
       "      <td>Occupational asthma</td>\n",
       "      <td>1.792807e-142</td>\n",
       "      <td>102</td>\n",
       "    </tr>\n",
       "    <tr>\n",
       "      <th>38</th>\n",
       "      <td>Tolylene Diisocyanate</td>\n",
       "      <td>hops</td>\n",
       "      <td>CAUSES</td>\n",
       "      <td>Occupational asthma</td>\n",
       "      <td>1.557261e-124</td>\n",
       "      <td>89</td>\n",
       "    </tr>\n",
       "    <tr>\n",
       "      <th>44</th>\n",
       "      <td>Allergic rhinitis NOS</td>\n",
       "      <td>dsyn</td>\n",
       "      <td>PREDISPOSES</td>\n",
       "      <td>Asthma</td>\n",
       "      <td>5.684155e-108</td>\n",
       "      <td>77</td>\n",
       "    </tr>\n",
       "    <tr>\n",
       "      <th>48</th>\n",
       "      <td>cytokine</td>\n",
       "      <td>aapp</td>\n",
       "      <td>CAUSES</td>\n",
       "      <td>Asthma</td>\n",
       "      <td>2.969208e-95</td>\n",
       "      <td>68</td>\n",
       "    </tr>\n",
       "    <tr>\n",
       "      <th>56</th>\n",
       "      <td>Aspirin</td>\n",
       "      <td>orch</td>\n",
       "      <td>CAUSES</td>\n",
       "      <td>Asthma</td>\n",
       "      <td>3.305334e-84</td>\n",
       "      <td>60</td>\n",
       "    </tr>\n",
       "    <tr>\n",
       "      <th>74</th>\n",
       "      <td>Gastroesophageal reflux disease</td>\n",
       "      <td>dsyn</td>\n",
       "      <td>CAUSES</td>\n",
       "      <td>Asthma</td>\n",
       "      <td>1.096921e-70</td>\n",
       "      <td>50</td>\n",
       "    </tr>\n",
       "    <tr>\n",
       "      <th>85</th>\n",
       "      <td>Chemicals</td>\n",
       "      <td>chem</td>\n",
       "      <td>CAUSES</td>\n",
       "      <td>Occupational asthma</td>\n",
       "      <td>3.696883e-65</td>\n",
       "      <td>46</td>\n",
       "    </tr>\n",
       "    <tr>\n",
       "      <th>94</th>\n",
       "      <td>Ethanol</td>\n",
       "      <td>orch</td>\n",
       "      <td>CAUSES</td>\n",
       "      <td>Asthma</td>\n",
       "      <td>5.183030e-61</td>\n",
       "      <td>43</td>\n",
       "    </tr>\n",
       "    <tr>\n",
       "      <th>100</th>\n",
       "      <td>Respiratory Tract Infections</td>\n",
       "      <td>dsyn</td>\n",
       "      <td>CAUSES</td>\n",
       "      <td>Asthma</td>\n",
       "      <td>5.901258e-58</td>\n",
       "      <td>41</td>\n",
       "    </tr>\n",
       "    <tr>\n",
       "      <th>104</th>\n",
       "      <td>Obesity</td>\n",
       "      <td>dsyn</td>\n",
       "      <td>CAUSES</td>\n",
       "      <td>Asthma</td>\n",
       "      <td>1.758609e-55</td>\n",
       "      <td>39</td>\n",
       "    </tr>\n",
       "    <tr>\n",
       "      <th>112</th>\n",
       "      <td>Interleukin-13</td>\n",
       "      <td>aapp</td>\n",
       "      <td>CAUSES</td>\n",
       "      <td>Asthma</td>\n",
       "      <td>9.334413e-51</td>\n",
       "      <td>36</td>\n",
       "    </tr>\n",
       "    <tr>\n",
       "      <th>120</th>\n",
       "      <td>Dermatitis, Atopic</td>\n",
       "      <td>dsyn</td>\n",
       "      <td>PREDISPOSES</td>\n",
       "      <td>Asthma</td>\n",
       "      <td>5.997129e-50</td>\n",
       "      <td>35</td>\n",
       "    </tr>\n",
       "    <tr>\n",
       "      <th>125</th>\n",
       "      <td>Virus Diseases</td>\n",
       "      <td>dsyn</td>\n",
       "      <td>CAUSES</td>\n",
       "      <td>Asthma</td>\n",
       "      <td>2.830264e-48</td>\n",
       "      <td>34</td>\n",
       "    </tr>\n",
       "    <tr>\n",
       "      <th>133</th>\n",
       "      <td>Rhinitis</td>\n",
       "      <td>dsyn</td>\n",
       "      <td>PREDISPOSES</td>\n",
       "      <td>Asthma</td>\n",
       "      <td>3.510058e-47</td>\n",
       "      <td>33</td>\n",
       "    </tr>\n",
       "  </tbody>\n",
       "</table>\n",
       "</div>"
      ],
      "text/plain": [
       "                        subject_name subject_type    predicate  \\\n",
       "1                          Ovalbumin         aapp       CAUSES   \n",
       "6              Tolylene Diisocyanate         hops       CAUSES   \n",
       "10                           Obesity         dsyn  PREDISPOSES   \n",
       "13                         Ovalbumin         aapp       CAUSES   \n",
       "20                         Irritants         hops       CAUSES   \n",
       "22                       Isocyanates         orch       CAUSES   \n",
       "31                       Isocyanates         orch       CAUSES   \n",
       "38             Tolylene Diisocyanate         hops       CAUSES   \n",
       "44             Allergic rhinitis NOS         dsyn  PREDISPOSES   \n",
       "48                          cytokine         aapp       CAUSES   \n",
       "56                           Aspirin         orch       CAUSES   \n",
       "74   Gastroesophageal reflux disease         dsyn       CAUSES   \n",
       "85                         Chemicals         chem       CAUSES   \n",
       "94                           Ethanol         orch       CAUSES   \n",
       "100     Respiratory Tract Infections         dsyn       CAUSES   \n",
       "104                          Obesity         dsyn       CAUSES   \n",
       "112                   Interleukin-13         aapp       CAUSES   \n",
       "120               Dermatitis, Atopic         dsyn  PREDISPOSES   \n",
       "125                   Virus Diseases         dsyn       CAUSES   \n",
       "133                         Rhinitis         dsyn  PREDISPOSES   \n",
       "\n",
       "              object_name           pval localCount  \n",
       "1                  Asthma   0.000000e+00        686  \n",
       "6                  Asthma   0.000000e+00        299  \n",
       "10                 Asthma  2.231166e-269        194  \n",
       "13   Extrinsic asthma NOS  9.277513e-231        166  \n",
       "20                 Asthma  1.240808e-165        119  \n",
       "22                 Asthma  7.125863e-163        117  \n",
       "31    Occupational asthma  1.792807e-142        102  \n",
       "38    Occupational asthma  1.557261e-124         89  \n",
       "44                 Asthma  5.684155e-108         77  \n",
       "48                 Asthma   2.969208e-95         68  \n",
       "56                 Asthma   3.305334e-84         60  \n",
       "74                 Asthma   1.096921e-70         50  \n",
       "85    Occupational asthma   3.696883e-65         46  \n",
       "94                 Asthma   5.183030e-61         43  \n",
       "100                Asthma   5.901258e-58         41  \n",
       "104                Asthma   1.758609e-55         39  \n",
       "112                Asthma   9.334413e-51         36  \n",
       "120                Asthma   5.997129e-50         35  \n",
       "125                Asthma   2.830264e-48         34  \n",
       "133                Asthma   3.510058e-47         33  "
      ]
     },
     "execution_count": 53,
     "metadata": {},
     "output_type": "execute_result"
    }
   ],
   "source": [
    "q='asthma'\n",
    "enrich_df=enrich(q)\n",
    "\n",
    "#map to objects that contain the query term\n",
    "enrich_df = enrich_df[enrich_df['object_name'].str.contains(q,case=False)]\n",
    "#print(enrich_df)\n",
    "print(enrich_df.shape)\n",
    "\n",
    "#list of risk factor predicates\n",
    "rf_preds=['CAUSES','PREDISPOSES','PRECEDES','STIMULATES']\n",
    "rf=enrich_df[enrich_df['predicate'].isin(rf_preds)]\n",
    "\n",
    "#make sure pval is a float\n",
    "rf['pval']=rf['pval'].astype(float)\n",
    "\n",
    "#look at the top 20 ordered by enrichment pvalue\n",
    "rf.sort_values(by='pval',ascending=True).head(20)[['subject_name','subject_type','predicate','object_name','pval','localCount']]"
   ]
  },
  {
   "cell_type": "markdown",
   "metadata": {},
   "source": [
    "# All against all\n",
    "\n",
    "The excellent performance capabilities of MELODI Presto means we can perform an all-against-all analysis for a range of terms, e.g. a list of genes and diseases. This can create a network, highlighting potential shared mechanisms of action. \n",
    "\n",
    "As an example we examine the relationships between "
   ]
  },
  {
   "cell_type": "code",
   "execution_count": 17,
   "metadata": {},
   "outputs": [],
   "source": [
    "#just run enrich on each then create network"
   ]
  }
 ],
 "metadata": {
  "kernelspec": {
   "display_name": "melodi-presto",
   "language": "python",
   "name": "myenv"
  },
  "language_info": {
   "codemirror_mode": {
    "name": "ipython",
    "version": 3
   },
   "file_extension": ".py",
   "mimetype": "text/x-python",
   "name": "python",
   "nbconvert_exporter": "python",
   "pygments_lexer": "ipython3",
   "version": "3.7.6"
  }
 },
 "nbformat": 4,
 "nbformat_minor": 4
}
