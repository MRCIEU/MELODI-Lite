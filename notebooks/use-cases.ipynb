{
 "cells": [
  {
   "cell_type": "markdown",
   "metadata": {},
   "source": [
    "# MELODI Presto Use Cases"
   ]
  },
  {
   "cell_type": "code",
   "execution_count": 1,
   "metadata": {},
   "outputs": [],
   "source": [
    "import json\n",
    "import pandas as pd\n",
    "import requests\n",
    "import matplotlib.pyplot as plt\n",
    "%matplotlib inline \n",
    "import numpy as np\n",
    "from utils import enrich, overlap, sentence, API_URL"
   ]
  },
  {
   "cell_type": "markdown",
   "metadata": {},
   "source": [
    "## Configure parameters"
   ]
  },
  {
   "cell_type": "code",
   "execution_count": 3,
   "metadata": {},
   "outputs": [
    {
     "data": {
      "text/plain": [
       "True"
      ]
     },
     "execution_count": 3,
     "metadata": {},
     "output_type": "execute_result"
    }
   ],
   "source": [
    "requests.get(f\"{API_URL}/status\").json()"
   ]
  },
  {
   "cell_type": "markdown",
   "metadata": {},
   "source": [
    "# Run the overlap function on some examples"
   ]
  },
  {
   "cell_type": "markdown",
   "metadata": {},
   "source": [
    "### Genetic basis of psoriasis\n",
    "\n",
    "https://www.cell.com/ajhg/fulltext/S0002-9297(12)00157-7"
   ]
  },
  {
   "cell_type": "code",
   "execution_count": 35,
   "metadata": {},
   "outputs": [
    {
     "data": {
      "text/plain": [
       "set_x   object_type_x  object_name_x                \n",
       "ap1s3   gngm           CARD14                             5\n",
       "card14  aapp           NF-kappa B                         3\n",
       "        dsyn           Psoriasis                        861\n",
       "                       Autoimmune Diseases               10\n",
       "                       skin disorder                      8\n",
       "        gngm           NF-kappa B                        21\n",
       "                       CARD14                             5\n",
       "il36rn  aapp           Interleukin-1 beta                 5\n",
       "                       Interleukin Receptor               1\n",
       "        dsyn           Arthritis, Psoriatic              33\n",
       "                       Pustulosis of Palms and Soles      3\n",
       "        gngm           CARD14                             5\n",
       "                       Interleukin Receptor               1\n",
       "Name: object_name_x, dtype: int64"
      ]
     },
     "execution_count": 35,
     "metadata": {},
     "output_type": "execute_result"
    }
   ],
   "source": [
    "q1=['AP1S3','IL36RN','CARD14']\n",
    "q2=['Psoriasis']\n",
    "\n",
    "overlap_df = overlap(q1,q2)"
   ]
  },
  {
   "cell_type": "code",
   "execution_count": 5,
   "metadata": {},
   "outputs": [
    {
     "data": {
      "text/plain": [
       "set_x   object_type_x  object_name_x                \n",
       "ap1s3   gngm           CARD14                             5\n",
       "card14  aapp           NF-kappa B                         3\n",
       "        dsyn           Psoriasis                        861\n",
       "                       Autoimmune Diseases               10\n",
       "                       skin disorder                      8\n",
       "        gngm           NF-kappa B                        21\n",
       "                       CARD14                             5\n",
       "il36rn  aapp           Interleukin Receptor               1\n",
       "        dsyn           Arthritis, Psoriatic              33\n",
       "                       Pustulosis of Palms and Soles      3\n",
       "        gngm           CARD14                             5\n",
       "                       Interleukin Receptor               1\n",
       "Name: object_name_x, dtype: int64"
      ]
     },
     "execution_count": 5,
     "metadata": {},
     "output_type": "execute_result"
    }
   ],
   "source": [
    "overlap_counts = overlap_df.groupby(['set_x','object_type_x'])['object_name_x'].value_counts()\n",
    "overlap_counts"
   ]
  },
  {
   "cell_type": "markdown",
   "metadata": {},
   "source": [
    "### Drug repurposing\n",
    "\n",
    "https://www.medrxiv.org/content/10.1101/2020.05.07.20093286v1"
   ]
  },
  {
   "cell_type": "code",
   "execution_count": 32,
   "metadata": {},
   "outputs": [],
   "source": [
    "q1=['DHODH', 'ITGB5', 'JAK2']\n",
    "q2=['Leflunomide','Cilengitide','Baricitinib']\n",
    "\n",
    "overlap_df = overlap(q1,q2)"
   ]
  },
  {
   "cell_type": "code",
   "execution_count": 33,
   "metadata": {},
   "outputs": [
    {
     "data": {
      "text/plain": [
       "set_x  set_y        object_type_x  object_name_x                     \n",
       "dhodh  leflunomide  aapp           Phosphotransferases                    1\n",
       "                    dsyn           Rheumatoid Arthritis                   9\n",
       "                    gngm           Dihydroorotate dehydrogenase          60\n",
       "                                   Dihydroorotate dehydrogenase|DHODH     1\n",
       "                    orch           leflunomide                           92\n",
       "                                   Pyrimidine                            12\n",
       "jak2   baricitinib  aapp           Janus kinase                           4\n",
       "                                   Janus kinase 1|JAK1                    4\n",
       "                                   cytokine                               3\n",
       "                    gngm           Janus kinase                          10\n",
       "                                   Janus kinase 1|JAK1                    4\n",
       "                                   cytokine                               2\n",
       "                    orch           small molecule                         2\n",
       "       cilengitide  orch           small molecule                         6\n",
       "       leflunomide  aapp           cytokine                               9\n",
       "                                   Leptin|LEP                             8\n",
       "                                   Phosphotransferases                    4\n",
       "                                   Proto-Oncogene Proteins c-akt|AKT1     2\n",
       "                                   Interleukin-1 beta                     1\n",
       "                    gngm           Phosphotransferases                   11\n",
       "                                   cytokine                               6\n",
       "                                   Proto-Oncogene Proteins c-akt|AKT1     4\n",
       "                                   Interleukin-4                          2\n",
       "                                   PDCD1 gene|PDCD1                       2\n",
       "                                   STAT6 gene|STAT6                       2\n",
       "                                   ABCG2 gene|ABCG2                       1\n",
       "                                   Gelatinase B                           1\n",
       "                                   Interleukin-1 beta                     1\n",
       "                                   Leptin|LEP                             1\n",
       "Name: object_name_x, dtype: int64"
      ]
     },
     "execution_count": 33,
     "metadata": {},
     "output_type": "execute_result"
    }
   ],
   "source": [
    "overlap_counts = overlap_df.groupby(['set_x','set_y','object_type_x'])['object_name_x'].value_counts()\n",
    "overlap_counts"
   ]
  },
  {
   "cell_type": "markdown",
   "metadata": {},
   "source": [
    "### Obesity and thyroid cancer\n",
    "\n",
    "https://academic.oup.com/jcem/article/105/7/dgaa250/5835841"
   ]
  },
  {
   "cell_type": "code",
   "execution_count": null,
   "metadata": {},
   "outputs": [],
   "source": [
    "q1=['obesity']\n",
    "q2=['thyroid cancer']\n",
    "\n",
    "overlap_df = overlap(q1,q2)\n",
    "overlap_counts = overlap_df.groupby(['object_type_x'])['object_name_x'].value_counts()\n",
    "overlap_counts"
   ]
  },
  {
   "cell_type": "markdown",
   "metadata": {},
   "source": [
    "### Coronavirus and dexamethasone\n",
    "\n",
    "Recent work (https://www.recoverytrial.net/) has demonstrated a potential beneficial effect of dexamethasone on covid-19. Here we can explore the potential intermediates connecting them, including genes, diseases and hormones. We can also separate the two terms `coronavirus` and `covid-19` to distinguish which semantic terms are associated with each query. "
   ]
  },
  {
   "cell_type": "code",
   "execution_count": 16,
   "metadata": {},
   "outputs": [
    {
     "data": {
      "text/plain": [
       "set_y        object_type_x  object_name_x                            \n",
       "coronavirus  aapp           cytokine                                     12\n",
       "                            receptor                                     10\n",
       "                            TNF protein, human|TNF                        6\n",
       "                            Peptides                                      2\n",
       "                            Pulmonary Surfactant-Associated Protein A     1\n",
       "                            Pulmonary Surfactant-Associated Protein D     1\n",
       "             dsyn           Infection                                    11\n",
       "                            Pneumonia                                    10\n",
       "                            Diabetes                                      4\n",
       "                            Hypertensive disease                          4\n",
       "                            Syndrome                                      4\n",
       "                            Respiratory Distress Syndrome, Adult          3\n",
       "                            Autoimmune Diseases                           1\n",
       "                            Inflammatory Bowel Diseases                   1\n",
       "                            Septicemia                                    1\n",
       "             gngm           TNF protein, human|TNF                       12\n",
       "                            Antibodies                                    8\n",
       "                            Glycoproteins                                 6\n",
       "                            Peptides                                      6\n",
       "                            receptor                                      6\n",
       "                            cytokine                                      4\n",
       "                            TGFB1 protein, human|TGFB1                    3\n",
       "                            human leukocyte interferon|IFNA1              3\n",
       "                            Pulmonary Surfactant-Associated Protein A     2\n",
       "                            Phosphotransferases                           1\n",
       "             horm           Glucocorticoids                              58\n",
       "                            Adrenal Cortex Hormones                      16\n",
       "covid-19     dsyn           Hypertensive disease                         12\n",
       "                            Obesity                                       6\n",
       "                            Pneumonia                                     4\n",
       "                            Respiratory Distress Syndrome, Adult          4\n",
       "                            Diabetes                                      2\n",
       "                            Inflammatory Bowel Diseases                   1\n",
       "                            Septicemia                                    1\n",
       "             gngm           Antibodies                                    1\n",
       "             horm           Glucocorticoids                              58\n",
       "                            Adrenal Cortex Hormones                       8\n",
       "Name: object_name_x, dtype: int64"
      ]
     },
     "execution_count": 16,
     "metadata": {},
     "output_type": "execute_result"
    }
   ],
   "source": [
    "q1=['dexamethasone']\n",
    "q2=['coronavirus','covid-19']\n",
    "\n",
    "overlap_df = overlap(q1,q2)\n",
    "overlap_counts = overlap_df.groupby(['set_y','object_type_x'])['object_name_x'].value_counts()\n",
    "overlap_counts"
   ]
  },
  {
   "cell_type": "markdown",
   "metadata": {},
   "source": [
    "# Identifying risk factors for a disease\n",
    "\n",
    "We can explore one disease in detail to identify risk factors. In this case, `asthma`."
   ]
  },
  {
   "cell_type": "code",
   "execution_count": 13,
   "metadata": {},
   "outputs": [
    {
     "name": "stdout",
     "output_type": "stream",
     "text": [
      "       query                                     triple  \\\n",
      "0     asthma      Adrenal Cortex Hormones:TREATS:Asthma   \n",
      "1     asthma                     agonists:TREATS:Asthma   \n",
      "2     asthma                 Theophylline:TREATS:Asthma   \n",
      "3     asthma                    Ovalbumin:CAUSES:Asthma   \n",
      "4     asthma                    Albuterol:TREATS:Asthma   \n",
      "...      ...                                        ...   \n",
      "7207  asthma                 Flurbiprofen:TREATS:Asthma   \n",
      "7214  asthma               Neuropeptides:AFFECTS:Asthma   \n",
      "7224  asthma                     CO 1408:AFFECTS:Asthma   \n",
      "7226  asthma                 Elixophyllin:TREATS:Asthma   \n",
      "7232  asthma  ETS1 gene|ETS1:NEG_ASSOCIATED_WITH:Asthma   \n",
      "\n",
      "                 subject_name subject_type     subject_id  \\\n",
      "0     Adrenal Cortex Hormones         horm       C0001617   \n",
      "1                    agonists         phsu       C0243192   \n",
      "2                Theophylline         phsu       C0039771   \n",
      "3                   Ovalbumin         aapp       C0029923   \n",
      "4                   Albuterol         phsu       C0001927   \n",
      "...                       ...          ...            ...   \n",
      "7207             Flurbiprofen         phsu       C0016377   \n",
      "7214            Neuropeptides         aapp       C0027895   \n",
      "7224                  CO 1408         orch       C0082054   \n",
      "7226             Elixophyllin         orch       C0700831   \n",
      "7232           ETS1 gene|ETS1         gngm  C0812201|2113   \n",
      "\n",
      "                predicate object_name object_type object_id localCount  \\\n",
      "0                  TREATS      Asthma        dsyn  C0004096       1098   \n",
      "1                  TREATS      Asthma        dsyn  C0004096        566   \n",
      "2                  TREATS      Asthma        dsyn  C0004096        452   \n",
      "3                  CAUSES      Asthma        dsyn  C0004096        343   \n",
      "4                  TREATS      Asthma        dsyn  C0004096        336   \n",
      "...                   ...         ...         ...       ...        ...   \n",
      "7207               TREATS      Asthma        dsyn  C0004096          2   \n",
      "7214              AFFECTS      Asthma        dsyn  C0004096          2   \n",
      "7224              AFFECTS      Asthma        dsyn  C0004096          2   \n",
      "7226               TREATS      Asthma        dsyn  C0004096          2   \n",
      "7232  NEG_ASSOCIATED_WITH      Asthma        dsyn  C0004096          2   \n",
      "\n",
      "     localTotal globalCount globalTotal               odds  \\\n",
      "0         69112        1104     6083603  88.94406945948468   \n",
      "1         69112         570     6083603  88.12104352001295   \n",
      "2         69112         463     6083603  86.49309868202097   \n",
      "3         69112         346     6083603  87.69230317599248   \n",
      "4         69112         339     6083603  87.66764285956924   \n",
      "...         ...         ...         ...                ...   \n",
      "7207      69112           2     6083603  88.02779626682101   \n",
      "7214      69112           2     6083603  88.02779626682101   \n",
      "7224      69112           2     6083603  88.02779626682101   \n",
      "7226      69112           2     6083603  88.02779626682101   \n",
      "7232      69112           2     6083603  88.02779626682101   \n",
      "\n",
      "                       pval                                              pmids  \n",
      "0                       0.0  12476085 23370915 23781396 8756793 10686039 94...  \n",
      "1                       0.0  25324048 3611820 8361017 15379595 21437051 216...  \n",
      "2                       0.0  1659436 15266839 3757785 9461718 9703210 95903...  \n",
      "3                       0.0  17351063 26702150 24523826 22122306 30092299 1...  \n",
      "4                       0.0  7601387 3902498 35430 7606988 20148372 6455096...  \n",
      "...                     ...                                                ...  \n",
      "7207  0.0007457490787809343                                            1541161  \n",
      "7214  0.0007457490787809343                                    7542949 7713199  \n",
      "7224  0.0007457490787809343                                            8005250  \n",
      "7226  0.0007457490787809343                                  13545706 13734427  \n",
      "7232  0.0007457490787809343                                           12359648  \n",
      "\n",
      "[2668 rows x 16 columns]\n",
      "(2668, 16)\n"
     ]
    },
    {
     "name": "stderr",
     "output_type": "stream",
     "text": [
      "/Users/be15516/anaconda3/envs/MelodiPresto/lib/python3.7/site-packages/ipykernel_launcher.py:14: SettingWithCopyWarning: \n",
      "A value is trying to be set on a copy of a slice from a DataFrame.\n",
      "Try using .loc[row_indexer,col_indexer] = value instead\n",
      "\n",
      "See the caveats in the documentation: https://pandas.pydata.org/pandas-docs/stable/user_guide/indexing.html#returning-a-view-versus-a-copy\n",
      "  \n"
     ]
    },
    {
     "data": {
      "text/html": [
       "<div>\n",
       "<style scoped>\n",
       "    .dataframe tbody tr th:only-of-type {\n",
       "        vertical-align: middle;\n",
       "    }\n",
       "\n",
       "    .dataframe tbody tr th {\n",
       "        vertical-align: top;\n",
       "    }\n",
       "\n",
       "    .dataframe thead th {\n",
       "        text-align: right;\n",
       "    }\n",
       "</style>\n",
       "<table border=\"1\" class=\"dataframe\">\n",
       "  <thead>\n",
       "    <tr style=\"text-align: right;\">\n",
       "      <th></th>\n",
       "      <th>subject_name</th>\n",
       "      <th>subject_type</th>\n",
       "      <th>predicate</th>\n",
       "      <th>object_name</th>\n",
       "      <th>pval</th>\n",
       "      <th>localCount</th>\n",
       "    </tr>\n",
       "  </thead>\n",
       "  <tbody>\n",
       "    <tr>\n",
       "      <th>3</th>\n",
       "      <td>Ovalbumin</td>\n",
       "      <td>aapp</td>\n",
       "      <td>CAUSES</td>\n",
       "      <td>Asthma</td>\n",
       "      <td>0.000000e+00</td>\n",
       "      <td>343</td>\n",
       "    </tr>\n",
       "    <tr>\n",
       "      <th>14</th>\n",
       "      <td>Tolylene Diisocyanate</td>\n",
       "      <td>hops</td>\n",
       "      <td>CAUSES</td>\n",
       "      <td>Asthma</td>\n",
       "      <td>2.017832e-227</td>\n",
       "      <td>167</td>\n",
       "    </tr>\n",
       "    <tr>\n",
       "      <th>27</th>\n",
       "      <td>Ovalbumin</td>\n",
       "      <td>aapp</td>\n",
       "      <td>CAUSES</td>\n",
       "      <td>Extrinsic asthma NOS</td>\n",
       "      <td>2.496073e-122</td>\n",
       "      <td>89</td>\n",
       "    </tr>\n",
       "    <tr>\n",
       "      <th>30</th>\n",
       "      <td>Obesity</td>\n",
       "      <td>dsyn</td>\n",
       "      <td>PREDISPOSES</td>\n",
       "      <td>Asthma</td>\n",
       "      <td>1.493422e-115</td>\n",
       "      <td>84</td>\n",
       "    </tr>\n",
       "    <tr>\n",
       "      <th>35</th>\n",
       "      <td>Isocyanates</td>\n",
       "      <td>orch</td>\n",
       "      <td>CAUSES</td>\n",
       "      <td>Asthma</td>\n",
       "      <td>3.946026e-110</td>\n",
       "      <td>80</td>\n",
       "    </tr>\n",
       "    <tr>\n",
       "      <th>37</th>\n",
       "      <td>Irritants</td>\n",
       "      <td>hops</td>\n",
       "      <td>CAUSES</td>\n",
       "      <td>Asthma</td>\n",
       "      <td>2.050901e-104</td>\n",
       "      <td>76</td>\n",
       "    </tr>\n",
       "    <tr>\n",
       "      <th>47</th>\n",
       "      <td>Isocyanates</td>\n",
       "      <td>orch</td>\n",
       "      <td>CAUSES</td>\n",
       "      <td>Occupational asthma</td>\n",
       "      <td>1.945940e-88</td>\n",
       "      <td>64</td>\n",
       "    </tr>\n",
       "    <tr>\n",
       "      <th>52</th>\n",
       "      <td>Tolylene Diisocyanate</td>\n",
       "      <td>hops</td>\n",
       "      <td>CAUSES</td>\n",
       "      <td>Occupational asthma</td>\n",
       "      <td>1.175884e-81</td>\n",
       "      <td>59</td>\n",
       "    </tr>\n",
       "    <tr>\n",
       "      <th>71</th>\n",
       "      <td>Aspirin</td>\n",
       "      <td>orch</td>\n",
       "      <td>CAUSES</td>\n",
       "      <td>Asthma</td>\n",
       "      <td>1.932898e-66</td>\n",
       "      <td>48</td>\n",
       "    </tr>\n",
       "    <tr>\n",
       "      <th>77</th>\n",
       "      <td>cytokine</td>\n",
       "      <td>aapp</td>\n",
       "      <td>CAUSES</td>\n",
       "      <td>Asthma</td>\n",
       "      <td>2.279143e-62</td>\n",
       "      <td>45</td>\n",
       "    </tr>\n",
       "    <tr>\n",
       "      <th>105</th>\n",
       "      <td>Gastroesophageal reflux disease</td>\n",
       "      <td>dsyn</td>\n",
       "      <td>CAUSES</td>\n",
       "      <td>Asthma</td>\n",
       "      <td>2.313513e-46</td>\n",
       "      <td>33</td>\n",
       "    </tr>\n",
       "    <tr>\n",
       "      <th>112</th>\n",
       "      <td>Allergic rhinitis NOS</td>\n",
       "      <td>dsyn</td>\n",
       "      <td>PREDISPOSES</td>\n",
       "      <td>Asthma</td>\n",
       "      <td>1.210135e-43</td>\n",
       "      <td>31</td>\n",
       "    </tr>\n",
       "    <tr>\n",
       "      <th>124</th>\n",
       "      <td>Virus Diseases</td>\n",
       "      <td>dsyn</td>\n",
       "      <td>CAUSES</td>\n",
       "      <td>Asthma</td>\n",
       "      <td>5.390849e-42</td>\n",
       "      <td>30</td>\n",
       "    </tr>\n",
       "    <tr>\n",
       "      <th>154</th>\n",
       "      <td>Ethanol</td>\n",
       "      <td>orch</td>\n",
       "      <td>CAUSES</td>\n",
       "      <td>Asthma</td>\n",
       "      <td>1.754873e-35</td>\n",
       "      <td>25</td>\n",
       "    </tr>\n",
       "    <tr>\n",
       "      <th>149</th>\n",
       "      <td>Chemicals</td>\n",
       "      <td>chem</td>\n",
       "      <td>CAUSES</td>\n",
       "      <td>Occupational asthma</td>\n",
       "      <td>1.754873e-35</td>\n",
       "      <td>25</td>\n",
       "    </tr>\n",
       "    <tr>\n",
       "      <th>153</th>\n",
       "      <td>Food Allergy</td>\n",
       "      <td>dsyn</td>\n",
       "      <td>CAUSES</td>\n",
       "      <td>Asthma</td>\n",
       "      <td>1.754873e-35</td>\n",
       "      <td>25</td>\n",
       "    </tr>\n",
       "    <tr>\n",
       "      <th>166</th>\n",
       "      <td>Analgesics</td>\n",
       "      <td>phsu</td>\n",
       "      <td>CAUSES</td>\n",
       "      <td>Asthma</td>\n",
       "      <td>4.031967e-34</td>\n",
       "      <td>24</td>\n",
       "    </tr>\n",
       "    <tr>\n",
       "      <th>162</th>\n",
       "      <td>Interleukin-13</td>\n",
       "      <td>aapp</td>\n",
       "      <td>CAUSES</td>\n",
       "      <td>Asthma</td>\n",
       "      <td>1.487167e-33</td>\n",
       "      <td>24</td>\n",
       "    </tr>\n",
       "    <tr>\n",
       "      <th>196</th>\n",
       "      <td>Anti-Inflammatory Agents, Non-Steroidal</td>\n",
       "      <td>phsu</td>\n",
       "      <td>CAUSES</td>\n",
       "      <td>Asthma</td>\n",
       "      <td>1.133903e-28</td>\n",
       "      <td>20</td>\n",
       "    </tr>\n",
       "    <tr>\n",
       "      <th>207</th>\n",
       "      <td>trimellitic anhydride</td>\n",
       "      <td>hops</td>\n",
       "      <td>CAUSES</td>\n",
       "      <td>Asthma</td>\n",
       "      <td>2.618388e-27</td>\n",
       "      <td>19</td>\n",
       "    </tr>\n",
       "  </tbody>\n",
       "</table>\n",
       "</div>"
      ],
      "text/plain": [
       "                                subject_name subject_type    predicate  \\\n",
       "3                                  Ovalbumin         aapp       CAUSES   \n",
       "14                     Tolylene Diisocyanate         hops       CAUSES   \n",
       "27                                 Ovalbumin         aapp       CAUSES   \n",
       "30                                   Obesity         dsyn  PREDISPOSES   \n",
       "35                               Isocyanates         orch       CAUSES   \n",
       "37                                 Irritants         hops       CAUSES   \n",
       "47                               Isocyanates         orch       CAUSES   \n",
       "52                     Tolylene Diisocyanate         hops       CAUSES   \n",
       "71                                   Aspirin         orch       CAUSES   \n",
       "77                                  cytokine         aapp       CAUSES   \n",
       "105          Gastroesophageal reflux disease         dsyn       CAUSES   \n",
       "112                    Allergic rhinitis NOS         dsyn  PREDISPOSES   \n",
       "124                           Virus Diseases         dsyn       CAUSES   \n",
       "154                                  Ethanol         orch       CAUSES   \n",
       "149                                Chemicals         chem       CAUSES   \n",
       "153                             Food Allergy         dsyn       CAUSES   \n",
       "166                               Analgesics         phsu       CAUSES   \n",
       "162                           Interleukin-13         aapp       CAUSES   \n",
       "196  Anti-Inflammatory Agents, Non-Steroidal         phsu       CAUSES   \n",
       "207                    trimellitic anhydride         hops       CAUSES   \n",
       "\n",
       "              object_name           pval localCount  \n",
       "3                  Asthma   0.000000e+00        343  \n",
       "14                 Asthma  2.017832e-227        167  \n",
       "27   Extrinsic asthma NOS  2.496073e-122         89  \n",
       "30                 Asthma  1.493422e-115         84  \n",
       "35                 Asthma  3.946026e-110         80  \n",
       "37                 Asthma  2.050901e-104         76  \n",
       "47    Occupational asthma   1.945940e-88         64  \n",
       "52    Occupational asthma   1.175884e-81         59  \n",
       "71                 Asthma   1.932898e-66         48  \n",
       "77                 Asthma   2.279143e-62         45  \n",
       "105                Asthma   2.313513e-46         33  \n",
       "112                Asthma   1.210135e-43         31  \n",
       "124                Asthma   5.390849e-42         30  \n",
       "154                Asthma   1.754873e-35         25  \n",
       "149   Occupational asthma   1.754873e-35         25  \n",
       "153                Asthma   1.754873e-35         25  \n",
       "166                Asthma   4.031967e-34         24  \n",
       "162                Asthma   1.487167e-33         24  \n",
       "196                Asthma   1.133903e-28         20  \n",
       "207                Asthma   2.618388e-27         19  "
      ]
     },
     "execution_count": 13,
     "metadata": {},
     "output_type": "execute_result"
    }
   ],
   "source": [
    "q='asthma'\n",
    "enrich_df=enrich(q)\n",
    "\n",
    "#map to objects that contain the query term\n",
    "enrich_df = enrich_df[enrich_df['object_name'].str.contains(q,case=False)]\n",
    "print(enrich_df)\n",
    "print(enrich_df.shape)\n",
    "\n",
    "#list of risk factor predicates\n",
    "rf_preds=['CAUSES','PREDISPOSES','PRECEDES','STIMULATES']\n",
    "rf=enrich_df[enrich_df['predicate'].isin(rf_preds)]\n",
    "\n",
    "#make sure pval is a float\n",
    "rf['pval']=rf['pval'].astype(float)\n",
    "\n",
    "#look at the top 20 ordered by enrichment pvalue\n",
    "rf.sort_values(by='pval',ascending=True).head(20)[['subject_name','subject_type','predicate','object_name','pval','localCount']]"
   ]
  },
  {
   "cell_type": "markdown",
   "metadata": {},
   "source": [
    "# All against all\n",
    "\n",
    "The excellent performance capabilities of MELODI Presto means we can perform an all-against-all analysis for a range of terms, e.g. a list of genes and diseases. This can create a network, highlighting potential shared mechanisms of action. \n",
    "\n",
    "As an example we examine the relationships between "
   ]
  },
  {
   "cell_type": "code",
   "execution_count": 17,
   "metadata": {},
   "outputs": [],
   "source": [
    "#just run enrich on each then create network"
   ]
  }
 ],
 "metadata": {
  "kernelspec": {
   "display_name": "melodi-presto",
   "language": "python",
   "name": "myenv"
  },
  "language_info": {
   "codemirror_mode": {
    "name": "ipython",
    "version": 3
   },
   "file_extension": ".py",
   "mimetype": "text/x-python",
   "name": "python",
   "nbconvert_exporter": "python",
   "pygments_lexer": "ipython3",
   "version": "3.7.6"
  }
 },
 "nbformat": 4,
 "nbformat_minor": 4
}
