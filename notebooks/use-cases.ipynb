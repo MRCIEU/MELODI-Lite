{
 "cells": [
  {
   "cell_type": "markdown",
   "metadata": {},
   "source": [
    "# MELODI Presto Use Cases"
   ]
  },
  {
   "cell_type": "code",
   "execution_count": 4,
   "metadata": {},
   "outputs": [],
   "source": [
    "import json\n",
    "import pandas as pd\n",
    "import requests\n",
    "import matplotlib.pyplot as plt\n",
    "%matplotlib inline \n",
    "import numpy as np\n",
    "from utils import enrich, overlap, sentence"
   ]
  },
  {
   "cell_type": "markdown",
   "metadata": {},
   "source": [
    "## Configure parameters"
   ]
  },
  {
   "cell_type": "code",
   "execution_count": 3,
   "metadata": {},
   "outputs": [
    {
     "data": {
      "text/plain": [
       "True"
      ]
     },
     "execution_count": 3,
     "metadata": {},
     "output_type": "execute_result"
    }
   ],
   "source": [
    "API_URL = \"https://melodi-presto.mrcieu.ac.uk/api/\"\n",
    "\n",
    "requests.get(f\"{API_URL}/status\").json()"
   ]
  },
  {
   "cell_type": "markdown",
   "metadata": {},
   "source": [
    "# Run the overlap function on some examples"
   ]
  },
  {
   "cell_type": "markdown",
   "metadata": {},
   "source": [
    "### Genetic basis of psoriasis\n",
    "\n",
    "https://www.cell.com/ajhg/fulltext/S0002-9297(12)00157-7"
   ]
  },
  {
   "cell_type": "code",
   "execution_count": 5,
   "metadata": {},
   "outputs": [],
   "source": [
    "q1=['AP1S3','IL36RN','CARD14']\n",
    "q2=['Psoriasis']\n",
    "\n",
    "overlap_df = overlap(q1,q2)"
   ]
  },
  {
   "cell_type": "code",
   "execution_count": 6,
   "metadata": {},
   "outputs": [
    {
     "data": {
      "text/plain": [
       "set_x   object_type_x  object_name_x                \n",
       "ap1s3   gngm           CARD14                             5\n",
       "card14  aapp           NF-kappa B                         3\n",
       "        dsyn           Psoriasis                        861\n",
       "                       Autoimmune Diseases               10\n",
       "                       skin disorder                      8\n",
       "        gngm           NF-kappa B                        21\n",
       "                       CARD14                             5\n",
       "il36rn  aapp           Interleukin Receptor               1\n",
       "        dsyn           Arthritis, Psoriatic              33\n",
       "                       Pustulosis of Palms and Soles      3\n",
       "        gngm           CARD14                             5\n",
       "                       Interleukin Receptor               1\n",
       "Name: object_name_x, dtype: int64"
      ]
     },
     "execution_count": 6,
     "metadata": {},
     "output_type": "execute_result"
    }
   ],
   "source": [
    "overlap_counts = overlap_df.groupby(['set_x','object_type_x'])['object_name_x'].value_counts()\n",
    "overlap_counts"
   ]
  },
  {
   "cell_type": "markdown",
   "metadata": {},
   "source": [
    "### Drug repurposing\n",
    "\n",
    "https://www.medrxiv.org/content/10.1101/2020.05.07.20093286v1"
   ]
  },
  {
   "cell_type": "code",
   "execution_count": 7,
   "metadata": {},
   "outputs": [],
   "source": [
    "q1=['DHODH', 'ITGB5', 'JAK2']\n",
    "q2=['Leflunomide','Cilengitide','Baricitinib']\n",
    "\n",
    "overlap_df = overlap(q1,q2)"
   ]
  },
  {
   "cell_type": "code",
   "execution_count": 8,
   "metadata": {},
   "outputs": [
    {
     "data": {
      "text/plain": [
       "set_x  set_y        object_type_x  object_name_x                     \n",
       "dhodh  leflunomide  aapp           Phosphotransferases                    1\n",
       "                    dsyn           Rheumatoid Arthritis                   9\n",
       "                    gngm           Dihydroorotate dehydrogenase          50\n",
       "                                   Dihydroorotate dehydrogenase|DHODH     1\n",
       "                    orch           leflunomide                           92\n",
       "                                   Pyrimidine                            12\n",
       "jak2   baricitinib  aapp           Janus kinase                           4\n",
       "                                   Janus kinase 1|JAK1                    4\n",
       "                                   cytokine                               3\n",
       "                    gngm           Janus kinase                          11\n",
       "                                   Janus kinase 1|JAK1                    4\n",
       "                                   cytokine                               1\n",
       "                    orch           small molecule                         2\n",
       "       cilengitide  orch           small molecule                         6\n",
       "       leflunomide  aapp           Leptin|LEP                             8\n",
       "                                   cytokine                               6\n",
       "                                   Phosphotransferases                    4\n",
       "                                   Proto-Oncogene Proteins c-akt|AKT1     2\n",
       "                                   Interleukin-1 beta                     1\n",
       "                    gngm           Phosphotransferases                   12\n",
       "                                   Proto-Oncogene Proteins c-akt|AKT1     4\n",
       "                                   Interleukin-4                          2\n",
       "                                   STAT6 gene|STAT6                       2\n",
       "                                   cytokine                               2\n",
       "                                   ABCG2 gene|ABCG2                       1\n",
       "                                   Gelatinase B                           1\n",
       "                                   Interleukin-1 beta                     1\n",
       "                                   Leptin|LEP                             1\n",
       "Name: object_name_x, dtype: int64"
      ]
     },
     "execution_count": 8,
     "metadata": {},
     "output_type": "execute_result"
    }
   ],
   "source": [
    "overlap_counts = overlap_df.groupby(['set_x','set_y','object_type_x'])['object_name_x'].value_counts()\n",
    "overlap_counts"
   ]
  },
  {
   "cell_type": "markdown",
   "metadata": {},
   "source": [
    "### Obesity and thyroid cancer\n",
    "\n",
    "https://academic.oup.com/jcem/article/105/7/dgaa250/5835841"
   ]
  },
  {
   "cell_type": "code",
   "execution_count": 15,
   "metadata": {},
   "outputs": [
    {
     "data": {
      "text/plain": [
       "object_type_x  object_name_x                     \n",
       "aapp           ghrelin                               10\n",
       "               PPAR gamma                             5\n",
       "               Proto-Oncogene Proteins c-akt|AKT1     4\n",
       "               receptor                               3\n",
       "               FRAP1 protein, human|MTOR              1\n",
       "               Sex Hormone-Binding Globulin           1\n",
       "               Somatostatin                           1\n",
       "dsyn           Syndrome                              26\n",
       "               Crohn's disease                        2\n",
       "               Hypothyroidism                         2\n",
       "               Thrombophilia                          2\n",
       "               Thrombus                               1\n",
       "gngm           Proto-Oncogene Proteins c-akt|AKT1     4\n",
       "               PPAR gamma                             3\n",
       "               ghrelin                                3\n",
       "               Sex Hormone-Binding Globulin           2\n",
       "               MAPKAP1                                1\n",
       "               Phosphotransferases                    1\n",
       "horm           Glucocorticoids                        3\n",
       "orch           Metformin                              2\n",
       "Name: object_name_x, dtype: int64"
      ]
     },
     "execution_count": 15,
     "metadata": {},
     "output_type": "execute_result"
    }
   ],
   "source": [
    "q1=['obesity']\n",
    "q2=['thyroid cancer']\n",
    "\n",
    "overlap_df = overlap(q1,q2)\n",
    "overlap_counts = overlap_df.groupby(['object_type_x'])['object_name_x'].value_counts()\n",
    "overlap_counts"
   ]
  },
  {
   "cell_type": "markdown",
   "metadata": {},
   "source": [
    "### Coronavirus and dexamethasone\n",
    "\n",
    "Recent work (https://www.recoverytrial.net/) has demonstrated a potential beneficial effect of dexamethasone on covid-19. Here we can explore the potential intermediates connecting them, including genes, diseases and hormones. We can also separate the two terms `coronavirus` and `covid-19` to distinguish which semantic terms are associated with each query. "
   ]
  },
  {
   "cell_type": "code",
   "execution_count": 16,
   "metadata": {},
   "outputs": [
    {
     "data": {
      "text/plain": [
       "set_y        object_type_x  object_name_x                            \n",
       "coronavirus  aapp           cytokine                                     12\n",
       "                            receptor                                     10\n",
       "                            TNF protein, human|TNF                        6\n",
       "                            Peptides                                      2\n",
       "                            Pulmonary Surfactant-Associated Protein A     1\n",
       "                            Pulmonary Surfactant-Associated Protein D     1\n",
       "             dsyn           Infection                                    11\n",
       "                            Pneumonia                                    10\n",
       "                            Diabetes                                      4\n",
       "                            Hypertensive disease                          4\n",
       "                            Syndrome                                      4\n",
       "                            Respiratory Distress Syndrome, Adult          3\n",
       "                            Autoimmune Diseases                           1\n",
       "                            Inflammatory Bowel Diseases                   1\n",
       "                            Septicemia                                    1\n",
       "             gngm           TNF protein, human|TNF                       12\n",
       "                            Antibodies                                    8\n",
       "                            Glycoproteins                                 6\n",
       "                            Peptides                                      6\n",
       "                            receptor                                      6\n",
       "                            cytokine                                      4\n",
       "                            TGFB1 protein, human|TGFB1                    3\n",
       "                            human leukocyte interferon|IFNA1              3\n",
       "                            Pulmonary Surfactant-Associated Protein A     2\n",
       "                            Phosphotransferases                           1\n",
       "             horm           Glucocorticoids                              58\n",
       "                            Adrenal Cortex Hormones                      16\n",
       "covid-19     dsyn           Hypertensive disease                         12\n",
       "                            Obesity                                       6\n",
       "                            Pneumonia                                     4\n",
       "                            Respiratory Distress Syndrome, Adult          4\n",
       "                            Diabetes                                      2\n",
       "                            Inflammatory Bowel Diseases                   1\n",
       "                            Septicemia                                    1\n",
       "             gngm           Antibodies                                    1\n",
       "             horm           Glucocorticoids                              58\n",
       "                            Adrenal Cortex Hormones                       8\n",
       "Name: object_name_x, dtype: int64"
      ]
     },
     "execution_count": 16,
     "metadata": {},
     "output_type": "execute_result"
    }
   ],
   "source": [
    "q1=['dexamethasone']\n",
    "q2=['coronavirus','covid-19']\n",
    "\n",
    "overlap_df = overlap(q1,q2)\n",
    "overlap_counts = overlap_df.groupby(['set_y','object_type_x'])['object_name_x'].value_counts()\n",
    "overlap_counts"
   ]
  },
  {
   "cell_type": "markdown",
   "metadata": {},
   "source": [
    "# Identifying risk factors for a disease\n",
    "\n",
    "We can explore one disease in detail to identify risk factors. In this case, `psoriasis`."
   ]
  },
  {
   "cell_type": "code",
   "execution_count": 63,
   "metadata": {},
   "outputs": [
    {
     "name": "stderr",
     "output_type": "stream",
     "text": [
      "/Users/be15516/anaconda3/envs/MelodiPresto/lib/python3.7/site-packages/ipykernel_launcher.py:12: SettingWithCopyWarning: \n",
      "A value is trying to be set on a copy of a slice from a DataFrame.\n",
      "Try using .loc[row_indexer,col_indexer] = value instead\n",
      "\n",
      "See the caveats in the documentation: https://pandas.pydata.org/pandas-docs/stable/user_guide/indexing.html#returning-a-view-versus-a-copy\n",
      "  if sys.path[0] == '':\n"
     ]
    },
    {
     "data": {
      "text/html": [
       "<div>\n",
       "<style scoped>\n",
       "    .dataframe tbody tr th:only-of-type {\n",
       "        vertical-align: middle;\n",
       "    }\n",
       "\n",
       "    .dataframe tbody tr th {\n",
       "        vertical-align: top;\n",
       "    }\n",
       "\n",
       "    .dataframe thead th {\n",
       "        text-align: right;\n",
       "    }\n",
       "</style>\n",
       "<table border=\"1\" class=\"dataframe\">\n",
       "  <thead>\n",
       "    <tr style=\"text-align: right;\">\n",
       "      <th></th>\n",
       "      <th>subject_name</th>\n",
       "      <th>subject_type</th>\n",
       "      <th>predicate</th>\n",
       "      <th>object_name</th>\n",
       "      <th>pval</th>\n",
       "      <th>localCount</th>\n",
       "    </tr>\n",
       "  </thead>\n",
       "  <tbody>\n",
       "    <tr>\n",
       "      <th>0</th>\n",
       "      <td>imiquimod</td>\n",
       "      <td>orch</td>\n",
       "      <td>CAUSES</td>\n",
       "      <td>Psoriasis</td>\n",
       "      <td>0.000000e+00</td>\n",
       "      <td>401</td>\n",
       "    </tr>\n",
       "    <tr>\n",
       "      <th>9</th>\n",
       "      <td>cytokine</td>\n",
       "      <td>aapp</td>\n",
       "      <td>CAUSES</td>\n",
       "      <td>Psoriasis</td>\n",
       "      <td>3.864715e-117</td>\n",
       "      <td>66</td>\n",
       "    </tr>\n",
       "    <tr>\n",
       "      <th>21</th>\n",
       "      <td>interleukin-23</td>\n",
       "      <td>gngm</td>\n",
       "      <td>CAUSES</td>\n",
       "      <td>Psoriasis</td>\n",
       "      <td>1.574232e-78</td>\n",
       "      <td>44</td>\n",
       "    </tr>\n",
       "    <tr>\n",
       "      <th>27</th>\n",
       "      <td>TNF protein, human|TNF</td>\n",
       "      <td>aapp</td>\n",
       "      <td>CAUSES</td>\n",
       "      <td>Psoriasis</td>\n",
       "      <td>4.822940e-70</td>\n",
       "      <td>39</td>\n",
       "    </tr>\n",
       "    <tr>\n",
       "      <th>37</th>\n",
       "      <td>Interleukin-17</td>\n",
       "      <td>aapp</td>\n",
       "      <td>CAUSES</td>\n",
       "      <td>Psoriasis</td>\n",
       "      <td>3.140959e-54</td>\n",
       "      <td>30</td>\n",
       "    </tr>\n",
       "    <tr>\n",
       "      <th>38</th>\n",
       "      <td>infliximab</td>\n",
       "      <td>aapp</td>\n",
       "      <td>CAUSES</td>\n",
       "      <td>Psoriasis</td>\n",
       "      <td>6.153936e-54</td>\n",
       "      <td>30</td>\n",
       "    </tr>\n",
       "    <tr>\n",
       "      <th>84</th>\n",
       "      <td>Tumor Necrosis Factor-alpha|TNF</td>\n",
       "      <td>aapp</td>\n",
       "      <td>CAUSES</td>\n",
       "      <td>Psoriasis</td>\n",
       "      <td>4.117160e-33</td>\n",
       "      <td>18</td>\n",
       "    </tr>\n",
       "    <tr>\n",
       "      <th>92</th>\n",
       "      <td>Obesity</td>\n",
       "      <td>dsyn</td>\n",
       "      <td>PREDISPOSES</td>\n",
       "      <td>Psoriasis</td>\n",
       "      <td>2.384463e-31</td>\n",
       "      <td>17</td>\n",
       "    </tr>\n",
       "    <tr>\n",
       "      <th>128</th>\n",
       "      <td>TNF gene|TNF</td>\n",
       "      <td>gngm</td>\n",
       "      <td>CAUSES</td>\n",
       "      <td>Psoriasis</td>\n",
       "      <td>4.682245e-26</td>\n",
       "      <td>14</td>\n",
       "    </tr>\n",
       "    <tr>\n",
       "      <th>191</th>\n",
       "      <td>tumor necrosis factor-alpha inhibitor</td>\n",
       "      <td>aapp</td>\n",
       "      <td>CAUSES</td>\n",
       "      <td>Psoriasis</td>\n",
       "      <td>9.401904e-21</td>\n",
       "      <td>11</td>\n",
       "    </tr>\n",
       "    <tr>\n",
       "      <th>176</th>\n",
       "      <td>Superantigens</td>\n",
       "      <td>aapp</td>\n",
       "      <td>CAUSES</td>\n",
       "      <td>Psoriasis</td>\n",
       "      <td>9.401904e-21</td>\n",
       "      <td>11</td>\n",
       "    </tr>\n",
       "    <tr>\n",
       "      <th>184</th>\n",
       "      <td>Tetradecanoylphorbol Acetate</td>\n",
       "      <td>hops</td>\n",
       "      <td>CAUSES</td>\n",
       "      <td>Psoriasis</td>\n",
       "      <td>9.401904e-21</td>\n",
       "      <td>11</td>\n",
       "    </tr>\n",
       "    <tr>\n",
       "      <th>186</th>\n",
       "      <td>Tumor Necrosis Factors</td>\n",
       "      <td>aapp</td>\n",
       "      <td>CAUSES</td>\n",
       "      <td>Psoriasis</td>\n",
       "      <td>9.401904e-21</td>\n",
       "      <td>11</td>\n",
       "    </tr>\n",
       "    <tr>\n",
       "      <th>172</th>\n",
       "      <td>adalimumab</td>\n",
       "      <td>aapp</td>\n",
       "      <td>CAUSES</td>\n",
       "      <td>Psoriasis</td>\n",
       "      <td>1.794665e-20</td>\n",
       "      <td>11</td>\n",
       "    </tr>\n",
       "    <tr>\n",
       "      <th>193</th>\n",
       "      <td>Aldara</td>\n",
       "      <td>orch</td>\n",
       "      <td>CAUSES</td>\n",
       "      <td>Psoriasis</td>\n",
       "      <td>5.544609e-19</td>\n",
       "      <td>10</td>\n",
       "    </tr>\n",
       "    <tr>\n",
       "      <th>200</th>\n",
       "      <td>Interferon-alpha</td>\n",
       "      <td>aapp</td>\n",
       "      <td>CAUSES</td>\n",
       "      <td>Psoriasis</td>\n",
       "      <td>5.544609e-19</td>\n",
       "      <td>10</td>\n",
       "    </tr>\n",
       "    <tr>\n",
       "      <th>230</th>\n",
       "      <td>interleukin-22</td>\n",
       "      <td>aapp</td>\n",
       "      <td>CAUSES</td>\n",
       "      <td>Psoriasis</td>\n",
       "      <td>3.285354e-17</td>\n",
       "      <td>9</td>\n",
       "    </tr>\n",
       "    <tr>\n",
       "      <th>244</th>\n",
       "      <td>Infection</td>\n",
       "      <td>dsyn</td>\n",
       "      <td>CAUSES</td>\n",
       "      <td>Psoriasis</td>\n",
       "      <td>3.285354e-17</td>\n",
       "      <td>9</td>\n",
       "    </tr>\n",
       "    <tr>\n",
       "      <th>294</th>\n",
       "      <td>VEGF protein, human|VEGFA</td>\n",
       "      <td>aapp</td>\n",
       "      <td>CAUSES</td>\n",
       "      <td>Psoriasis</td>\n",
       "      <td>1.958045e-15</td>\n",
       "      <td>8</td>\n",
       "    </tr>\n",
       "    <tr>\n",
       "      <th>264</th>\n",
       "      <td>NELFCD</td>\n",
       "      <td>gngm</td>\n",
       "      <td>CAUSES</td>\n",
       "      <td>Psoriasis</td>\n",
       "      <td>1.958045e-15</td>\n",
       "      <td>8</td>\n",
       "    </tr>\n",
       "  </tbody>\n",
       "</table>\n",
       "</div>"
      ],
      "text/plain": [
       "                              subject_name subject_type    predicate  \\\n",
       "0                                imiquimod         orch       CAUSES   \n",
       "9                                 cytokine         aapp       CAUSES   \n",
       "21                          interleukin-23         gngm       CAUSES   \n",
       "27                  TNF protein, human|TNF         aapp       CAUSES   \n",
       "37                          Interleukin-17         aapp       CAUSES   \n",
       "38                              infliximab         aapp       CAUSES   \n",
       "84         Tumor Necrosis Factor-alpha|TNF         aapp       CAUSES   \n",
       "92                                 Obesity         dsyn  PREDISPOSES   \n",
       "128                           TNF gene|TNF         gngm       CAUSES   \n",
       "191  tumor necrosis factor-alpha inhibitor         aapp       CAUSES   \n",
       "176                          Superantigens         aapp       CAUSES   \n",
       "184           Tetradecanoylphorbol Acetate         hops       CAUSES   \n",
       "186                 Tumor Necrosis Factors         aapp       CAUSES   \n",
       "172                             adalimumab         aapp       CAUSES   \n",
       "193                                 Aldara         orch       CAUSES   \n",
       "200                       Interferon-alpha         aapp       CAUSES   \n",
       "230                         interleukin-22         aapp       CAUSES   \n",
       "244                              Infection         dsyn       CAUSES   \n",
       "294              VEGF protein, human|VEGFA         aapp       CAUSES   \n",
       "264                                 NELFCD         gngm       CAUSES   \n",
       "\n",
       "    object_name           pval localCount  \n",
       "0     Psoriasis   0.000000e+00        401  \n",
       "9     Psoriasis  3.864715e-117         66  \n",
       "21    Psoriasis   1.574232e-78         44  \n",
       "27    Psoriasis   4.822940e-70         39  \n",
       "37    Psoriasis   3.140959e-54         30  \n",
       "38    Psoriasis   6.153936e-54         30  \n",
       "84    Psoriasis   4.117160e-33         18  \n",
       "92    Psoriasis   2.384463e-31         17  \n",
       "128   Psoriasis   4.682245e-26         14  \n",
       "191   Psoriasis   9.401904e-21         11  \n",
       "176   Psoriasis   9.401904e-21         11  \n",
       "184   Psoriasis   9.401904e-21         11  \n",
       "186   Psoriasis   9.401904e-21         11  \n",
       "172   Psoriasis   1.794665e-20         11  \n",
       "193   Psoriasis   5.544609e-19         10  \n",
       "200   Psoriasis   5.544609e-19         10  \n",
       "230   Psoriasis   3.285354e-17          9  \n",
       "244   Psoriasis   3.285354e-17          9  \n",
       "294   Psoriasis   1.958045e-15          8  \n",
       "264   Psoriasis   1.958045e-15          8  "
      ]
     },
     "execution_count": 63,
     "metadata": {},
     "output_type": "execute_result"
    }
   ],
   "source": [
    "q='psoriasis'\n",
    "enrich_df=enrich(q)\n",
    "\n",
    "#map to objects that contain the query term\n",
    "enrich_df = enrich_df[enrich_df['object_name'].str.contains(q,case=False)]\n",
    "\n",
    "#list of risk factor predicates\n",
    "rf_preds=['CAUSES','PREDISPOSES','PRECEDES','STIMULATES']\n",
    "rf=enrich_df[enrich_df['predicate'].isin(rf_preds)]\n",
    "\n",
    "#make sure pval is a float\n",
    "rf['pval']=rf['pval'].astype(float)\n",
    "\n",
    "#look at the top 20 ordered by enrichment pvalue\n",
    "rf.sort_values(by='pval',ascending=True).head(20)[['subject_name','subject_type','predicate','object_name','pval','localCount']]"
   ]
  },
  {
   "cell_type": "markdown",
   "metadata": {},
   "source": [
    "# All against all\n",
    "\n",
    "The excellent performance capabilities of MELODI Presto means we can perform an all-against-all analysis for a range of terms, e.g. a list of genes and diseases. This can create a network, highlighting potential shared mechanisms of action. \n",
    "\n",
    "As an example we examine the relationships between "
   ]
  },
  {
   "cell_type": "code",
   "execution_count": 17,
   "metadata": {},
   "outputs": [],
   "source": [
    "#just run enrich on each then create network"
   ]
  }
 ],
 "metadata": {
  "kernelspec": {
   "display_name": "melodi-presto",
   "language": "python",
   "name": "myenv"
  },
  "language_info": {
   "codemirror_mode": {
    "name": "ipython",
    "version": 3
   },
   "file_extension": ".py",
   "mimetype": "text/x-python",
   "name": "python",
   "nbconvert_exporter": "python",
   "pygments_lexer": "ipython3",
   "version": "3.7.6"
  }
 },
 "nbformat": 4,
 "nbformat_minor": 4
}
