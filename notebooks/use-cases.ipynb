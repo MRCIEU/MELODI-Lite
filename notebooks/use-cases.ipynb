{
 "cells": [
  {
   "cell_type": "markdown",
   "metadata": {},
   "source": [
    "# MELODI Presto Use Cases"
   ]
  },
  {
   "cell_type": "code",
   "execution_count": 7,
   "metadata": {},
   "outputs": [],
   "source": [
    "import json\n",
    "import pandas as pd\n",
    "import requests\n",
    "import matplotlib.pyplot as plt\n",
    "%matplotlib inline \n",
    "import numpy as np\n",
    "from utils import enrich, overlap, sentence, API_URL"
   ]
  },
  {
   "cell_type": "markdown",
   "metadata": {},
   "source": [
    "## Configure parameters"
   ]
  },
  {
   "cell_type": "code",
   "execution_count": 2,
   "metadata": {},
   "outputs": [
    {
     "data": {
      "text/plain": [
       "True"
      ]
     },
     "execution_count": 2,
     "metadata": {},
     "output_type": "execute_result"
    }
   ],
   "source": [
    "requests.get(f\"{API_URL}/status\").json()"
   ]
  },
  {
   "cell_type": "markdown",
   "metadata": {},
   "source": [
    "# Run the overlap function on some examples"
   ]
  },
  {
   "cell_type": "markdown",
   "metadata": {},
   "source": [
    "### Genetic basis of psoriasis\n",
    "\n",
    "https://www.cell.com/ajhg/fulltext/S0002-9297(12)00157-7"
   ]
  },
  {
   "cell_type": "code",
   "execution_count": 5,
   "metadata": {},
   "outputs": [],
   "source": [
    "q1=['AP1S3','IL36RN','CARD14']\n",
    "q2=['Psoriasis']\n",
    "\n",
    "overlap_df = overlap(q1,q2)"
   ]
  },
  {
   "cell_type": "code",
   "execution_count": 6,
   "metadata": {},
   "outputs": [
    {
     "data": {
      "text/plain": [
       "set_x   object_type_x  object_name_x                \n",
       "ap1s3   gngm           CARD14                             5\n",
       "card14  aapp           NF-kappa B                         3\n",
       "        dsyn           Psoriasis                        861\n",
       "                       Autoimmune Diseases               10\n",
       "                       skin disorder                      8\n",
       "        gngm           NF-kappa B                        21\n",
       "                       CARD14                             5\n",
       "il36rn  aapp           Interleukin Receptor               1\n",
       "        dsyn           Arthritis, Psoriatic              33\n",
       "                       Pustulosis of Palms and Soles      3\n",
       "        gngm           CARD14                             5\n",
       "                       Interleukin Receptor               1\n",
       "Name: object_name_x, dtype: int64"
      ]
     },
     "execution_count": 6,
     "metadata": {},
     "output_type": "execute_result"
    }
   ],
   "source": [
    "overlap_counts = overlap_df.groupby(['set_x','object_type_x'])['object_name_x'].value_counts()\n",
    "overlap_counts"
   ]
  },
  {
   "cell_type": "markdown",
   "metadata": {},
   "source": [
    "### Drug repurposing\n",
    "\n",
    "https://www.medrxiv.org/content/10.1101/2020.05.07.20093286v1"
   ]
  },
  {
   "cell_type": "code",
   "execution_count": 7,
   "metadata": {},
   "outputs": [],
   "source": [
    "q1=['DHODH', 'ITGB5', 'JAK2']\n",
    "q2=['Leflunomide','Cilengitide','Baricitinib']\n",
    "\n",
    "overlap_df = overlap(q1,q2)"
   ]
  },
  {
   "cell_type": "code",
   "execution_count": 8,
   "metadata": {},
   "outputs": [
    {
     "data": {
      "text/plain": [
       "set_x  set_y        object_type_x  object_name_x                     \n",
       "dhodh  leflunomide  aapp           Phosphotransferases                    1\n",
       "                    dsyn           Rheumatoid Arthritis                   9\n",
       "                    gngm           Dihydroorotate dehydrogenase          50\n",
       "                                   Dihydroorotate dehydrogenase|DHODH     1\n",
       "                    orch           leflunomide                           92\n",
       "                                   Pyrimidine                            12\n",
       "jak2   baricitinib  aapp           Janus kinase                           4\n",
       "                                   Janus kinase 1|JAK1                    4\n",
       "                                   cytokine                               3\n",
       "                    gngm           Janus kinase                          11\n",
       "                                   Janus kinase 1|JAK1                    4\n",
       "                                   cytokine                               1\n",
       "                    orch           small molecule                         2\n",
       "       cilengitide  orch           small molecule                         6\n",
       "       leflunomide  aapp           Leptin|LEP                             8\n",
       "                                   cytokine                               6\n",
       "                                   Phosphotransferases                    4\n",
       "                                   Proto-Oncogene Proteins c-akt|AKT1     2\n",
       "                                   Interleukin-1 beta                     1\n",
       "                    gngm           Phosphotransferases                   12\n",
       "                                   Proto-Oncogene Proteins c-akt|AKT1     4\n",
       "                                   Interleukin-4                          2\n",
       "                                   STAT6 gene|STAT6                       2\n",
       "                                   cytokine                               2\n",
       "                                   ABCG2 gene|ABCG2                       1\n",
       "                                   Gelatinase B                           1\n",
       "                                   Interleukin-1 beta                     1\n",
       "                                   Leptin|LEP                             1\n",
       "Name: object_name_x, dtype: int64"
      ]
     },
     "execution_count": 8,
     "metadata": {},
     "output_type": "execute_result"
    }
   ],
   "source": [
    "overlap_counts = overlap_df.groupby(['set_x','set_y','object_type_x'])['object_name_x'].value_counts()\n",
    "overlap_counts"
   ]
  },
  {
   "cell_type": "markdown",
   "metadata": {},
   "source": [
    "### Obesity and thyroid cancer\n",
    "\n",
    "https://academic.oup.com/jcem/article/105/7/dgaa250/5835841"
   ]
  },
  {
   "cell_type": "code",
   "execution_count": 15,
   "metadata": {},
   "outputs": [
    {
     "data": {
      "text/plain": [
       "object_type_x  object_name_x                     \n",
       "aapp           ghrelin                               10\n",
       "               PPAR gamma                             5\n",
       "               Proto-Oncogene Proteins c-akt|AKT1     4\n",
       "               receptor                               3\n",
       "               FRAP1 protein, human|MTOR              1\n",
       "               Sex Hormone-Binding Globulin           1\n",
       "               Somatostatin                           1\n",
       "dsyn           Syndrome                              26\n",
       "               Crohn's disease                        2\n",
       "               Hypothyroidism                         2\n",
       "               Thrombophilia                          2\n",
       "               Thrombus                               1\n",
       "gngm           Proto-Oncogene Proteins c-akt|AKT1     4\n",
       "               PPAR gamma                             3\n",
       "               ghrelin                                3\n",
       "               Sex Hormone-Binding Globulin           2\n",
       "               MAPKAP1                                1\n",
       "               Phosphotransferases                    1\n",
       "horm           Glucocorticoids                        3\n",
       "orch           Metformin                              2\n",
       "Name: object_name_x, dtype: int64"
      ]
     },
     "execution_count": 15,
     "metadata": {},
     "output_type": "execute_result"
    }
   ],
   "source": [
    "q1=['obesity']\n",
    "q2=['thyroid cancer']\n",
    "\n",
    "overlap_df = overlap(q1,q2)\n",
    "overlap_counts = overlap_df.groupby(['object_type_x'])['object_name_x'].value_counts()\n",
    "overlap_counts"
   ]
  },
  {
   "cell_type": "markdown",
   "metadata": {},
   "source": [
    "### Coronavirus and dexamethasone\n",
    "\n",
    "Recent work (https://www.recoverytrial.net/) has demonstrated a potential beneficial effect of dexamethasone on covid-19. Here we can explore the potential intermediates connecting them, including genes, diseases and hormones. We can also separate the two terms `coronavirus` and `covid-19` to distinguish which semantic terms are associated with each query. "
   ]
  },
  {
   "cell_type": "code",
   "execution_count": 16,
   "metadata": {},
   "outputs": [
    {
     "data": {
      "text/plain": [
       "set_y        object_type_x  object_name_x                            \n",
       "coronavirus  aapp           cytokine                                     12\n",
       "                            receptor                                     10\n",
       "                            TNF protein, human|TNF                        6\n",
       "                            Peptides                                      2\n",
       "                            Pulmonary Surfactant-Associated Protein A     1\n",
       "                            Pulmonary Surfactant-Associated Protein D     1\n",
       "             dsyn           Infection                                    11\n",
       "                            Pneumonia                                    10\n",
       "                            Diabetes                                      4\n",
       "                            Hypertensive disease                          4\n",
       "                            Syndrome                                      4\n",
       "                            Respiratory Distress Syndrome, Adult          3\n",
       "                            Autoimmune Diseases                           1\n",
       "                            Inflammatory Bowel Diseases                   1\n",
       "                            Septicemia                                    1\n",
       "             gngm           TNF protein, human|TNF                       12\n",
       "                            Antibodies                                    8\n",
       "                            Glycoproteins                                 6\n",
       "                            Peptides                                      6\n",
       "                            receptor                                      6\n",
       "                            cytokine                                      4\n",
       "                            TGFB1 protein, human|TGFB1                    3\n",
       "                            human leukocyte interferon|IFNA1              3\n",
       "                            Pulmonary Surfactant-Associated Protein A     2\n",
       "                            Phosphotransferases                           1\n",
       "             horm           Glucocorticoids                              58\n",
       "                            Adrenal Cortex Hormones                      16\n",
       "covid-19     dsyn           Hypertensive disease                         12\n",
       "                            Obesity                                       6\n",
       "                            Pneumonia                                     4\n",
       "                            Respiratory Distress Syndrome, Adult          4\n",
       "                            Diabetes                                      2\n",
       "                            Inflammatory Bowel Diseases                   1\n",
       "                            Septicemia                                    1\n",
       "             gngm           Antibodies                                    1\n",
       "             horm           Glucocorticoids                              58\n",
       "                            Adrenal Cortex Hormones                       8\n",
       "Name: object_name_x, dtype: int64"
      ]
     },
     "execution_count": 16,
     "metadata": {},
     "output_type": "execute_result"
    }
   ],
   "source": [
    "q1=['dexamethasone']\n",
    "q2=['coronavirus','covid-19']\n",
    "\n",
    "overlap_df = overlap(q1,q2)\n",
    "overlap_counts = overlap_df.groupby(['set_y','object_type_x'])['object_name_x'].value_counts()\n",
    "overlap_counts"
   ]
  },
  {
   "cell_type": "markdown",
   "metadata": {},
   "source": [
    "# Identifying risk factors for a disease\n",
    "\n",
    "We can explore one disease in detail to identify risk factors. In this case, `asthma`."
   ]
  },
  {
   "cell_type": "code",
   "execution_count": 11,
   "metadata": {},
   "outputs": [
    {
     "name": "stdout",
     "output_type": "stream",
     "text": [
      "          query                                             triple  \\\n",
      "0     psoriasis                         imiquimod:CAUSES:Psoriasis   \n",
      "1     psoriasis                 cytokine:ASSOCIATED_WITH:Psoriasis   \n",
      "2     psoriasis             Cyclosporine:ASSOCIATED_WITH:Psoriasis   \n",
      "3     psoriasis           Interleukin-17:ASSOCIATED_WITH:Psoriasis   \n",
      "7     psoriasis               Etanercept:ASSOCIATED_WITH:Psoriasis   \n",
      "...         ...                                                ...   \n",
      "3456  psoriasis            RLN3|HIST2H3C:ASSOCIATED_WITH:Psoriasis   \n",
      "3461  psoriasis        Cysteine Protease:ASSOCIATED_WITH:Psoriasis   \n",
      "3462  psoriasis  Mycobacterium Infections, Atypical:CAUSES:Psor...   \n",
      "3463  psoriasis           HAT1 gene|HAT1:ASSOCIATED_WITH:Psoriasis   \n",
      "3464  psoriasis             Testosterone:ASSOCIATED_WITH:Psoriasis   \n",
      "\n",
      "                            subject_name subject_type     subject_id  \\\n",
      "0                              imiquimod         orch       C0165032   \n",
      "1                               cytokine         aapp       C0079189   \n",
      "2                           Cyclosporine         aapp       C0010592   \n",
      "3                         Interleukin-17         aapp       C0384648   \n",
      "7                             Etanercept         aapp       C0717758   \n",
      "...                                  ...          ...            ...   \n",
      "3456                       RLN3|HIST2H3C         gngm  117579|126961   \n",
      "3461                   Cysteine Protease         aapp       C0010661   \n",
      "3462  Mycobacterium Infections, Atypical         dsyn       C0026919   \n",
      "3463                      HAT1 gene|HAT1         gngm  C1333890|8520   \n",
      "3464                        Testosterone         horm       C0039601   \n",
      "\n",
      "            predicate object_name object_type object_id  localCount  \\\n",
      "0              CAUSES   Psoriasis        dsyn  C0033860         401   \n",
      "1     ASSOCIATED_WITH   Psoriasis        dsyn  C0033860         148   \n",
      "2     ASSOCIATED_WITH   Psoriasis        dsyn  C0033860         117   \n",
      "3     ASSOCIATED_WITH   Psoriasis        dsyn  C0033860         106   \n",
      "7     ASSOCIATED_WITH   Psoriasis        dsyn  C0033860          70   \n",
      "...               ...         ...         ...       ...         ...   \n",
      "3456  ASSOCIATED_WITH   Psoriasis        dsyn  C0033860           2   \n",
      "3461  ASSOCIATED_WITH   Psoriasis        dsyn  C0033860           2   \n",
      "3462           CAUSES   Psoriasis        dsyn  C0033860           2   \n",
      "3463  ASSOCIATED_WITH   Psoriasis        dsyn  C0033860           2   \n",
      "3464  ASSOCIATED_WITH   Psoriasis        dsyn  C0033860           2   \n",
      "\n",
      "      localTotal globalCount  globalTotal        odds           pval  \\\n",
      "0          30540         401      6083603  227.685225   0.000000e+00   \n",
      "1          30540         148      6083603  225.798171  1.021570e-261   \n",
      "2          30540         118      6083603  223.657474  5.901386e-207   \n",
      "3          30540         106      6083603  225.487941  6.306857e-188   \n",
      "7          30540          70      6083603  225.222711  1.140031e-124   \n",
      "...          ...         ...          ...         ...            ...   \n",
      "3456       30540           2      6083603  224.723427   1.170770e-04   \n",
      "3461       30540           2      6083603  224.723427   1.170770e-04   \n",
      "3462       30540           2      6083603  224.723427   1.170770e-04   \n",
      "3463       30540           2      6083603  224.723427   1.170770e-04   \n",
      "3464       30540           2      6083603  224.723427   1.170770e-04   \n",
      "\n",
      "                                                  pmids  \n",
      "0     28464025 29859222 31490769 28870465 26383911 2...  \n",
      "1     31062065 22426927 8215583 20633014 26944069 86...  \n",
      "2     9255249 21388453 3713885 2196082 15009296 3346...  \n",
      "3     25219805 22699761 30003497 28386999 29653697 2...  \n",
      "7     26084590 28506134 29332708 20492881 24117023 1...  \n",
      "...                                                 ...  \n",
      "3456                                           30260532  \n",
      "3461                                           30989984  \n",
      "3462                                           31325342  \n",
      "3463                                           31419323  \n",
      "3464                                           31625919  \n",
      "\n",
      "[1102 rows x 16 columns]\n",
      "(1102, 16)\n"
     ]
    },
    {
     "name": "stderr",
     "output_type": "stream",
     "text": [
      "/Users/be15516/anaconda3/envs/MelodiPresto/lib/python3.7/site-packages/ipykernel_launcher.py:14: SettingWithCopyWarning: \n",
      "A value is trying to be set on a copy of a slice from a DataFrame.\n",
      "Try using .loc[row_indexer,col_indexer] = value instead\n",
      "\n",
      "See the caveats in the documentation: https://pandas.pydata.org/pandas-docs/stable/user_guide/indexing.html#returning-a-view-versus-a-copy\n",
      "  \n"
     ]
    },
    {
     "data": {
      "text/html": [
       "<div>\n",
       "<style scoped>\n",
       "    .dataframe tbody tr th:only-of-type {\n",
       "        vertical-align: middle;\n",
       "    }\n",
       "\n",
       "    .dataframe tbody tr th {\n",
       "        vertical-align: top;\n",
       "    }\n",
       "\n",
       "    .dataframe thead th {\n",
       "        text-align: right;\n",
       "    }\n",
       "</style>\n",
       "<table border=\"1\" class=\"dataframe\">\n",
       "  <thead>\n",
       "    <tr style=\"text-align: right;\">\n",
       "      <th></th>\n",
       "      <th>subject_name</th>\n",
       "      <th>subject_type</th>\n",
       "      <th>predicate</th>\n",
       "      <th>object_name</th>\n",
       "      <th>pval</th>\n",
       "      <th>localCount</th>\n",
       "    </tr>\n",
       "  </thead>\n",
       "  <tbody>\n",
       "    <tr>\n",
       "      <th>0</th>\n",
       "      <td>imiquimod</td>\n",
       "      <td>orch</td>\n",
       "      <td>CAUSES</td>\n",
       "      <td>Psoriasis</td>\n",
       "      <td>0.000000e+00</td>\n",
       "      <td>401</td>\n",
       "    </tr>\n",
       "    <tr>\n",
       "      <th>9</th>\n",
       "      <td>cytokine</td>\n",
       "      <td>aapp</td>\n",
       "      <td>CAUSES</td>\n",
       "      <td>Psoriasis</td>\n",
       "      <td>2.415388e-117</td>\n",
       "      <td>66</td>\n",
       "    </tr>\n",
       "    <tr>\n",
       "      <th>21</th>\n",
       "      <td>interleukin-23</td>\n",
       "      <td>gngm</td>\n",
       "      <td>CAUSES</td>\n",
       "      <td>Psoriasis</td>\n",
       "      <td>1.150882e-78</td>\n",
       "      <td>44</td>\n",
       "    </tr>\n",
       "    <tr>\n",
       "      <th>27</th>\n",
       "      <td>TNF protein, human|TNF</td>\n",
       "      <td>aapp</td>\n",
       "      <td>CAUSES</td>\n",
       "      <td>Psoriasis</td>\n",
       "      <td>3.653669e-70</td>\n",
       "      <td>39</td>\n",
       "    </tr>\n",
       "    <tr>\n",
       "      <th>37</th>\n",
       "      <td>Interleukin-17</td>\n",
       "      <td>aapp</td>\n",
       "      <td>CAUSES</td>\n",
       "      <td>Psoriasis</td>\n",
       "      <td>2.536981e-54</td>\n",
       "      <td>30</td>\n",
       "    </tr>\n",
       "    <tr>\n",
       "      <th>38</th>\n",
       "      <td>infliximab</td>\n",
       "      <td>aapp</td>\n",
       "      <td>CAUSES</td>\n",
       "      <td>Psoriasis</td>\n",
       "      <td>4.970743e-54</td>\n",
       "      <td>30</td>\n",
       "    </tr>\n",
       "    <tr>\n",
       "      <th>83</th>\n",
       "      <td>Tumor Necrosis Factor-alpha|TNF</td>\n",
       "      <td>aapp</td>\n",
       "      <td>CAUSES</td>\n",
       "      <td>Psoriasis</td>\n",
       "      <td>3.622067e-33</td>\n",
       "      <td>18</td>\n",
       "    </tr>\n",
       "    <tr>\n",
       "      <th>91</th>\n",
       "      <td>Obesity</td>\n",
       "      <td>dsyn</td>\n",
       "      <td>PREDISPOSES</td>\n",
       "      <td>Psoriasis</td>\n",
       "      <td>2.112714e-31</td>\n",
       "      <td>17</td>\n",
       "    </tr>\n",
       "    <tr>\n",
       "      <th>127</th>\n",
       "      <td>TNF gene|TNF</td>\n",
       "      <td>gngm</td>\n",
       "      <td>CAUSES</td>\n",
       "      <td>Psoriasis</td>\n",
       "      <td>4.238164e-26</td>\n",
       "      <td>14</td>\n",
       "    </tr>\n",
       "    <tr>\n",
       "      <th>190</th>\n",
       "      <td>tumor necrosis factor-alpha inhibitor</td>\n",
       "      <td>aapp</td>\n",
       "      <td>CAUSES</td>\n",
       "      <td>Psoriasis</td>\n",
       "      <td>8.693848e-21</td>\n",
       "      <td>11</td>\n",
       "    </tr>\n",
       "    <tr>\n",
       "      <th>175</th>\n",
       "      <td>Superantigens</td>\n",
       "      <td>aapp</td>\n",
       "      <td>CAUSES</td>\n",
       "      <td>Psoriasis</td>\n",
       "      <td>8.693848e-21</td>\n",
       "      <td>11</td>\n",
       "    </tr>\n",
       "    <tr>\n",
       "      <th>183</th>\n",
       "      <td>Tetradecanoylphorbol Acetate</td>\n",
       "      <td>hops</td>\n",
       "      <td>CAUSES</td>\n",
       "      <td>Psoriasis</td>\n",
       "      <td>8.693848e-21</td>\n",
       "      <td>11</td>\n",
       "    </tr>\n",
       "    <tr>\n",
       "      <th>185</th>\n",
       "      <td>Tumor Necrosis Factors</td>\n",
       "      <td>aapp</td>\n",
       "      <td>CAUSES</td>\n",
       "      <td>Psoriasis</td>\n",
       "      <td>8.693848e-21</td>\n",
       "      <td>11</td>\n",
       "    </tr>\n",
       "    <tr>\n",
       "      <th>171</th>\n",
       "      <td>adalimumab</td>\n",
       "      <td>aapp</td>\n",
       "      <td>CAUSES</td>\n",
       "      <td>Psoriasis</td>\n",
       "      <td>1.659558e-20</td>\n",
       "      <td>11</td>\n",
       "    </tr>\n",
       "    <tr>\n",
       "      <th>192</th>\n",
       "      <td>Aldara</td>\n",
       "      <td>orch</td>\n",
       "      <td>CAUSES</td>\n",
       "      <td>Psoriasis</td>\n",
       "      <td>5.163663e-19</td>\n",
       "      <td>10</td>\n",
       "    </tr>\n",
       "    <tr>\n",
       "      <th>199</th>\n",
       "      <td>Interferon-alpha</td>\n",
       "      <td>aapp</td>\n",
       "      <td>CAUSES</td>\n",
       "      <td>Psoriasis</td>\n",
       "      <td>5.163663e-19</td>\n",
       "      <td>10</td>\n",
       "    </tr>\n",
       "    <tr>\n",
       "      <th>229</th>\n",
       "      <td>interleukin-22</td>\n",
       "      <td>aapp</td>\n",
       "      <td>CAUSES</td>\n",
       "      <td>Psoriasis</td>\n",
       "      <td>3.081483e-17</td>\n",
       "      <td>9</td>\n",
       "    </tr>\n",
       "    <tr>\n",
       "      <th>243</th>\n",
       "      <td>Infection</td>\n",
       "      <td>dsyn</td>\n",
       "      <td>CAUSES</td>\n",
       "      <td>Psoriasis</td>\n",
       "      <td>3.081483e-17</td>\n",
       "      <td>9</td>\n",
       "    </tr>\n",
       "    <tr>\n",
       "      <th>294</th>\n",
       "      <td>VEGF protein, human|VEGFA</td>\n",
       "      <td>aapp</td>\n",
       "      <td>CAUSES</td>\n",
       "      <td>Psoriasis</td>\n",
       "      <td>1.849655e-15</td>\n",
       "      <td>8</td>\n",
       "    </tr>\n",
       "    <tr>\n",
       "      <th>263</th>\n",
       "      <td>NELFCD</td>\n",
       "      <td>gngm</td>\n",
       "      <td>CAUSES</td>\n",
       "      <td>Psoriasis</td>\n",
       "      <td>1.849655e-15</td>\n",
       "      <td>8</td>\n",
       "    </tr>\n",
       "  </tbody>\n",
       "</table>\n",
       "</div>"
      ],
      "text/plain": [
       "                              subject_name subject_type    predicate  \\\n",
       "0                                imiquimod         orch       CAUSES   \n",
       "9                                 cytokine         aapp       CAUSES   \n",
       "21                          interleukin-23         gngm       CAUSES   \n",
       "27                  TNF protein, human|TNF         aapp       CAUSES   \n",
       "37                          Interleukin-17         aapp       CAUSES   \n",
       "38                              infliximab         aapp       CAUSES   \n",
       "83         Tumor Necrosis Factor-alpha|TNF         aapp       CAUSES   \n",
       "91                                 Obesity         dsyn  PREDISPOSES   \n",
       "127                           TNF gene|TNF         gngm       CAUSES   \n",
       "190  tumor necrosis factor-alpha inhibitor         aapp       CAUSES   \n",
       "175                          Superantigens         aapp       CAUSES   \n",
       "183           Tetradecanoylphorbol Acetate         hops       CAUSES   \n",
       "185                 Tumor Necrosis Factors         aapp       CAUSES   \n",
       "171                             adalimumab         aapp       CAUSES   \n",
       "192                                 Aldara         orch       CAUSES   \n",
       "199                       Interferon-alpha         aapp       CAUSES   \n",
       "229                         interleukin-22         aapp       CAUSES   \n",
       "243                              Infection         dsyn       CAUSES   \n",
       "294              VEGF protein, human|VEGFA         aapp       CAUSES   \n",
       "263                                 NELFCD         gngm       CAUSES   \n",
       "\n",
       "    object_name           pval  localCount  \n",
       "0     Psoriasis   0.000000e+00         401  \n",
       "9     Psoriasis  2.415388e-117          66  \n",
       "21    Psoriasis   1.150882e-78          44  \n",
       "27    Psoriasis   3.653669e-70          39  \n",
       "37    Psoriasis   2.536981e-54          30  \n",
       "38    Psoriasis   4.970743e-54          30  \n",
       "83    Psoriasis   3.622067e-33          18  \n",
       "91    Psoriasis   2.112714e-31          17  \n",
       "127   Psoriasis   4.238164e-26          14  \n",
       "190   Psoriasis   8.693848e-21          11  \n",
       "175   Psoriasis   8.693848e-21          11  \n",
       "183   Psoriasis   8.693848e-21          11  \n",
       "185   Psoriasis   8.693848e-21          11  \n",
       "171   Psoriasis   1.659558e-20          11  \n",
       "192   Psoriasis   5.163663e-19          10  \n",
       "199   Psoriasis   5.163663e-19          10  \n",
       "229   Psoriasis   3.081483e-17           9  \n",
       "243   Psoriasis   3.081483e-17           9  \n",
       "294   Psoriasis   1.849655e-15           8  \n",
       "263   Psoriasis   1.849655e-15           8  "
      ]
     },
     "execution_count": 11,
     "metadata": {},
     "output_type": "execute_result"
    }
   ],
   "source": [
    "q='psoriasis'\n",
    "enrich_df=enrich(q)\n",
    "\n",
    "#map to objects that contain the query term\n",
    "enrich_df = enrich_df[enrich_df['object_name'].str.contains(q,case=False)]\n",
    "print(enrich_df)\n",
    "print(enrich_df.shape)\n",
    "\n",
    "#list of risk factor predicates\n",
    "rf_preds=['CAUSES','PREDISPOSES','PRECEDES','STIMULATES']\n",
    "rf=enrich_df[enrich_df['predicate'].isin(rf_preds)]\n",
    "\n",
    "#make sure pval is a float\n",
    "rf['pval']=rf['pval'].astype(float)\n",
    "\n",
    "#look at the top 20 ordered by enrichment pvalue\n",
    "rf.sort_values(by='pval',ascending=True).head(20)[['subject_name','subject_type','predicate','object_name','pval','localCount']]"
   ]
  },
  {
   "cell_type": "markdown",
   "metadata": {},
   "source": [
    "# All against all\n",
    "\n",
    "The excellent performance capabilities of MELODI Presto means we can perform an all-against-all analysis for a range of terms, e.g. a list of genes and diseases. This can create a network, highlighting potential shared mechanisms of action. \n",
    "\n",
    "As an example we examine the relationships between "
   ]
  },
  {
   "cell_type": "code",
   "execution_count": 17,
   "metadata": {},
   "outputs": [],
   "source": [
    "#just run enrich on each then create network"
   ]
  }
 ],
 "metadata": {
  "kernelspec": {
   "display_name": "melodi-presto",
   "language": "python",
   "name": "myenv"
  },
  "language_info": {
   "codemirror_mode": {
    "name": "ipython",
    "version": 3
   },
   "file_extension": ".py",
   "mimetype": "text/x-python",
   "name": "python",
   "nbconvert_exporter": "python",
   "pygments_lexer": "ipython3",
   "version": "3.7.6"
  }
 },
 "nbformat": 4,
 "nbformat_minor": 4
}
