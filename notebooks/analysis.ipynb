{
 "cells": [
  {
   "cell_type": "code",
   "execution_count": null,
   "metadata": {},
   "outputs": [],
   "source": []
  },
  {
   "cell_type": "markdown",
   "metadata": {},
   "source": [
    "# MELODI Presto Analysis Example"
   ]
  },
  {
   "cell_type": "code",
   "execution_count": 3,
   "metadata": {},
   "outputs": [],
   "source": [
    "import json\n",
    "import pandas as pd\n",
    "import requests"
   ]
  },
  {
   "cell_type": "markdown",
   "metadata": {},
   "source": [
    "## Configure parameters"
   ]
  },
  {
   "cell_type": "code",
   "execution_count": 4,
   "metadata": {},
   "outputs": [
    {
     "output_type": "execute_result",
     "data": {
      "text/plain": "True"
     },
     "metadata": {},
     "execution_count": 4
    }
   ],
   "source": [
    "API_URL = \"https://melodi-presto.mrcieu.ac.uk/api/\"\n",
    "\n",
    "requests.get(f\"{API_URL}/status\").json()"
   ]
  },
  {
   "cell_type": "markdown",
   "metadata": {},
   "source": [
    "### COVID-19 risk factors\n",
    "\n"
   ]
  },
  {
   "cell_type": "code",
   "execution_count": 5,
   "metadata": {},
   "outputs": [
    {
     "output_type": "execute_result",
     "data": {
      "text/plain": "                                               triple_x  \\\n0     Hypertensive disease:PREDISPOSES:Cardiovascula...   \n1     Metabolic syndrome:PREDISPOSES:Cardiovascular ...   \n2           Obesity:PREDISPOSES:Cardiovascular Diseases   \n3     Dyslipidemias:PREDISPOSES:Cardiovascular Diseases   \n4          Diabetes:PREDISPOSES:Cardiovascular Diseases   \n...                                                 ...   \n1676  Tuberculosis, Miliary:CAUSES:Respiratory Distr...   \n1677  Tuberculosis, Miliary:CAUSES:Respiratory Distr...   \n1678  Tuberculosis, Miliary:CAUSES:Respiratory Distr...   \n1679                   everolimus:INHIBITS:Cyclosporine   \n1680  CDKN1A|TCEAL1|NSG1|H3F3AP6:STIMULATES:Phosphot...   \n\n                  subject_name_x subject_type_x            subject_id_x  \\\n0           Hypertensive disease           dsyn                C0020538   \n1             Metabolic syndrome           dsyn                C0948265   \n2                        Obesity           dsyn                C0028754   \n3                  Dyslipidemias           dsyn                C0242339   \n4                       Diabetes           dsyn                C0011847   \n...                          ...            ...                     ...   \n1676       Tuberculosis, Miliary           dsyn                C0041321   \n1677       Tuberculosis, Miliary           dsyn                C0041321   \n1678       Tuberculosis, Miliary           dsyn                C0041321   \n1679                  everolimus           orch                C0541315   \n1680  CDKN1A|TCEAL1|NSG1|H3F3AP6           gngm  1026|9338|27065|644914   \n\n      predicate_x                         object_name_x object_type_x  \\\n0     PREDISPOSES               Cardiovascular Diseases          dsyn   \n1     PREDISPOSES               Cardiovascular Diseases          dsyn   \n2     PREDISPOSES               Cardiovascular Diseases          dsyn   \n3     PREDISPOSES               Cardiovascular Diseases          dsyn   \n4     PREDISPOSES               Cardiovascular Diseases          dsyn   \n...           ...                                   ...           ...   \n1676       CAUSES  Respiratory Distress Syndrome, Adult          dsyn   \n1677       CAUSES  Respiratory Distress Syndrome, Adult          dsyn   \n1678       CAUSES  Respiratory Distress Syndrome, Adult          dsyn   \n1679     INHIBITS                          Cyclosporine          gngm   \n1680   STIMULATES                   Phosphotransferases          gngm   \n\n     object_id_x  localCount_x  localTotal_x  ...  object_type_y  object_id_y  \\\n0       C0007222           835        270647  ...           dsyn     C5203670   \n1       C0007222           678        270647  ...           dsyn     C5203670   \n2       C0007222           543        270647  ...           dsyn     C5203670   \n3       C0007222           372        270647  ...           dsyn     C5203670   \n4       C0007222           299        270647  ...           dsyn     C5203670   \n...          ...           ...           ...  ...            ...          ...   \n1676    C0035222             9        270647  ...           dsyn     C1175175   \n1677    C0035222             9        270647  ...           dsyn     C5203670   \n1678    C0035222             9        270647  ...           dsyn     C5203670   \n1679    C0010592             7        270647  ...           dsyn     C0151317   \n1680    C0031727             4        270647  ...           aapp     C0872251   \n\n      localCount_y  localTotal_y globalCount_y globalTotal_y       odds_y  \\\n0                2           740             2       6862606  9298.921409   \n1                2           740             2       6862606  9298.921409   \n2                2           740             2       6862606  9298.921409   \n3                2           740             2       6862606  9298.921409   \n4                2           740             2       6862606  9298.921409   \n...            ...           ...           ...           ...          ...   \n1676             4          4335            10       6862606   633.811683   \n1677             4          4335             5       6862606  1267.624290   \n1678             3          4335             3       6862606  1584.165051   \n1679             2          4335             3       6862606  1055.866297   \n1680             2          4335             2       6862606  1583.799677   \n\n            pval_y                              pmids_y        set_y  \n0     6.960000e-08                    32281055 32304798     covid-19  \n1     6.960000e-08                    32281055 32304798     covid-19  \n2     6.960000e-08                    32281055 32304798     covid-19  \n3     6.960000e-08                    32281055 32304798     covid-19  \n4     6.960000e-08                    32281055 32304798     covid-19  \n...            ...                                  ...          ...  \n1676  2.000000e-10  22876772 15640680 32335749 32157847  coronavirus  \n1677  0.000000e+00  32203711 32238613 32200400 32157847  coronavirus  \n1678  5.000000e-09           32292915 32312600 32307151  coronavirus  \n1679  3.979300e-06                      2535702 2829561  coronavirus  \n1680  2.388600e-06                             19109397  coronavirus  \n\n[1681 rows x 32 columns]",
      "text/html": "<div>\n<style scoped>\n    .dataframe tbody tr th:only-of-type {\n        vertical-align: middle;\n    }\n\n    .dataframe tbody tr th {\n        vertical-align: top;\n    }\n\n    .dataframe thead th {\n        text-align: right;\n    }\n</style>\n<table border=\"1\" class=\"dataframe\">\n  <thead>\n    <tr style=\"text-align: right;\">\n      <th></th>\n      <th>triple_x</th>\n      <th>subject_name_x</th>\n      <th>subject_type_x</th>\n      <th>subject_id_x</th>\n      <th>predicate_x</th>\n      <th>object_name_x</th>\n      <th>object_type_x</th>\n      <th>object_id_x</th>\n      <th>localCount_x</th>\n      <th>localTotal_x</th>\n      <th>...</th>\n      <th>object_type_y</th>\n      <th>object_id_y</th>\n      <th>localCount_y</th>\n      <th>localTotal_y</th>\n      <th>globalCount_y</th>\n      <th>globalTotal_y</th>\n      <th>odds_y</th>\n      <th>pval_y</th>\n      <th>pmids_y</th>\n      <th>set_y</th>\n    </tr>\n  </thead>\n  <tbody>\n    <tr>\n      <th>0</th>\n      <td>Hypertensive disease:PREDISPOSES:Cardiovascula...</td>\n      <td>Hypertensive disease</td>\n      <td>dsyn</td>\n      <td>C0020538</td>\n      <td>PREDISPOSES</td>\n      <td>Cardiovascular Diseases</td>\n      <td>dsyn</td>\n      <td>C0007222</td>\n      <td>835</td>\n      <td>270647</td>\n      <td>...</td>\n      <td>dsyn</td>\n      <td>C5203670</td>\n      <td>2</td>\n      <td>740</td>\n      <td>2</td>\n      <td>6862606</td>\n      <td>9298.921409</td>\n      <td>6.960000e-08</td>\n      <td>32281055 32304798</td>\n      <td>covid-19</td>\n    </tr>\n    <tr>\n      <th>1</th>\n      <td>Metabolic syndrome:PREDISPOSES:Cardiovascular ...</td>\n      <td>Metabolic syndrome</td>\n      <td>dsyn</td>\n      <td>C0948265</td>\n      <td>PREDISPOSES</td>\n      <td>Cardiovascular Diseases</td>\n      <td>dsyn</td>\n      <td>C0007222</td>\n      <td>678</td>\n      <td>270647</td>\n      <td>...</td>\n      <td>dsyn</td>\n      <td>C5203670</td>\n      <td>2</td>\n      <td>740</td>\n      <td>2</td>\n      <td>6862606</td>\n      <td>9298.921409</td>\n      <td>6.960000e-08</td>\n      <td>32281055 32304798</td>\n      <td>covid-19</td>\n    </tr>\n    <tr>\n      <th>2</th>\n      <td>Obesity:PREDISPOSES:Cardiovascular Diseases</td>\n      <td>Obesity</td>\n      <td>dsyn</td>\n      <td>C0028754</td>\n      <td>PREDISPOSES</td>\n      <td>Cardiovascular Diseases</td>\n      <td>dsyn</td>\n      <td>C0007222</td>\n      <td>543</td>\n      <td>270647</td>\n      <td>...</td>\n      <td>dsyn</td>\n      <td>C5203670</td>\n      <td>2</td>\n      <td>740</td>\n      <td>2</td>\n      <td>6862606</td>\n      <td>9298.921409</td>\n      <td>6.960000e-08</td>\n      <td>32281055 32304798</td>\n      <td>covid-19</td>\n    </tr>\n    <tr>\n      <th>3</th>\n      <td>Dyslipidemias:PREDISPOSES:Cardiovascular Diseases</td>\n      <td>Dyslipidemias</td>\n      <td>dsyn</td>\n      <td>C0242339</td>\n      <td>PREDISPOSES</td>\n      <td>Cardiovascular Diseases</td>\n      <td>dsyn</td>\n      <td>C0007222</td>\n      <td>372</td>\n      <td>270647</td>\n      <td>...</td>\n      <td>dsyn</td>\n      <td>C5203670</td>\n      <td>2</td>\n      <td>740</td>\n      <td>2</td>\n      <td>6862606</td>\n      <td>9298.921409</td>\n      <td>6.960000e-08</td>\n      <td>32281055 32304798</td>\n      <td>covid-19</td>\n    </tr>\n    <tr>\n      <th>4</th>\n      <td>Diabetes:PREDISPOSES:Cardiovascular Diseases</td>\n      <td>Diabetes</td>\n      <td>dsyn</td>\n      <td>C0011847</td>\n      <td>PREDISPOSES</td>\n      <td>Cardiovascular Diseases</td>\n      <td>dsyn</td>\n      <td>C0007222</td>\n      <td>299</td>\n      <td>270647</td>\n      <td>...</td>\n      <td>dsyn</td>\n      <td>C5203670</td>\n      <td>2</td>\n      <td>740</td>\n      <td>2</td>\n      <td>6862606</td>\n      <td>9298.921409</td>\n      <td>6.960000e-08</td>\n      <td>32281055 32304798</td>\n      <td>covid-19</td>\n    </tr>\n    <tr>\n      <th>...</th>\n      <td>...</td>\n      <td>...</td>\n      <td>...</td>\n      <td>...</td>\n      <td>...</td>\n      <td>...</td>\n      <td>...</td>\n      <td>...</td>\n      <td>...</td>\n      <td>...</td>\n      <td>...</td>\n      <td>...</td>\n      <td>...</td>\n      <td>...</td>\n      <td>...</td>\n      <td>...</td>\n      <td>...</td>\n      <td>...</td>\n      <td>...</td>\n      <td>...</td>\n      <td>...</td>\n    </tr>\n    <tr>\n      <th>1676</th>\n      <td>Tuberculosis, Miliary:CAUSES:Respiratory Distr...</td>\n      <td>Tuberculosis, Miliary</td>\n      <td>dsyn</td>\n      <td>C0041321</td>\n      <td>CAUSES</td>\n      <td>Respiratory Distress Syndrome, Adult</td>\n      <td>dsyn</td>\n      <td>C0035222</td>\n      <td>9</td>\n      <td>270647</td>\n      <td>...</td>\n      <td>dsyn</td>\n      <td>C1175175</td>\n      <td>4</td>\n      <td>4335</td>\n      <td>10</td>\n      <td>6862606</td>\n      <td>633.811683</td>\n      <td>2.000000e-10</td>\n      <td>22876772 15640680 32335749 32157847</td>\n      <td>coronavirus</td>\n    </tr>\n    <tr>\n      <th>1677</th>\n      <td>Tuberculosis, Miliary:CAUSES:Respiratory Distr...</td>\n      <td>Tuberculosis, Miliary</td>\n      <td>dsyn</td>\n      <td>C0041321</td>\n      <td>CAUSES</td>\n      <td>Respiratory Distress Syndrome, Adult</td>\n      <td>dsyn</td>\n      <td>C0035222</td>\n      <td>9</td>\n      <td>270647</td>\n      <td>...</td>\n      <td>dsyn</td>\n      <td>C5203670</td>\n      <td>4</td>\n      <td>4335</td>\n      <td>5</td>\n      <td>6862606</td>\n      <td>1267.624290</td>\n      <td>0.000000e+00</td>\n      <td>32203711 32238613 32200400 32157847</td>\n      <td>coronavirus</td>\n    </tr>\n    <tr>\n      <th>1678</th>\n      <td>Tuberculosis, Miliary:CAUSES:Respiratory Distr...</td>\n      <td>Tuberculosis, Miliary</td>\n      <td>dsyn</td>\n      <td>C0041321</td>\n      <td>CAUSES</td>\n      <td>Respiratory Distress Syndrome, Adult</td>\n      <td>dsyn</td>\n      <td>C0035222</td>\n      <td>9</td>\n      <td>270647</td>\n      <td>...</td>\n      <td>dsyn</td>\n      <td>C5203670</td>\n      <td>3</td>\n      <td>4335</td>\n      <td>3</td>\n      <td>6862606</td>\n      <td>1584.165051</td>\n      <td>5.000000e-09</td>\n      <td>32292915 32312600 32307151</td>\n      <td>coronavirus</td>\n    </tr>\n    <tr>\n      <th>1679</th>\n      <td>everolimus:INHIBITS:Cyclosporine</td>\n      <td>everolimus</td>\n      <td>orch</td>\n      <td>C0541315</td>\n      <td>INHIBITS</td>\n      <td>Cyclosporine</td>\n      <td>gngm</td>\n      <td>C0010592</td>\n      <td>7</td>\n      <td>270647</td>\n      <td>...</td>\n      <td>dsyn</td>\n      <td>C0151317</td>\n      <td>2</td>\n      <td>4335</td>\n      <td>3</td>\n      <td>6862606</td>\n      <td>1055.866297</td>\n      <td>3.979300e-06</td>\n      <td>2535702 2829561</td>\n      <td>coronavirus</td>\n    </tr>\n    <tr>\n      <th>1680</th>\n      <td>CDKN1A|TCEAL1|NSG1|H3F3AP6:STIMULATES:Phosphot...</td>\n      <td>CDKN1A|TCEAL1|NSG1|H3F3AP6</td>\n      <td>gngm</td>\n      <td>1026|9338|27065|644914</td>\n      <td>STIMULATES</td>\n      <td>Phosphotransferases</td>\n      <td>gngm</td>\n      <td>C0031727</td>\n      <td>4</td>\n      <td>270647</td>\n      <td>...</td>\n      <td>aapp</td>\n      <td>C0872251</td>\n      <td>2</td>\n      <td>4335</td>\n      <td>2</td>\n      <td>6862606</td>\n      <td>1583.799677</td>\n      <td>2.388600e-06</td>\n      <td>19109397</td>\n      <td>coronavirus</td>\n    </tr>\n  </tbody>\n</table>\n<p>1681 rows × 32 columns</p>\n</div>"
     },
     "metadata": {},
     "execution_count": 5
    }
   ],
   "source": [
    "q1=['risk factors']\n",
    "q2=['covid-19','coronavirus']\n",
    "\n",
    "endpoint = \"/overlap/\"\n",
    "url = f\"{API_URL}{endpoint}\"\n",
    "params = {\n",
    "    \"x\": q1,\n",
    "    \"y\": q2,\n",
    "}\n",
    "response = requests.post(url, data=json.dumps(params))\n",
    "res = response.json()\n",
    "overlap_df = (\n",
    "    pd.json_normalize(res['data'])\n",
    ")\n",
    "overlap_df"
   ]
  },
  {
   "cell_type": "code",
   "execution_count": 6,
   "metadata": {},
   "outputs": [
    {
     "output_type": "execute_result",
     "data": {
      "text/plain": "set_y        object_type_x  object_name_x                       \ncoronavirus  dsyn           Infection                               484\n                            Diabetes                                220\n                            Hypertensive disease                     99\n                            Pneumonia                                50\n                            Acute myocardial infarction              18\n                            Respiratory Distress Syndrome, Adult      9\n                            Inflammatory Bowel Diseases               6\n                            Syndrome                                  5\n                            Septicemia                                3\n                            Autoimmune Diseases                       2\n             gngm           Cyclosporine                              1\n                            Phosphotransferases                       1\ncovid-19     dsyn           Hypertensive disease                    297\n                            Cardiovascular Diseases                 217\n                            Diabetes                                110\n                            Obesity                                 100\n                            Pneumonia                                20\n                            Acute myocardial infarction              18\n                            Respiratory Distress Syndrome, Adult     12\n                            Inflammatory Bowel Diseases               6\n                            Septicemia                                3\nName: object_name_x, dtype: int64"
     },
     "metadata": {},
     "execution_count": 6
    }
   ],
   "source": [
    "overlap_counts = overlap_df.groupby(['set_y','object_type_x'])['object_name_x'].value_counts()\n",
    "overlap_counts"
   ]
  },
  {
   "cell_type": "markdown",
   "metadata": {},
   "source": [
    "### COVID-19 risk factors\n",
    "Factors associated with hospitalization and critical illness among 4,103 patients with COVID-19 disease in New York City:\n",
    "\n",
    "https://www.medrxiv.org/content/10.1101/2020.04.08.20057794v1"
   ]
  },
  {
   "cell_type": "code",
   "execution_count": 44,
   "metadata": {},
   "outputs": [
    {
     "output_type": "execute_result",
     "data": {
      "text/plain": "                                              triple_x  \\\n0    C-reactive protein:PREDISPOSES:Cardiovascular ...   \n1    C-reactive protein:ASSOCIATED_WITH:Cardiovascu...   \n2    Metabolic syndrome:PREDISPOSES:Cardiovascular ...   \n3          Obesity:PREDISPOSES:Cardiovascular Diseases   \n4    Hypertensive disease:PREDISPOSES:Cardiovascula...   \n..                                                 ...   \n872      Ferritin:INTERACTS_WITH:Monoclonal Antibodies   \n873      Septicemia:CAUSES:Blood Coagulation Disorders   \n874  Pulmonary Embolism:NEG_COEXISTS_WITH:Blood Coa...   \n875  Chronic Obstructive Airway Disease:COEXISTS_WI...   \n876  Chronic Obstructive Airway Disease:COEXISTS_WI...   \n\n                         subject_name_x subject_type_x subject_id_x  \\\n0                    C-reactive protein           aapp     C0006560   \n1                    C-reactive protein           aapp     C0006560   \n2                    Metabolic syndrome           dsyn     C0948265   \n3                               Obesity           dsyn     C0028754   \n4                  Hypertensive disease           dsyn     C0020538   \n..                                  ...            ...          ...   \n872                            Ferritin           aapp     C0015879   \n873                          Septicemia           dsyn     C0036690   \n874                  Pulmonary Embolism           dsyn     C0034065   \n875  Chronic Obstructive Airway Disease           dsyn     C0024117   \n876  Chronic Obstructive Airway Disease           dsyn     C0024117   \n\n           predicate_x                object_name_x object_type_x object_id_x  \\\n0          PREDISPOSES      Cardiovascular Diseases          dsyn    C0007222   \n1      ASSOCIATED_WITH      Cardiovascular Diseases          dsyn    C0007222   \n2          PREDISPOSES      Cardiovascular Diseases          dsyn    C0007222   \n3          PREDISPOSES      Cardiovascular Diseases          dsyn    C0007222   \n4          PREDISPOSES      Cardiovascular Diseases          dsyn    C0007222   \n..                 ...                          ...           ...         ...   \n872     INTERACTS_WITH        Monoclonal Antibodies          aapp    C0003250   \n873             CAUSES  Blood Coagulation Disorders          dsyn    C0005779   \n874  NEG_COEXISTS_WITH  Blood Coagulation Disorders          dsyn    C0005779   \n875      COEXISTS_WITH          Respiratory Failure          dsyn    C1145670   \n876      COEXISTS_WITH          Respiratory Failure          dsyn    C1145670   \n\n     localCount_x  localTotal_x  ...  object_type_y  object_id_y  \\\n0             282         62335  ...           dsyn     C5203670   \n1             169         62335  ...           dsyn     C5203670   \n2              73         62335  ...           dsyn     C5203670   \n3              46         62335  ...           dsyn     C5203670   \n4              35         62335  ...           dsyn     C5203670   \n..            ...           ...  ...            ...          ...   \n872             3         16878  ...           aapp     C0065827   \n873             8          5356  ...           dsyn     C5203670   \n874             2          5356  ...           dsyn     C5203670   \n875             7          5356  ...           dsyn     C5203670   \n876             7          5356  ...           dsyn     C5203670   \n\n     localCount_y  localTotal_y globalCount_y globalTotal_y       odds_y  \\\n0               2           740             2       6862606  9298.921409   \n1               2           740             2       6862606  9298.921409   \n2               2           740             2       6862606  9298.921409   \n3               2           740             2       6862606  9298.921409   \n4               2           740             2       6862606  9298.921409   \n..            ...           ...           ...           ...          ...   \n872             2          4335             2       6862606  1583.799677   \n873             3           740             3       6862606  9311.537313   \n874             3           740             3       6862606  9311.537313   \n875             3           740             3       6862606  9311.537313   \n876             2          4335             3       6862606  1055.866297   \n\n           pval_y                     pmids_y        set_y  \n0    6.960000e-08           32281055 32304798     covid-19  \n1    6.960000e-08           32281055 32304798     covid-19  \n2    6.960000e-08           32281055 32304798     covid-19  \n3    6.960000e-08           32281055 32304798     covid-19  \n4    6.960000e-08           32281055 32304798     covid-19  \n..            ...                         ...          ...  \n872  2.388600e-06                    30877355  coronavirus  \n873  0.000000e+00           32302442 32302462     covid-19  \n874  0.000000e+00           32302442 32302462     covid-19  \n875  0.000000e+00  32299776 32277836 32320677     covid-19  \n876  3.979300e-06           32299776 32277836  coronavirus  \n\n[877 rows x 32 columns]",
      "text/html": "<div>\n<style scoped>\n    .dataframe tbody tr th:only-of-type {\n        vertical-align: middle;\n    }\n\n    .dataframe tbody tr th {\n        vertical-align: top;\n    }\n\n    .dataframe thead th {\n        text-align: right;\n    }\n</style>\n<table border=\"1\" class=\"dataframe\">\n  <thead>\n    <tr style=\"text-align: right;\">\n      <th></th>\n      <th>triple_x</th>\n      <th>subject_name_x</th>\n      <th>subject_type_x</th>\n      <th>subject_id_x</th>\n      <th>predicate_x</th>\n      <th>object_name_x</th>\n      <th>object_type_x</th>\n      <th>object_id_x</th>\n      <th>localCount_x</th>\n      <th>localTotal_x</th>\n      <th>...</th>\n      <th>object_type_y</th>\n      <th>object_id_y</th>\n      <th>localCount_y</th>\n      <th>localTotal_y</th>\n      <th>globalCount_y</th>\n      <th>globalTotal_y</th>\n      <th>odds_y</th>\n      <th>pval_y</th>\n      <th>pmids_y</th>\n      <th>set_y</th>\n    </tr>\n  </thead>\n  <tbody>\n    <tr>\n      <th>0</th>\n      <td>C-reactive protein:PREDISPOSES:Cardiovascular ...</td>\n      <td>C-reactive protein</td>\n      <td>aapp</td>\n      <td>C0006560</td>\n      <td>PREDISPOSES</td>\n      <td>Cardiovascular Diseases</td>\n      <td>dsyn</td>\n      <td>C0007222</td>\n      <td>282</td>\n      <td>62335</td>\n      <td>...</td>\n      <td>dsyn</td>\n      <td>C5203670</td>\n      <td>2</td>\n      <td>740</td>\n      <td>2</td>\n      <td>6862606</td>\n      <td>9298.921409</td>\n      <td>6.960000e-08</td>\n      <td>32281055 32304798</td>\n      <td>covid-19</td>\n    </tr>\n    <tr>\n      <th>1</th>\n      <td>C-reactive protein:ASSOCIATED_WITH:Cardiovascu...</td>\n      <td>C-reactive protein</td>\n      <td>aapp</td>\n      <td>C0006560</td>\n      <td>ASSOCIATED_WITH</td>\n      <td>Cardiovascular Diseases</td>\n      <td>dsyn</td>\n      <td>C0007222</td>\n      <td>169</td>\n      <td>62335</td>\n      <td>...</td>\n      <td>dsyn</td>\n      <td>C5203670</td>\n      <td>2</td>\n      <td>740</td>\n      <td>2</td>\n      <td>6862606</td>\n      <td>9298.921409</td>\n      <td>6.960000e-08</td>\n      <td>32281055 32304798</td>\n      <td>covid-19</td>\n    </tr>\n    <tr>\n      <th>2</th>\n      <td>Metabolic syndrome:PREDISPOSES:Cardiovascular ...</td>\n      <td>Metabolic syndrome</td>\n      <td>dsyn</td>\n      <td>C0948265</td>\n      <td>PREDISPOSES</td>\n      <td>Cardiovascular Diseases</td>\n      <td>dsyn</td>\n      <td>C0007222</td>\n      <td>73</td>\n      <td>62335</td>\n      <td>...</td>\n      <td>dsyn</td>\n      <td>C5203670</td>\n      <td>2</td>\n      <td>740</td>\n      <td>2</td>\n      <td>6862606</td>\n      <td>9298.921409</td>\n      <td>6.960000e-08</td>\n      <td>32281055 32304798</td>\n      <td>covid-19</td>\n    </tr>\n    <tr>\n      <th>3</th>\n      <td>Obesity:PREDISPOSES:Cardiovascular Diseases</td>\n      <td>Obesity</td>\n      <td>dsyn</td>\n      <td>C0028754</td>\n      <td>PREDISPOSES</td>\n      <td>Cardiovascular Diseases</td>\n      <td>dsyn</td>\n      <td>C0007222</td>\n      <td>46</td>\n      <td>62335</td>\n      <td>...</td>\n      <td>dsyn</td>\n      <td>C5203670</td>\n      <td>2</td>\n      <td>740</td>\n      <td>2</td>\n      <td>6862606</td>\n      <td>9298.921409</td>\n      <td>6.960000e-08</td>\n      <td>32281055 32304798</td>\n      <td>covid-19</td>\n    </tr>\n    <tr>\n      <th>4</th>\n      <td>Hypertensive disease:PREDISPOSES:Cardiovascula...</td>\n      <td>Hypertensive disease</td>\n      <td>dsyn</td>\n      <td>C0020538</td>\n      <td>PREDISPOSES</td>\n      <td>Cardiovascular Diseases</td>\n      <td>dsyn</td>\n      <td>C0007222</td>\n      <td>35</td>\n      <td>62335</td>\n      <td>...</td>\n      <td>dsyn</td>\n      <td>C5203670</td>\n      <td>2</td>\n      <td>740</td>\n      <td>2</td>\n      <td>6862606</td>\n      <td>9298.921409</td>\n      <td>6.960000e-08</td>\n      <td>32281055 32304798</td>\n      <td>covid-19</td>\n    </tr>\n    <tr>\n      <th>...</th>\n      <td>...</td>\n      <td>...</td>\n      <td>...</td>\n      <td>...</td>\n      <td>...</td>\n      <td>...</td>\n      <td>...</td>\n      <td>...</td>\n      <td>...</td>\n      <td>...</td>\n      <td>...</td>\n      <td>...</td>\n      <td>...</td>\n      <td>...</td>\n      <td>...</td>\n      <td>...</td>\n      <td>...</td>\n      <td>...</td>\n      <td>...</td>\n      <td>...</td>\n      <td>...</td>\n    </tr>\n    <tr>\n      <th>872</th>\n      <td>Ferritin:INTERACTS_WITH:Monoclonal Antibodies</td>\n      <td>Ferritin</td>\n      <td>aapp</td>\n      <td>C0015879</td>\n      <td>INTERACTS_WITH</td>\n      <td>Monoclonal Antibodies</td>\n      <td>aapp</td>\n      <td>C0003250</td>\n      <td>3</td>\n      <td>16878</td>\n      <td>...</td>\n      <td>aapp</td>\n      <td>C0065827</td>\n      <td>2</td>\n      <td>4335</td>\n      <td>2</td>\n      <td>6862606</td>\n      <td>1583.799677</td>\n      <td>2.388600e-06</td>\n      <td>30877355</td>\n      <td>coronavirus</td>\n    </tr>\n    <tr>\n      <th>873</th>\n      <td>Septicemia:CAUSES:Blood Coagulation Disorders</td>\n      <td>Septicemia</td>\n      <td>dsyn</td>\n      <td>C0036690</td>\n      <td>CAUSES</td>\n      <td>Blood Coagulation Disorders</td>\n      <td>dsyn</td>\n      <td>C0005779</td>\n      <td>8</td>\n      <td>5356</td>\n      <td>...</td>\n      <td>dsyn</td>\n      <td>C5203670</td>\n      <td>3</td>\n      <td>740</td>\n      <td>3</td>\n      <td>6862606</td>\n      <td>9311.537313</td>\n      <td>0.000000e+00</td>\n      <td>32302442 32302462</td>\n      <td>covid-19</td>\n    </tr>\n    <tr>\n      <th>874</th>\n      <td>Pulmonary Embolism:NEG_COEXISTS_WITH:Blood Coa...</td>\n      <td>Pulmonary Embolism</td>\n      <td>dsyn</td>\n      <td>C0034065</td>\n      <td>NEG_COEXISTS_WITH</td>\n      <td>Blood Coagulation Disorders</td>\n      <td>dsyn</td>\n      <td>C0005779</td>\n      <td>2</td>\n      <td>5356</td>\n      <td>...</td>\n      <td>dsyn</td>\n      <td>C5203670</td>\n      <td>3</td>\n      <td>740</td>\n      <td>3</td>\n      <td>6862606</td>\n      <td>9311.537313</td>\n      <td>0.000000e+00</td>\n      <td>32302442 32302462</td>\n      <td>covid-19</td>\n    </tr>\n    <tr>\n      <th>875</th>\n      <td>Chronic Obstructive Airway Disease:COEXISTS_WI...</td>\n      <td>Chronic Obstructive Airway Disease</td>\n      <td>dsyn</td>\n      <td>C0024117</td>\n      <td>COEXISTS_WITH</td>\n      <td>Respiratory Failure</td>\n      <td>dsyn</td>\n      <td>C1145670</td>\n      <td>7</td>\n      <td>5356</td>\n      <td>...</td>\n      <td>dsyn</td>\n      <td>C5203670</td>\n      <td>3</td>\n      <td>740</td>\n      <td>3</td>\n      <td>6862606</td>\n      <td>9311.537313</td>\n      <td>0.000000e+00</td>\n      <td>32299776 32277836 32320677</td>\n      <td>covid-19</td>\n    </tr>\n    <tr>\n      <th>876</th>\n      <td>Chronic Obstructive Airway Disease:COEXISTS_WI...</td>\n      <td>Chronic Obstructive Airway Disease</td>\n      <td>dsyn</td>\n      <td>C0024117</td>\n      <td>COEXISTS_WITH</td>\n      <td>Respiratory Failure</td>\n      <td>dsyn</td>\n      <td>C1145670</td>\n      <td>7</td>\n      <td>5356</td>\n      <td>...</td>\n      <td>dsyn</td>\n      <td>C5203670</td>\n      <td>2</td>\n      <td>4335</td>\n      <td>3</td>\n      <td>6862606</td>\n      <td>1055.866297</td>\n      <td>3.979300e-06</td>\n      <td>32299776 32277836</td>\n      <td>coronavirus</td>\n    </tr>\n  </tbody>\n</table>\n<p>877 rows × 32 columns</p>\n</div>"
     },
     "metadata": {},
     "execution_count": 44
    }
   ],
   "source": [
    "q1=['C-reactive protein','ferritin','d-dimer']\n",
    "q2=['covid-19','coronavirus']\n",
    "\n",
    "endpoint = \"/overlap/\"\n",
    "url = f\"{API_URL}{endpoint}\"\n",
    "params = {\n",
    "    \"x\": q1,\n",
    "    \"y\": q2,\n",
    "}\n",
    "response = requests.post(url, data=json.dumps(params))\n",
    "res = response.json()\n",
    "overlap_df = (\n",
    "    pd.json_normalize(res['data'])\n",
    ")\n",
    "overlap_df"
   ]
  },
  {
   "cell_type": "code",
   "execution_count": 51,
   "metadata": {},
   "outputs": [],
   "source": [
    "overlap_counts = overlap_df.groupby(['set_x','set_y','object_type_x'])['object_name_x'].value_counts()\n",
    "overlap_counts.to_csv('test.csv')"
   ]
  },
  {
   "cell_type": "markdown",
   "metadata": {},
   "source": [
    "### CARD14 and Psoriasis\n",
    "\n",
    "https://www.cell.com/ajhg/fulltext/S0002-9297(12)00157-7"
   ]
  },
  {
   "cell_type": "code",
   "execution_count": 13,
   "metadata": {},
   "outputs": [
    {
     "output_type": "execute_result",
     "data": {
      "text/plain": "                                 triple_x subject_name_x subject_type_x  \\\n0             IL36RN:COEXISTS_WITH:CARD14         IL36RN           gngm   \n1             IL36RN:COEXISTS_WITH:CARD14         IL36RN           gngm   \n2             IL36RN:COEXISTS_WITH:CARD14         IL36RN           gngm   \n3             IL36RN:COEXISTS_WITH:CARD14         IL36RN           gngm   \n4             IL36RN:COEXISTS_WITH:CARD14         IL36RN           gngm   \n..                                    ...            ...            ...   \n951  CARD14:ASSOCIATED_WITH:skin disorder         CARD14           gngm   \n952  CARD14:ASSOCIATED_WITH:skin disorder         CARD14           gngm   \n953  CARD14:ASSOCIATED_WITH:skin disorder         CARD14           gngm   \n954  CARD14:ASSOCIATED_WITH:skin disorder         CARD14           gngm   \n955  CARD14:ASSOCIATED_WITH:skin disorder         CARD14           gngm   \n\n    subject_id_x      predicate_x  object_name_x object_type_x object_id_x  \\\n0          26525    COEXISTS_WITH         CARD14          gngm       79092   \n1          26525    COEXISTS_WITH         CARD14          gngm       79092   \n2          26525    COEXISTS_WITH         CARD14          gngm       79092   \n3          26525    COEXISTS_WITH         CARD14          gngm       79092   \n4          26525    COEXISTS_WITH         CARD14          gngm       79092   \n..           ...              ...            ...           ...         ...   \n951        79092  ASSOCIATED_WITH  skin disorder          dsyn    C0037274   \n952        79092  ASSOCIATED_WITH  skin disorder          dsyn    C0037274   \n953        79092  ASSOCIATED_WITH  skin disorder          dsyn    C0037274   \n954        79092  ASSOCIATED_WITH  skin disorder          dsyn    C0037274   \n955        79092  ASSOCIATED_WITH  skin disorder          dsyn    C0037274   \n\n     localCount_x  localTotal_x  ...  object_type_y  object_id_y  \\\n0               2            25  ...           dsyn     C0033860   \n1               2            25  ...           gngm     C0079904   \n2               2            25  ...           gngm        10892   \n3               2            25  ...           dsyn     C0033860   \n4               2            25  ...           dsyn     C0033860   \n..            ...           ...  ...            ...          ...   \n951             2           222  ...           dsyn     C0003872   \n952             2           222  ...           dsyn     C0151317   \n953             2           222  ...           dsyn     C0033860   \n954             2           222  ...           dsyn     C0948265   \n955             2           222  ...           dsyn     C0033860   \n\n     localCount_y  localTotal_y globalCount_y globalTotal_y      odds_y  \\\n0               7         30760             7       6862606  223.152180   \n1               7         30760             9       6862606  173.562756   \n2               3         30760             3       6862606  223.123289   \n3               3         30760             3       6862606  223.123289   \n4               3         30760             3       6862606  223.123289   \n..            ...           ...           ...           ...         ...   \n951             4         30760             4       6862606  223.130511   \n952             3         30760             3       6862606  223.123289   \n953             3         30760             3       6862606  223.123289   \n954             3         30760             3       6862606  223.123289   \n955             3         30760             3       6862606  223.123289   \n\n           pval_y                                            pmids_y  \\\n0    0.000000e+00  24212883 25369198 27071417 30143077 30248356 2...   \n1    0.000000e+00  29194363 25369198 27071417 22521418 27113748 2...   \n2    1.759100e-06                                  27113748 27071417   \n3    1.759100e-06                         25369198 30386326 26358359   \n4    1.759100e-06                         28747603 30143077 29980436   \n..            ...                                                ...   \n951  2.740000e-08                29425183 26175050 30282444 24567524   \n952  1.759100e-06                         12434117 21865697 26644817   \n953  1.759100e-06                          12955263 8407075 20110064   \n954  1.759100e-06                         25847319 31700973 27344023   \n955  1.759100e-06                          20540694 9091469 12713578   \n\n         set_y  \n0    psoriasis  \n1    psoriasis  \n2    psoriasis  \n3    psoriasis  \n4    psoriasis  \n..         ...  \n951  psoriasis  \n952  psoriasis  \n953  psoriasis  \n954  psoriasis  \n955  psoriasis  \n\n[956 rows x 32 columns]",
      "text/html": "<div>\n<style scoped>\n    .dataframe tbody tr th:only-of-type {\n        vertical-align: middle;\n    }\n\n    .dataframe tbody tr th {\n        vertical-align: top;\n    }\n\n    .dataframe thead th {\n        text-align: right;\n    }\n</style>\n<table border=\"1\" class=\"dataframe\">\n  <thead>\n    <tr style=\"text-align: right;\">\n      <th></th>\n      <th>triple_x</th>\n      <th>subject_name_x</th>\n      <th>subject_type_x</th>\n      <th>subject_id_x</th>\n      <th>predicate_x</th>\n      <th>object_name_x</th>\n      <th>object_type_x</th>\n      <th>object_id_x</th>\n      <th>localCount_x</th>\n      <th>localTotal_x</th>\n      <th>...</th>\n      <th>object_type_y</th>\n      <th>object_id_y</th>\n      <th>localCount_y</th>\n      <th>localTotal_y</th>\n      <th>globalCount_y</th>\n      <th>globalTotal_y</th>\n      <th>odds_y</th>\n      <th>pval_y</th>\n      <th>pmids_y</th>\n      <th>set_y</th>\n    </tr>\n  </thead>\n  <tbody>\n    <tr>\n      <th>0</th>\n      <td>IL36RN:COEXISTS_WITH:CARD14</td>\n      <td>IL36RN</td>\n      <td>gngm</td>\n      <td>26525</td>\n      <td>COEXISTS_WITH</td>\n      <td>CARD14</td>\n      <td>gngm</td>\n      <td>79092</td>\n      <td>2</td>\n      <td>25</td>\n      <td>...</td>\n      <td>dsyn</td>\n      <td>C0033860</td>\n      <td>7</td>\n      <td>30760</td>\n      <td>7</td>\n      <td>6862606</td>\n      <td>223.152180</td>\n      <td>0.000000e+00</td>\n      <td>24212883 25369198 27071417 30143077 30248356 2...</td>\n      <td>psoriasis</td>\n    </tr>\n    <tr>\n      <th>1</th>\n      <td>IL36RN:COEXISTS_WITH:CARD14</td>\n      <td>IL36RN</td>\n      <td>gngm</td>\n      <td>26525</td>\n      <td>COEXISTS_WITH</td>\n      <td>CARD14</td>\n      <td>gngm</td>\n      <td>79092</td>\n      <td>2</td>\n      <td>25</td>\n      <td>...</td>\n      <td>gngm</td>\n      <td>C0079904</td>\n      <td>7</td>\n      <td>30760</td>\n      <td>9</td>\n      <td>6862606</td>\n      <td>173.562756</td>\n      <td>0.000000e+00</td>\n      <td>29194363 25369198 27071417 22521418 27113748 2...</td>\n      <td>psoriasis</td>\n    </tr>\n    <tr>\n      <th>2</th>\n      <td>IL36RN:COEXISTS_WITH:CARD14</td>\n      <td>IL36RN</td>\n      <td>gngm</td>\n      <td>26525</td>\n      <td>COEXISTS_WITH</td>\n      <td>CARD14</td>\n      <td>gngm</td>\n      <td>79092</td>\n      <td>2</td>\n      <td>25</td>\n      <td>...</td>\n      <td>gngm</td>\n      <td>10892</td>\n      <td>3</td>\n      <td>30760</td>\n      <td>3</td>\n      <td>6862606</td>\n      <td>223.123289</td>\n      <td>1.759100e-06</td>\n      <td>27113748 27071417</td>\n      <td>psoriasis</td>\n    </tr>\n    <tr>\n      <th>3</th>\n      <td>IL36RN:COEXISTS_WITH:CARD14</td>\n      <td>IL36RN</td>\n      <td>gngm</td>\n      <td>26525</td>\n      <td>COEXISTS_WITH</td>\n      <td>CARD14</td>\n      <td>gngm</td>\n      <td>79092</td>\n      <td>2</td>\n      <td>25</td>\n      <td>...</td>\n      <td>dsyn</td>\n      <td>C0033860</td>\n      <td>3</td>\n      <td>30760</td>\n      <td>3</td>\n      <td>6862606</td>\n      <td>223.123289</td>\n      <td>1.759100e-06</td>\n      <td>25369198 30386326 26358359</td>\n      <td>psoriasis</td>\n    </tr>\n    <tr>\n      <th>4</th>\n      <td>IL36RN:COEXISTS_WITH:CARD14</td>\n      <td>IL36RN</td>\n      <td>gngm</td>\n      <td>26525</td>\n      <td>COEXISTS_WITH</td>\n      <td>CARD14</td>\n      <td>gngm</td>\n      <td>79092</td>\n      <td>2</td>\n      <td>25</td>\n      <td>...</td>\n      <td>dsyn</td>\n      <td>C0033860</td>\n      <td>3</td>\n      <td>30760</td>\n      <td>3</td>\n      <td>6862606</td>\n      <td>223.123289</td>\n      <td>1.759100e-06</td>\n      <td>28747603 30143077 29980436</td>\n      <td>psoriasis</td>\n    </tr>\n    <tr>\n      <th>...</th>\n      <td>...</td>\n      <td>...</td>\n      <td>...</td>\n      <td>...</td>\n      <td>...</td>\n      <td>...</td>\n      <td>...</td>\n      <td>...</td>\n      <td>...</td>\n      <td>...</td>\n      <td>...</td>\n      <td>...</td>\n      <td>...</td>\n      <td>...</td>\n      <td>...</td>\n      <td>...</td>\n      <td>...</td>\n      <td>...</td>\n      <td>...</td>\n      <td>...</td>\n      <td>...</td>\n    </tr>\n    <tr>\n      <th>951</th>\n      <td>CARD14:ASSOCIATED_WITH:skin disorder</td>\n      <td>CARD14</td>\n      <td>gngm</td>\n      <td>79092</td>\n      <td>ASSOCIATED_WITH</td>\n      <td>skin disorder</td>\n      <td>dsyn</td>\n      <td>C0037274</td>\n      <td>2</td>\n      <td>222</td>\n      <td>...</td>\n      <td>dsyn</td>\n      <td>C0003872</td>\n      <td>4</td>\n      <td>30760</td>\n      <td>4</td>\n      <td>6862606</td>\n      <td>223.130511</td>\n      <td>2.740000e-08</td>\n      <td>29425183 26175050 30282444 24567524</td>\n      <td>psoriasis</td>\n    </tr>\n    <tr>\n      <th>952</th>\n      <td>CARD14:ASSOCIATED_WITH:skin disorder</td>\n      <td>CARD14</td>\n      <td>gngm</td>\n      <td>79092</td>\n      <td>ASSOCIATED_WITH</td>\n      <td>skin disorder</td>\n      <td>dsyn</td>\n      <td>C0037274</td>\n      <td>2</td>\n      <td>222</td>\n      <td>...</td>\n      <td>dsyn</td>\n      <td>C0151317</td>\n      <td>3</td>\n      <td>30760</td>\n      <td>3</td>\n      <td>6862606</td>\n      <td>223.123289</td>\n      <td>1.759100e-06</td>\n      <td>12434117 21865697 26644817</td>\n      <td>psoriasis</td>\n    </tr>\n    <tr>\n      <th>953</th>\n      <td>CARD14:ASSOCIATED_WITH:skin disorder</td>\n      <td>CARD14</td>\n      <td>gngm</td>\n      <td>79092</td>\n      <td>ASSOCIATED_WITH</td>\n      <td>skin disorder</td>\n      <td>dsyn</td>\n      <td>C0037274</td>\n      <td>2</td>\n      <td>222</td>\n      <td>...</td>\n      <td>dsyn</td>\n      <td>C0033860</td>\n      <td>3</td>\n      <td>30760</td>\n      <td>3</td>\n      <td>6862606</td>\n      <td>223.123289</td>\n      <td>1.759100e-06</td>\n      <td>12955263 8407075 20110064</td>\n      <td>psoriasis</td>\n    </tr>\n    <tr>\n      <th>954</th>\n      <td>CARD14:ASSOCIATED_WITH:skin disorder</td>\n      <td>CARD14</td>\n      <td>gngm</td>\n      <td>79092</td>\n      <td>ASSOCIATED_WITH</td>\n      <td>skin disorder</td>\n      <td>dsyn</td>\n      <td>C0037274</td>\n      <td>2</td>\n      <td>222</td>\n      <td>...</td>\n      <td>dsyn</td>\n      <td>C0948265</td>\n      <td>3</td>\n      <td>30760</td>\n      <td>3</td>\n      <td>6862606</td>\n      <td>223.123289</td>\n      <td>1.759100e-06</td>\n      <td>25847319 31700973 27344023</td>\n      <td>psoriasis</td>\n    </tr>\n    <tr>\n      <th>955</th>\n      <td>CARD14:ASSOCIATED_WITH:skin disorder</td>\n      <td>CARD14</td>\n      <td>gngm</td>\n      <td>79092</td>\n      <td>ASSOCIATED_WITH</td>\n      <td>skin disorder</td>\n      <td>dsyn</td>\n      <td>C0037274</td>\n      <td>2</td>\n      <td>222</td>\n      <td>...</td>\n      <td>dsyn</td>\n      <td>C0033860</td>\n      <td>3</td>\n      <td>30760</td>\n      <td>3</td>\n      <td>6862606</td>\n      <td>223.123289</td>\n      <td>1.759100e-06</td>\n      <td>20540694 9091469 12713578</td>\n      <td>psoriasis</td>\n    </tr>\n  </tbody>\n</table>\n<p>956 rows × 32 columns</p>\n</div>"
     },
     "metadata": {},
     "execution_count": 13
    }
   ],
   "source": [
    "q1=['AP1S3','IL36RN','CARD14']\n",
    "q2=['Psoriasis']\n",
    "\n",
    "endpoint = \"/overlap/\"\n",
    "url = f\"{API_URL}{endpoint}\"\n",
    "params = {\n",
    "    \"x\": q1,\n",
    "    \"y\": q2,\n",
    "}\n",
    "response = requests.post(url, data=json.dumps(params))\n",
    "res = response.json()\n",
    "overlap_df = (\n",
    "    pd.json_normalize(res['data'])\n",
    ")\n",
    "overlap_df"
   ]
  },
  {
   "cell_type": "code",
   "execution_count": 14,
   "metadata": {},
   "outputs": [
    {
     "output_type": "execute_result",
     "data": {
      "text/plain": "set_x   object_type_x  object_name_x                \nap1s3   gngm           CARD14                             5\ncard14  aapp           NF-kappa B                         3\n        dsyn           Psoriasis                        861\n                       Autoimmune Diseases               10\n                       skin disorder                      8\n        gngm           NF-kappa B                        21\n                       CARD14                             5\nil36rn  aapp           Interleukin Receptor               1\n        dsyn           Arthritis, Psoriatic              33\n                       Pustulosis of Palms and Soles      3\n        gngm           CARD14                             5\n                       Interleukin Receptor               1\nName: object_name_x, dtype: int64"
     },
     "metadata": {},
     "execution_count": 14
    }
   ],
   "source": [
    "overlap_counts = overlap_df.groupby(['set_x','object_type_x'])['object_name_x'].value_counts()\n",
    "overlap_counts"
   ]
  },
  {
   "cell_type": "code",
   "execution_count": null,
   "metadata": {},
   "outputs": [],
   "source": []
  }
 ],
 "metadata": {
  "kernelspec": {
   "display_name": "firstEnv",
   "language": "python",
   "name": "firstenv"
  },
  "language_info": {
   "codemirror_mode": {
    "name": "ipython",
    "version": 3
   },
   "file_extension": ".py",
   "mimetype": "text/x-python",
   "name": "python",
   "nbconvert_exporter": "python",
   "pygments_lexer": "ipython3",
   "version": "3.6.9-final"
  }
 },
 "nbformat": 4,
 "nbformat_minor": 4
}