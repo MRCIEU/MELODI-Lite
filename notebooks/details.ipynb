{
 "cells": [
  {
   "cell_type": "markdown",
   "metadata": {},
   "source": [
    "# MELODI Presto API Example Usage"
   ]
  },
  {
   "cell_type": "code",
   "execution_count": 1,
   "metadata": {},
   "outputs": [],
   "source": [
    "import json\n",
    "import pandas as pd\n",
    "import requests\n",
    "import time\n",
    "from random import randint\n",
    "import scipy.stats as stats\n",
    "from utils import enrich, overlap, sentence"
   ]
  },
  {
   "cell_type": "markdown",
   "metadata": {},
   "source": [
    "### Configure parameters"
   ]
  },
  {
   "cell_type": "code",
   "execution_count": 2,
   "metadata": {},
   "outputs": [
    {
     "data": {
      "text/plain": [
       "True"
      ]
     },
     "execution_count": 2,
     "metadata": {},
     "output_type": "execute_result"
    }
   ],
   "source": [
    "API_URL = \"https://melodi-presto.mrcieu.ac.uk/api/\"\n",
    "\n",
    "requests.get(f\"{API_URL}/status\").json()"
   ]
  },
  {
   "cell_type": "markdown",
   "metadata": {},
   "source": [
    "### How the enrichment is performed\n",
    "\n",
    "This is a basic Fisher's exact test, using the scipy stats function.\n",
    "\n",
    "https://docs.scipy.org/doc/scipy/reference/generated/scipy.stats.fisher_exact.html"
   ]
  },
  {
   "cell_type": "code",
   "execution_count": 3,
   "metadata": {},
   "outputs": [
    {
     "data": {
      "text/plain": [
       "(126.81250303259678, 3.4724305806153405e-18)"
      ]
     },
     "execution_count": 3,
     "metadata": {},
     "output_type": "execute_result"
    }
   ],
   "source": [
    "import scipy.stats as stats\n",
    "\n",
    "queryTripleCount,queryTripleTotal,globalTripleCount,globalTripleTotal=[10,3505,147,6533824]\n",
    "oddsratio, pvalue = stats.fisher_exact([[queryTripleCount, queryTripleTotal], [globalTripleCount, globalTripleTotal]])\n",
    "oddsratio,pvalue"
   ]
  },
  {
   "cell_type": "markdown",
   "metadata": {},
   "source": [
    "### Performance \n",
    "\n",
    "We can compare the performance before and after the initial query. For example, if we use a query that has not already been run, e.g. `physical activity or 123`. In a PubMed search this returns over 550,000 articles. First time it takes over 20 seconds to run, creating a data set of around 10,000 triples, second time is a few seconds."
   ]
  },
  {
   "cell_type": "code",
   "execution_count": 5,
   "metadata": {},
   "outputs": [
    {
     "name": "stdout",
     "output_type": "stream",
     "text": [
      "physical activity or 504382\n",
      "(10381, 16)\n",
      "(10381, 16)\n",
      "t1: 32.0775 \n",
      "t2: 5.3735\n"
     ]
    }
   ],
   "source": [
    "r=randint(0, 1000000)\n",
    "q='physical activity or '+str(r)\n",
    "print(q)\n",
    "\n",
    "def run_enrich(query_term):\n",
    "    start = time.time()\n",
    "    enrich_df = enrich(q)\n",
    "    print(enrich_df.shape)\n",
    "    end = time.time()\n",
    "    t = \"{:.4f}\".format(end-start)\n",
    "    return t\n",
    "    \n",
    "t1 = run_enrich(q)\n",
    "t2 = run_enrich(q)\n",
    "print('t1:',t1,'\\nt2:',t2)"
   ]
  },
  {
   "cell_type": "markdown",
   "metadata": {},
   "source": [
    "Likewise, we can run the overlap query with two new queries, and then run again with the same"
   ]
  },
  {
   "cell_type": "code",
   "execution_count": 12,
   "metadata": {},
   "outputs": [
    {
     "name": "stdout",
     "output_type": "stream",
     "text": [
      "['vitamin d or 680522'] : ['prostate cancer or 680522']\n",
      "(530, 32)\n",
      "(530, 32)\n",
      "t1: 28.2129 \n",
      "t2: 1.0195\n"
     ]
    }
   ],
   "source": [
    "r=randint(0, 1000000)\n",
    "q1=['vitamin d or '+str(r)]\n",
    "q2=['prostate cancer or '+str(r)]\n",
    "print(q1,':',q2)\n",
    "\n",
    "def run_overlap(q1,q2):\n",
    "    start = time.time()\n",
    "    overlap_df = overlap(q1,q2)\n",
    "    print(overlap_df.shape)\n",
    "    end = time.time()\n",
    "    t = \"{:.4f}\".format(end-start)\n",
    "    return t\n",
    "    \n",
    "t1 = run_overlap(q1,q2)\n",
    "t2 = run_overlap(q1,q2)\n",
    "print('t1:',t1,'\\nt2:',t2)"
   ]
  },
  {
   "cell_type": "markdown",
   "metadata": {},
   "source": [
    "##### Comparing performance of similar tools\n",
    "\n",
    "To our knowledge, the only methods providing this kind of overlap analysis are Arrowsmith (http://arrowsmith.psych.uic.edu/) and MELODI (http://melodi.biocompute.org.uk/). A query of `vitamin d` and `prostate cancer` takes over 30 minutes on both platforms. "
   ]
  },
  {
   "cell_type": "markdown",
   "metadata": {},
   "source": [
    "### Comparing output\n",
    "\n",
    "We can attempt to compare the output of the same overlap query across the three platforms. In this case, MELODI Presto data will be derived in real time, whereas data from Arrowsmith and MELODI have been pre-calculated.\n",
    "\n",
    "MELODI - http://melodi.biocompute.org.uk/results/b1741206-90ae-490b-8580-4ad7c50f7f45/\n",
    "Arrowmsith - "
   ]
  },
  {
   "cell_type": "code",
   "execution_count": 13,
   "metadata": {},
   "outputs": [
    {
     "data": {
      "text/html": [
       "<div>\n",
       "<style scoped>\n",
       "    .dataframe tbody tr th:only-of-type {\n",
       "        vertical-align: middle;\n",
       "    }\n",
       "\n",
       "    .dataframe tbody tr th {\n",
       "        vertical-align: top;\n",
       "    }\n",
       "\n",
       "    .dataframe thead th {\n",
       "        text-align: right;\n",
       "    }\n",
       "</style>\n",
       "<table border=\"1\" class=\"dataframe\">\n",
       "  <thead>\n",
       "    <tr style=\"text-align: right;\">\n",
       "      <th></th>\n",
       "      <th>name1</th>\n",
       "      <th>name2</th>\n",
       "      <th>name3</th>\n",
       "      <th>name4</th>\n",
       "      <th>name5</th>\n",
       "      <th>mean_cp</th>\n",
       "      <th>mean_odds</th>\n",
       "      <th>uniq_a</th>\n",
       "      <th>uniq_b</th>\n",
       "      <th>shared</th>\n",
       "      <th>score</th>\n",
       "      <th>treeLevel</th>\n",
       "    </tr>\n",
       "  </thead>\n",
       "  <tbody>\n",
       "    <tr>\n",
       "      <th>0</th>\n",
       "      <td>Human Cell Line (cell)</td>\n",
       "      <td>LOCATION_OF</td>\n",
       "      <td>Vitamin D3 Receptor (gngm)</td>\n",
       "      <td>ASSOCIATED_WITH</td>\n",
       "      <td>Malignant neoplasm of prostate (neop)</td>\n",
       "      <td>3.270000e-22</td>\n",
       "      <td>266.11</td>\n",
       "      <td>14</td>\n",
       "      <td>14</td>\n",
       "      <td>0</td>\n",
       "      <td>28.00</td>\n",
       "      <td>2.0</td>\n",
       "    </tr>\n",
       "    <tr>\n",
       "      <th>1</th>\n",
       "      <td>Human Cell Line (cell)</td>\n",
       "      <td>LOCATION_OF</td>\n",
       "      <td>Vitamin D3 Receptor (gngm)</td>\n",
       "      <td>PREDISPOSES</td>\n",
       "      <td>Malignant neoplasm of prostate (neop)</td>\n",
       "      <td>1.470000e-20</td>\n",
       "      <td>265.34</td>\n",
       "      <td>14</td>\n",
       "      <td>13</td>\n",
       "      <td>0</td>\n",
       "      <td>25.07</td>\n",
       "      <td>2.0</td>\n",
       "    </tr>\n",
       "    <tr>\n",
       "      <th>2</th>\n",
       "      <td>Human Cell Line (cell)</td>\n",
       "      <td>LOCATION_OF</td>\n",
       "      <td>Vitamin D3 Receptor (gngm)</td>\n",
       "      <td>ASSOCIATED_WITH</td>\n",
       "      <td>Malignant neoplasm of prostate (neop)</td>\n",
       "      <td>1.500000e-09</td>\n",
       "      <td>277.61</td>\n",
       "      <td>14</td>\n",
       "      <td>6</td>\n",
       "      <td>0</td>\n",
       "      <td>8.57</td>\n",
       "      <td>2.0</td>\n",
       "    </tr>\n",
       "    <tr>\n",
       "      <th>3</th>\n",
       "      <td>Diagnosis (hlca)</td>\n",
       "      <td>TREATS</td>\n",
       "      <td>Vitamin D Deficiency (dsyn)</td>\n",
       "      <td>PREDISPOSES</td>\n",
       "      <td>Malignant neoplasm of prostate (neop)</td>\n",
       "      <td>3.650000e-07</td>\n",
       "      <td>215.75</td>\n",
       "      <td>4</td>\n",
       "      <td>10</td>\n",
       "      <td>0</td>\n",
       "      <td>5.60</td>\n",
       "      <td>4.0</td>\n",
       "    </tr>\n",
       "    <tr>\n",
       "      <th>4</th>\n",
       "      <td>Vitamin D (phsu)</td>\n",
       "      <td>PREDISPOSES</td>\n",
       "      <td>Vitamin D Deficiency (dsyn)</td>\n",
       "      <td>PREDISPOSES</td>\n",
       "      <td>Malignant neoplasm of prostate (neop)</td>\n",
       "      <td>3.770000e-16</td>\n",
       "      <td>277.63</td>\n",
       "      <td>18</td>\n",
       "      <td>10</td>\n",
       "      <td>0</td>\n",
       "      <td>15.56</td>\n",
       "      <td>21.0</td>\n",
       "    </tr>\n",
       "  </tbody>\n",
       "</table>\n",
       "</div>"
      ],
      "text/plain": [
       "                    name1        name2                        name3  \\\n",
       "0  Human Cell Line (cell)  LOCATION_OF   Vitamin D3 Receptor (gngm)   \n",
       "1  Human Cell Line (cell)  LOCATION_OF   Vitamin D3 Receptor (gngm)   \n",
       "2  Human Cell Line (cell)  LOCATION_OF   Vitamin D3 Receptor (gngm)   \n",
       "3        Diagnosis (hlca)       TREATS  Vitamin D Deficiency (dsyn)   \n",
       "4        Vitamin D (phsu)  PREDISPOSES  Vitamin D Deficiency (dsyn)   \n",
       "\n",
       "             name4                                  name5       mean_cp  \\\n",
       "0  ASSOCIATED_WITH  Malignant neoplasm of prostate (neop)  3.270000e-22   \n",
       "1      PREDISPOSES  Malignant neoplasm of prostate (neop)  1.470000e-20   \n",
       "2  ASSOCIATED_WITH  Malignant neoplasm of prostate (neop)  1.500000e-09   \n",
       "3      PREDISPOSES  Malignant neoplasm of prostate (neop)  3.650000e-07   \n",
       "4      PREDISPOSES  Malignant neoplasm of prostate (neop)  3.770000e-16   \n",
       "\n",
       "   mean_odds  uniq_a  uniq_b  shared  score  treeLevel  \n",
       "0     266.11      14      14       0  28.00        2.0  \n",
       "1     265.34      14      13       0  25.07        2.0  \n",
       "2     277.61      14       6       0   8.57        2.0  \n",
       "3     215.75       4      10       0   5.60        4.0  \n",
       "4     277.63      18      10       0  15.56       21.0  "
      ]
     },
     "execution_count": 13,
     "metadata": {},
     "output_type": "execute_result"
    }
   ],
   "source": [
    "#load the MELODI data\n",
    "melodi_df=pd.read_csv('melodi_result_4534.csv')\n",
    "melodi_df.head()"
   ]
  },
  {
   "cell_type": "code",
   "execution_count": null,
   "metadata": {},
   "outputs": [],
   "source": []
  }
 ],
 "metadata": {
  "kernelspec": {
   "display_name": "melodi-presto",
   "language": "python",
   "name": "myenv"
  },
  "language_info": {
   "codemirror_mode": {
    "name": "ipython",
    "version": 3
   },
   "file_extension": ".py",
   "mimetype": "text/x-python",
   "name": "python",
   "nbconvert_exporter": "python",
   "pygments_lexer": "ipython3",
   "version": "3.7.6"
  }
 },
 "nbformat": 4,
 "nbformat_minor": 4
}
