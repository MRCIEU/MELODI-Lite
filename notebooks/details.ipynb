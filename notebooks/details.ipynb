{
 "cells": [
  {
   "cell_type": "markdown",
   "metadata": {},
   "source": [
    "# MELODI Presto API Example Usage"
   ]
  },
  {
   "cell_type": "code",
   "execution_count": 20,
   "metadata": {},
   "outputs": [],
   "source": [
    "import json\n",
    "import pandas as pd\n",
    "import requests\n",
    "import time\n",
    "from random import randint"
   ]
  },
  {
   "cell_type": "markdown",
   "metadata": {},
   "source": [
    "## Configure parameters"
   ]
  },
  {
   "cell_type": "code",
   "execution_count": 2,
   "metadata": {},
   "outputs": [
    {
     "data": {
      "text/plain": [
       "True"
      ]
     },
     "execution_count": 2,
     "metadata": {},
     "output_type": "execute_result"
    }
   ],
   "source": [
    "API_URL = \"https://melodi-presto.mrcieu.ac.uk/api/\"\n",
    "\n",
    "requests.get(f\"{API_URL}/status\").json()"
   ]
  },
  {
   "cell_type": "markdown",
   "metadata": {},
   "source": [
    "### Performance example\n",
    "\n",
    "We can compare the performance before and after the initial query. For example, if we use a query that has not already been run, e.g. `physical activity or 123`. In a PubMed search this returns over 550,000 articles."
   ]
  },
  {
   "cell_type": "code",
   "execution_count": 29,
   "metadata": {},
   "outputs": [
    {
     "name": "stdout",
     "output_type": "stream",
     "text": [
      "pcsk9 or 929520\n",
      "(267, 16)\n",
      "(267, 16)\n",
      "t1: 1.6722 \n",
      "t2: 0.2844\n"
     ]
    }
   ],
   "source": [
    "r=randint(0, 1000000)\n",
    "q='pcsk9 or '+str(r)\n",
    "print(q)\n",
    "\n",
    "def run_enrich(query_term):\n",
    "    start = time.time()\n",
    "\n",
    "    endpoint = \"/enrich/\"\n",
    "    url = f\"{API_URL}{endpoint}\"\n",
    "    params = {\n",
    "        \"query\": query_term,\n",
    "    }\n",
    "    response = requests.post(url, data=json.dumps(params))\n",
    "    res = response.json()\n",
    "    enrich_df = (\n",
    "            pd.json_normalize(res)\n",
    "    )\n",
    "    print(enrich_df.shape)\n",
    "    end = time.time()\n",
    "    t = \"{:.4f}\".format(end-start)\n",
    "    return t\n",
    "    \n",
    "t1 = run_enrich(q)\n",
    "t2 = run_enrich(q)\n",
    "print('t1:',t1,'\\nt2:',t2)"
   ]
  },
  {
   "cell_type": "code",
   "execution_count": null,
   "metadata": {},
   "outputs": [],
   "source": []
  },
  {
   "cell_type": "code",
   "execution_count": null,
   "metadata": {},
   "outputs": [],
   "source": []
  }
 ],
 "metadata": {
  "kernelspec": {
   "display_name": "firstEnv",
   "language": "python",
   "name": "firstenv"
  },
  "language_info": {
   "codemirror_mode": {
    "name": "ipython",
    "version": 3
   },
   "file_extension": ".py",
   "mimetype": "text/x-python",
   "name": "python",
   "nbconvert_exporter": "python",
   "pygments_lexer": "ipython3",
   "version": "3.7.6"
  }
 },
 "nbformat": 4,
 "nbformat_minor": 4
}
