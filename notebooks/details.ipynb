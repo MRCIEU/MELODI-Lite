{
 "cells": [
  {
   "cell_type": "markdown",
   "metadata": {},
   "source": [
    "# MELODI Presto API Example Usage"
   ]
  },
  {
   "cell_type": "code",
   "execution_count": 1,
   "metadata": {},
   "outputs": [],
   "source": [
    "import json\n",
    "import pandas as pd\n",
    "import requests\n",
    "import time\n",
    "from random import randint\n",
    "import scipy.stats as stats\n",
    "from utils import enrich, overlap, sentence"
   ]
  },
  {
   "cell_type": "markdown",
   "metadata": {},
   "source": [
    "### Configure parameters"
   ]
  },
  {
   "cell_type": "code",
   "execution_count": 2,
   "metadata": {},
   "outputs": [
    {
     "data": {
      "text/plain": [
       "True"
      ]
     },
     "execution_count": 2,
     "metadata": {},
     "output_type": "execute_result"
    }
   ],
   "source": [
    "API_URL = \"https://melodi-presto.mrcieu.ac.uk/api/\"\n",
    "\n",
    "requests.get(f\"{API_URL}/status\").json()"
   ]
  },
  {
   "cell_type": "markdown",
   "metadata": {},
   "source": [
    "### How the enrichment is performed\n",
    "\n",
    "This is a basic Fisher's exact test, using the scipy stats function.\n",
    "\n",
    "https://docs.scipy.org/doc/scipy/reference/generated/scipy.stats.fisher_exact.html"
   ]
  },
  {
   "cell_type": "code",
   "execution_count": 3,
   "metadata": {},
   "outputs": [
    {
     "data": {
      "text/plain": [
       "(126.81250303259678, 3.4724305806153405e-18)"
      ]
     },
     "execution_count": 3,
     "metadata": {},
     "output_type": "execute_result"
    }
   ],
   "source": [
    "import scipy.stats as stats\n",
    "\n",
    "queryTripleCount,queryTripleTotal,globalTripleCount,globalTripleTotal=[10,3505,147,6533824]\n",
    "oddsratio, pvalue = stats.fisher_exact([[queryTripleCount, queryTripleTotal], [globalTripleCount, globalTripleTotal]])\n",
    "oddsratio,pvalue"
   ]
  },
  {
   "cell_type": "markdown",
   "metadata": {},
   "source": [
    "### Performance \n",
    "\n",
    "We can compare the performance before and after the initial query. For example, if we use a query that has not already been run, e.g. `physical activity or 123`. In a PubMed search this returns over 550,000 articles. First time it takes over 20 seconds to run, creating a data set of around 10,000 triples, second time is a few seconds."
   ]
  },
  {
   "cell_type": "code",
   "execution_count": 5,
   "metadata": {},
   "outputs": [
    {
     "name": "stdout",
     "output_type": "stream",
     "text": [
      "physical activity or 504382\n",
      "(10381, 16)\n",
      "(10381, 16)\n",
      "t1: 32.0775 \n",
      "t2: 5.3735\n"
     ]
    }
   ],
   "source": [
    "r=randint(0, 1000000)\n",
    "q='physical activity or '+str(r)\n",
    "print(q)\n",
    "\n",
    "def run_enrich(query_term):\n",
    "    start = time.time()\n",
    "    enrich_df = enrich(q)\n",
    "    print(enrich_df.shape)\n",
    "    end = time.time()\n",
    "    t = \"{:.4f}\".format(end-start)\n",
    "    return t\n",
    "    \n",
    "t1 = run_enrich(q)\n",
    "t2 = run_enrich(q)\n",
    "print('t1:',t1,'\\nt2:',t2)"
   ]
  },
  {
   "cell_type": "markdown",
   "metadata": {},
   "source": [
    "Likewise, we can run the overlap query with two new queries, and then run again with the same"
   ]
  },
  {
   "cell_type": "code",
   "execution_count": 12,
   "metadata": {},
   "outputs": [
    {
     "name": "stdout",
     "output_type": "stream",
     "text": [
      "['vitamin d or 680522'] : ['prostate cancer or 680522']\n",
      "(530, 32)\n",
      "(530, 32)\n",
      "t1: 28.2129 \n",
      "t2: 1.0195\n"
     ]
    }
   ],
   "source": [
    "r=randint(0, 1000000)\n",
    "q1=['vitamin d or '+str(r)]\n",
    "q2=['prostate cancer or '+str(r)]\n",
    "print(q1,':',q2)\n",
    "\n",
    "def run_overlap(q1,q2):\n",
    "    start = time.time()\n",
    "    overlap_df = overlap(q1,q2)\n",
    "    print(overlap_df.shape)\n",
    "    end = time.time()\n",
    "    t = \"{:.4f}\".format(end-start)\n",
    "    return t\n",
    "    \n",
    "t1 = run_overlap(q1,q2)\n",
    "t2 = run_overlap(q1,q2)\n",
    "print('t1:',t1,'\\nt2:',t2)"
   ]
  },
  {
   "cell_type": "markdown",
   "metadata": {},
   "source": [
    "##### Comparing performance of similar tools\n",
    "\n",
    "To our knowledge, the only methods providing this kind of overlap analysis are Arrowsmith (http://arrowsmith.psych.uic.edu/) and MELODI (http://melodi.biocompute.org.uk/). A query of `vitamin d` and `prostate cancer` takes over 30 minutes on both platforms. "
   ]
  },
  {
   "cell_type": "markdown",
   "metadata": {},
   "source": [
    "### Comparing output\n",
    "\n",
    "We can attempt to compare the output of the same overlap query across the three platforms. In this case, MELODI Presto data will be derived in real time, whereas data from Arrowsmith and MELODI have to be pre-calculated and downloaded as CSV files.\n",
    "\n",
    "MELODI - http://melodi.biocompute.org.uk/results/b1741206-90ae-490b-8580-4ad7c50f7f45/  \n",
    "Arrowmsith - failed to complete (02/07/20):\n",
    "\n",
    "\n",
    "`Software error:\n",
    "file: ../../arrowsmith_uic/data/stopwords_pubmed: No such file or directory at /var/www/arrowsmith-uic/cgi-bin/arrowsmith_uic/Arrowsmith/general.pm line 21.\n",
    "For help, please send mail to the webmaster (neils@uic.edu), giving this error message and the time and date of the error.\n",
    "`\n",
    "\n",
    "##### Comparison of tools:\n",
    "\n",
    "| Tool | URL | Data source | Updated | Article limit | API | \n",
    "| --- | --- | --- | --- | --- | --- |\n",
    "|Arrowsmith | http://arrowsmith.psych.uic.edu/ | MEDLINE| 2014 | 50,000 | No |  \n",
    "|MELODI | http://melodi.biocompute.org.uk/ | SemMedDB | 2018 | 1,000,000 | No | \n",
    "|MELODI Presto | https://melodi-presto.mrcieu.ac.uk/ | SemMedDB | 2020 | Unlimited | Yes |"
   ]
  },
  {
   "cell_type": "code",
   "execution_count": 17,
   "metadata": {},
   "outputs": [
    {
     "data": {
      "text/plain": [
       "name3_type  name3                                 \n",
       "(aapp)      TRANSCRIPTION FACTOR (aapp)               27\n",
       "            Alkaline Phosphatase (aapp)                8\n",
       "            Transforming Growth Factor beta (aapp)     6\n",
       "            Interleukin-6 (aapp)                       4\n",
       "            Endopeptidases (aapp)                      3\n",
       "                                                      ..\n",
       "(prog)      Research Personnel (prog)                  1\n",
       "(strd)      Testosterone (strd)                       17\n",
       "            Steroids (strd)                            2\n",
       "(topp)      Supplementation (topp)                    30\n",
       "            Prophylactic treatment (topp)             15\n",
       "Name: name3, Length: 96, dtype: int64"
      ]
     },
     "execution_count": 17,
     "metadata": {},
     "output_type": "execute_result"
    }
   ],
   "source": [
    "#load the MELODI data\n",
    "melodi_df=pd.read_csv('melodi_result_4534.csv')\n",
    "#add column for overlap type\n",
    "melodi_df['name3_type'] = melodi_df.apply(lambda row: row.name3.split(' ')[-1], axis = 1)\n",
    "melodi_df.groupby('name3_type')['name3'].value_counts()"
   ]
  },
  {
   "cell_type": "code",
   "execution_count": null,
   "metadata": {},
   "outputs": [],
   "source": []
  }
 ],
 "metadata": {
  "kernelspec": {
   "display_name": "melodi-presto",
   "language": "python",
   "name": "myenv"
  },
  "language_info": {
   "codemirror_mode": {
    "name": "ipython",
    "version": 3
   },
   "file_extension": ".py",
   "mimetype": "text/x-python",
   "name": "python",
   "nbconvert_exporter": "python",
   "pygments_lexer": "ipython3",
   "version": "3.7.6"
  }
 },
 "nbformat": 4,
 "nbformat_minor": 4
}
