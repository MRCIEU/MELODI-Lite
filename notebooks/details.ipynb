{
 "cells": [
  {
   "cell_type": "markdown",
   "metadata": {},
   "source": [
    "# MELODI Presto API Example Usage"
   ]
  },
  {
   "cell_type": "code",
   "execution_count": 31,
   "metadata": {},
   "outputs": [],
   "source": [
    "import json\n",
    "import pandas as pd\n",
    "import requests\n",
    "import time\n",
    "from random import randint\n",
    "import scipy.stats as stats"
   ]
  },
  {
   "cell_type": "markdown",
   "metadata": {},
   "source": [
    "## Configure parameters"
   ]
  },
  {
   "cell_type": "code",
   "execution_count": 2,
   "metadata": {},
   "outputs": [
    {
     "data": {
      "text/plain": [
       "True"
      ]
     },
     "execution_count": 2,
     "metadata": {},
     "output_type": "execute_result"
    }
   ],
   "source": [
    "API_URL = \"https://melodi-presto.mrcieu.ac.uk/api/\"\n",
    "\n",
    "requests.get(f\"{API_URL}/status\").json()"
   ]
  },
  {
   "cell_type": "markdown",
   "metadata": {},
   "source": [
    "### How the enrichment is performed\n",
    "\n",
    "This is a basic Fisher's exact test, using the scipy stats function.\n",
    "\n",
    "https://docs.scipy.org/doc/scipy/reference/generated/scipy.stats.fisher_exact.html"
   ]
  },
  {
   "cell_type": "code",
   "execution_count": 36,
   "metadata": {},
   "outputs": [
    {
     "data": {
      "text/plain": [
       "(126.81250303259678, 3.4724305806153405e-18)"
      ]
     },
     "execution_count": 36,
     "metadata": {},
     "output_type": "execute_result"
    }
   ],
   "source": [
    "import scipy.stats as stats\n",
    "\n",
    "queryTripleCount,queryTripleTotal,globalTripleCount,globalTripleTotal=[10,3505,147,6533824]\n",
    "oddsratio, pvalue = stats.fisher_exact([[queryTripleCount, queryTripleTotal], [globalTripleCount, globalTripleTotal]])\n",
    "oddsratio,pvalue"
   ]
  },
  {
   "cell_type": "markdown",
   "metadata": {},
   "source": [
    "### Performance example\n",
    "\n",
    "We can compare the performance before and after the initial query. For example, if we use a query that has not already been run, e.g. `physical activity or 123`. In a PubMed search this returns over 550,000 articles. First time it takes over 20 seconds to run, creating a data set of 9,000 triples, second time should be a few seconds."
   ]
  },
  {
   "cell_type": "code",
   "execution_count": 30,
   "metadata": {},
   "outputs": [
    {
     "name": "stdout",
     "output_type": "stream",
     "text": [
      "physical activity or 113648\n",
      "(9035, 16)\n",
      "(9035, 16)\n",
      "t1: 22.8531 \n",
      "t2: 3.4203\n"
     ]
    }
   ],
   "source": [
    "r=randint(0, 1000000)\n",
    "q='physical activity or '+str(r)\n",
    "print(q)\n",
    "\n",
    "def run_enrich(query_term):\n",
    "    start = time.time()\n",
    "\n",
    "    endpoint = \"/enrich/\"\n",
    "    url = f\"{API_URL}{endpoint}\"\n",
    "    params = {\n",
    "        \"query\": query_term,\n",
    "    }\n",
    "    response = requests.post(url, data=json.dumps(params))\n",
    "    res = response.json()\n",
    "    enrich_df = (\n",
    "            pd.json_normalize(res)\n",
    "    )\n",
    "    print(enrich_df.shape)\n",
    "    end = time.time()\n",
    "    t = \"{:.4f}\".format(end-start)\n",
    "    return t\n",
    "    \n",
    "t1 = run_enrich(q)\n",
    "t2 = run_enrich(q)\n",
    "print('t1:',t1,'\\nt2:',t2)"
   ]
  },
  {
   "cell_type": "code",
   "execution_count": null,
   "metadata": {},
   "outputs": [],
   "source": []
  },
  {
   "cell_type": "code",
   "execution_count": null,
   "metadata": {},
   "outputs": [],
   "source": []
  }
 ],
 "metadata": {
  "kernelspec": {
   "display_name": "firstEnv",
   "language": "python",
   "name": "firstenv"
  },
  "language_info": {
   "codemirror_mode": {
    "name": "ipython",
    "version": 3
   },
   "file_extension": ".py",
   "mimetype": "text/x-python",
   "name": "python",
   "nbconvert_exporter": "python",
   "pygments_lexer": "ipython3",
   "version": "3.7.6"
  }
 },
 "nbformat": 4,
 "nbformat_minor": 4
}
